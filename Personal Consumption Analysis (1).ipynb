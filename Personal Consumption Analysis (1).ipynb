{
 "cells": [
  {
   "cell_type": "markdown",
   "metadata": {},
   "source": [
    "# Importing Libraries, Data and Support Functions"
   ]
  },
  {
   "cell_type": "code",
   "execution_count": 1,
   "metadata": {},
   "outputs": [],
   "source": [
    "%load_ext autoreload\n",
    "%autoreload 2\n",
    "\n",
    "%matplotlib inline"
   ]
  },
  {
   "cell_type": "code",
   "execution_count": 2,
   "metadata": {},
   "outputs": [
    {
     "name": "stderr",
     "output_type": "stream",
     "text": [
      "/usr/local/lib/python3.6/dist-packages/sklearn/ensemble/weight_boosting.py:29: DeprecationWarning: numpy.core.umath_tests is an internal NumPy module and should not be imported. It will be removed in a future NumPy release.\n",
      "  from numpy.core.umath_tests import inner1d\n"
     ]
    }
   ],
   "source": [
    "from fastai.imports import *\n",
    "from fastai.structured import *\n",
    "\n",
    "from pandas_summary import DataFrameSummary\n",
    "from sklearn.ensemble import RandomForestRegressor, RandomForestClassifier\n",
    "from IPython.display import display\n",
    "\n",
    "from sklearn import metrics"
   ]
  },
  {
   "cell_type": "code",
   "execution_count": 3,
   "metadata": {},
   "outputs": [],
   "source": [
    "PATH = \"psdata/\""
   ]
  },
  {
   "cell_type": "code",
   "execution_count": 4,
   "metadata": {},
   "outputs": [
    {
     "name": "stdout",
     "output_type": "stream",
     "text": [
      "Bank Statement.csv\r\n"
     ]
    }
   ],
   "source": [
    "!ls {PATH}"
   ]
  },
  {
   "cell_type": "code",
   "execution_count": 5,
   "metadata": {},
   "outputs": [],
   "source": [
    "data = pd.read_csv(f'{PATH}Bank Statement.csv')"
   ]
  },
  {
   "cell_type": "markdown",
   "metadata": {},
   "source": [
    "## Creating support Functions"
   ]
  },
  {
   "cell_type": "code",
   "execution_count": 6,
   "metadata": {},
   "outputs": [],
   "source": [
    "def display_all(df):\n",
    "    with pd.option_context(\"display.max_rows\", 1000, \"display.max_columns\", 1000): \n",
    "        display(df)"
   ]
  },
  {
   "cell_type": "code",
   "execution_count": 7,
   "metadata": {},
   "outputs": [],
   "source": [
    "?display()"
   ]
  },
  {
   "cell_type": "code",
   "execution_count": 8,
   "metadata": {},
   "outputs": [],
   "source": [
    "def clean_col(inputlst):\n",
    "    col_list = []\n",
    "    for col in inputlst:\n",
    "        col = col.strip()\n",
    "        col = col.lower()\n",
    "        col = col.replace(\" \", \"_\")\n",
    "        col = col.replace(\"(\", \"\")\n",
    "        col = col.replace(\")\", \"\")\n",
    "        col = col.strip()\n",
    "        col_list.append(col)\n",
    "    return col_list"
   ]
  },
  {
   "cell_type": "code",
   "execution_count": 9,
   "metadata": {},
   "outputs": [],
   "source": [
    "def clean_str(inputstr):\n",
    "    floats = []\n",
    "    for row in inputstr:\n",
    "        row = row.replace(\"  \",\"0\")\n",
    "        floats.append(row)\n",
    "    return floats"
   ]
  },
  {
   "cell_type": "code",
   "execution_count": 10,
   "metadata": {},
   "outputs": [],
   "source": [
    "def clean_str2(inputstr):\n",
    "    floats = []\n",
    "    for row in inputstr:\n",
    "        if row == \"  \":\n",
    "            row = row.replace(\"  \",\"0\")\n",
    "            floats.append(row)\n",
    "        else:\n",
    "            floats.append(row)\n",
    "    return floats"
   ]
  },
  {
   "cell_type": "code",
   "execution_count": 11,
   "metadata": {},
   "outputs": [],
   "source": [
    "def clean_ex(lst):\n",
    "    clean_exg = []\n",
    "    for row in lst:\n",
    "        if row == 0:\n",
    "            row = float(row)\n",
    "            clean_exg.append(row)\n",
    "        elif \"EUR\" in row:\n",
    "            row = row.replace(\"EUR\",\"\")\n",
    "            row = row.strip()\n",
    "            row = float(row)\n",
    "            clean_exg.append(row)\n",
    "        elif \"GBP\" in row:\n",
    "            row = row.replace(\"GBP\",\" \")\n",
    "            row = row.strip()\n",
    "            row = float(row)\n",
    "            clean_exg.append(row)\n",
    "    return clean_exg\n",
    "            "
   ]
  },
  {
   "cell_type": "code",
   "execution_count": 296,
   "metadata": {},
   "outputs": [],
   "source": [
    "def rmse(x,y): return math.sqrt(((x-y)**2).mean())\n",
    "\n",
    "def print_score(m):\n",
    "    res = [rmse(m.predict(X_train), y_train), rmse(m.predict(X_test), y_test),\n",
    "                m.score(X_train, y_train), m.score(X_test, y_test)]\n",
    "    if hasattr(m, 'oob_score_'): res.append(m.oob_score_)\n",
    "    print(res)"
   ]
  },
  {
   "cell_type": "markdown",
   "metadata": {},
   "source": [
    "#  1. Inspecting Data"
   ]
  },
  {
   "cell_type": "code",
   "execution_count": 12,
   "metadata": {},
   "outputs": [
    {
     "data": {
      "text/html": [
       "<div>\n",
       "<style scoped>\n",
       "    .dataframe tbody tr th:only-of-type {\n",
       "        vertical-align: middle;\n",
       "    }\n",
       "\n",
       "    .dataframe tbody tr th {\n",
       "        vertical-align: top;\n",
       "    }\n",
       "\n",
       "    .dataframe thead th {\n",
       "        text-align: right;\n",
       "    }\n",
       "</style>\n",
       "<table border=\"1\" class=\"dataframe\">\n",
       "  <thead>\n",
       "    <tr style=\"text-align: right;\">\n",
       "      <th></th>\n",
       "      <th>Completed Date</th>\n",
       "      <th>Description</th>\n",
       "      <th>Paid Out (GBP)</th>\n",
       "      <th>Paid In (GBP)</th>\n",
       "      <th>Exchange Out</th>\n",
       "      <th>Exchange In</th>\n",
       "      <th>Balance (GBP)</th>\n",
       "      <th>Category</th>\n",
       "      <th>Notes</th>\n",
       "    </tr>\n",
       "  </thead>\n",
       "  <tbody>\n",
       "    <tr>\n",
       "      <th>0</th>\n",
       "      <td>06-Mar-19</td>\n",
       "      <td>Transport for London</td>\n",
       "      <td>6.3</td>\n",
       "      <td></td>\n",
       "      <td></td>\n",
       "      <td></td>\n",
       "      <td>-5.43</td>\n",
       "      <td>transport</td>\n",
       "      <td></td>\n",
       "    </tr>\n",
       "    <tr>\n",
       "      <th>1</th>\n",
       "      <td>05-Mar-19</td>\n",
       "      <td>Transport for London</td>\n",
       "      <td>8</td>\n",
       "      <td></td>\n",
       "      <td></td>\n",
       "      <td></td>\n",
       "      <td>12.44</td>\n",
       "      <td>transport</td>\n",
       "      <td></td>\n",
       "    </tr>\n",
       "    <tr>\n",
       "      <th>2</th>\n",
       "      <td>03-Mar-19</td>\n",
       "      <td>From Holidays</td>\n",
       "      <td></td>\n",
       "      <td>2.02</td>\n",
       "      <td></td>\n",
       "      <td></td>\n",
       "      <td>20.44</td>\n",
       "      <td>transfers</td>\n",
       "      <td></td>\n",
       "    </tr>\n",
       "    <tr>\n",
       "      <th>3</th>\n",
       "      <td>03-Mar-19</td>\n",
       "      <td>Uberbv</td>\n",
       "      <td>6</td>\n",
       "      <td></td>\n",
       "      <td></td>\n",
       "      <td></td>\n",
       "      <td>0.87</td>\n",
       "      <td>transport</td>\n",
       "      <td></td>\n",
       "    </tr>\n",
       "    <tr>\n",
       "      <th>4</th>\n",
       "      <td>03-Mar-19</td>\n",
       "      <td>From Luca Mircoli</td>\n",
       "      <td></td>\n",
       "      <td>10</td>\n",
       "      <td></td>\n",
       "      <td></td>\n",
       "      <td>18.42</td>\n",
       "      <td>transfers</td>\n",
       "      <td></td>\n",
       "    </tr>\n",
       "  </tbody>\n",
       "</table>\n",
       "</div>"
      ],
      "text/plain": [
       "  Completed Date              Description   Paid Out (GBP)   Paid In (GBP)   \\\n",
       "0       06-Mar-19   Transport for London                6.3                   \n",
       "1       05-Mar-19   Transport for London                  8                   \n",
       "2       03-Mar-19         From Holidays                                2.02   \n",
       "3       03-Mar-19                 Uberbv                  6                   \n",
       "4       03-Mar-19      From Luca Mircoli                                 10   \n",
       "\n",
       "   Exchange Out  Exchange In   Balance (GBP)    Category  Notes  \n",
       "0                                      -5.43   transport         \n",
       "1                                      12.44   transport         \n",
       "2                                      20.44   transfers         \n",
       "3                                       0.87   transport         \n",
       "4                                      18.42   transfers         "
      ]
     },
     "execution_count": 12,
     "metadata": {},
     "output_type": "execute_result"
    }
   ],
   "source": [
    "data.head()"
   ]
  },
  {
   "cell_type": "code",
   "execution_count": 13,
   "metadata": {},
   "outputs": [
    {
     "data": {
      "text/html": [
       "<div>\n",
       "<style scoped>\n",
       "    .dataframe tbody tr th:only-of-type {\n",
       "        vertical-align: middle;\n",
       "    }\n",
       "\n",
       "    .dataframe tbody tr th {\n",
       "        vertical-align: top;\n",
       "    }\n",
       "\n",
       "    .dataframe thead th {\n",
       "        text-align: right;\n",
       "    }\n",
       "</style>\n",
       "<table border=\"1\" class=\"dataframe\">\n",
       "  <thead>\n",
       "    <tr style=\"text-align: right;\">\n",
       "      <th></th>\n",
       "      <th>Completed Date</th>\n",
       "      <th>Description</th>\n",
       "      <th>Paid Out (GBP)</th>\n",
       "      <th>Paid In (GBP)</th>\n",
       "      <th>Exchange Out</th>\n",
       "      <th>Exchange In</th>\n",
       "      <th>Balance (GBP)</th>\n",
       "      <th>Category</th>\n",
       "      <th>Notes</th>\n",
       "    </tr>\n",
       "  </thead>\n",
       "  <tbody>\n",
       "    <tr>\n",
       "      <th>count</th>\n",
       "      <td>2272</td>\n",
       "      <td>2272</td>\n",
       "      <td>2272</td>\n",
       "      <td>2257</td>\n",
       "      <td>2246</td>\n",
       "      <td>2245</td>\n",
       "      <td>2245.000000</td>\n",
       "      <td>2099</td>\n",
       "      <td>2099</td>\n",
       "    </tr>\n",
       "    <tr>\n",
       "      <th>unique</th>\n",
       "      <td>436</td>\n",
       "      <td>454</td>\n",
       "      <td>637</td>\n",
       "      <td>144</td>\n",
       "      <td>60</td>\n",
       "      <td>1</td>\n",
       "      <td>NaN</td>\n",
       "      <td>12</td>\n",
       "      <td>28</td>\n",
       "    </tr>\n",
       "    <tr>\n",
       "      <th>top</th>\n",
       "      <td>14-Jan-19</td>\n",
       "      <td>To Holidays</td>\n",
       "      <td></td>\n",
       "      <td></td>\n",
       "      <td></td>\n",
       "      <td></td>\n",
       "      <td>NaN</td>\n",
       "      <td>transfers</td>\n",
       "      <td></td>\n",
       "    </tr>\n",
       "    <tr>\n",
       "      <th>freq</th>\n",
       "      <td>21</td>\n",
       "      <td>708</td>\n",
       "      <td>204</td>\n",
       "      <td>2053</td>\n",
       "      <td>2165</td>\n",
       "      <td>2245</td>\n",
       "      <td>NaN</td>\n",
       "      <td>874</td>\n",
       "      <td>2047</td>\n",
       "    </tr>\n",
       "    <tr>\n",
       "      <th>mean</th>\n",
       "      <td>NaN</td>\n",
       "      <td>NaN</td>\n",
       "      <td>NaN</td>\n",
       "      <td>NaN</td>\n",
       "      <td>NaN</td>\n",
       "      <td>NaN</td>\n",
       "      <td>241.032459</td>\n",
       "      <td>NaN</td>\n",
       "      <td>NaN</td>\n",
       "    </tr>\n",
       "    <tr>\n",
       "      <th>std</th>\n",
       "      <td>NaN</td>\n",
       "      <td>NaN</td>\n",
       "      <td>NaN</td>\n",
       "      <td>NaN</td>\n",
       "      <td>NaN</td>\n",
       "      <td>NaN</td>\n",
       "      <td>212.981127</td>\n",
       "      <td>NaN</td>\n",
       "      <td>NaN</td>\n",
       "    </tr>\n",
       "    <tr>\n",
       "      <th>min</th>\n",
       "      <td>NaN</td>\n",
       "      <td>NaN</td>\n",
       "      <td>NaN</td>\n",
       "      <td>NaN</td>\n",
       "      <td>NaN</td>\n",
       "      <td>NaN</td>\n",
       "      <td>-5.430000</td>\n",
       "      <td>NaN</td>\n",
       "      <td>NaN</td>\n",
       "    </tr>\n",
       "    <tr>\n",
       "      <th>25%</th>\n",
       "      <td>NaN</td>\n",
       "      <td>NaN</td>\n",
       "      <td>NaN</td>\n",
       "      <td>NaN</td>\n",
       "      <td>NaN</td>\n",
       "      <td>NaN</td>\n",
       "      <td>80.930000</td>\n",
       "      <td>NaN</td>\n",
       "      <td>NaN</td>\n",
       "    </tr>\n",
       "    <tr>\n",
       "      <th>50%</th>\n",
       "      <td>NaN</td>\n",
       "      <td>NaN</td>\n",
       "      <td>NaN</td>\n",
       "      <td>NaN</td>\n",
       "      <td>NaN</td>\n",
       "      <td>NaN</td>\n",
       "      <td>192.480000</td>\n",
       "      <td>NaN</td>\n",
       "      <td>NaN</td>\n",
       "    </tr>\n",
       "    <tr>\n",
       "      <th>75%</th>\n",
       "      <td>NaN</td>\n",
       "      <td>NaN</td>\n",
       "      <td>NaN</td>\n",
       "      <td>NaN</td>\n",
       "      <td>NaN</td>\n",
       "      <td>NaN</td>\n",
       "      <td>337.620000</td>\n",
       "      <td>NaN</td>\n",
       "      <td>NaN</td>\n",
       "    </tr>\n",
       "    <tr>\n",
       "      <th>max</th>\n",
       "      <td>NaN</td>\n",
       "      <td>NaN</td>\n",
       "      <td>NaN</td>\n",
       "      <td>NaN</td>\n",
       "      <td>NaN</td>\n",
       "      <td>NaN</td>\n",
       "      <td>998.460000</td>\n",
       "      <td>NaN</td>\n",
       "      <td>NaN</td>\n",
       "    </tr>\n",
       "  </tbody>\n",
       "</table>\n",
       "</div>"
      ],
      "text/plain": [
       "       Completed Date      Description   Paid Out (GBP)   Paid In (GBP)   \\\n",
       "count             2272             2272             2272            2257   \n",
       "unique             436              454              637             144   \n",
       "top          14-Jan-19   To Holidays                                       \n",
       "freq                21              708              204            2053   \n",
       "mean               NaN              NaN              NaN             NaN   \n",
       "std                NaN              NaN              NaN             NaN   \n",
       "min                NaN              NaN              NaN             NaN   \n",
       "25%                NaN              NaN              NaN             NaN   \n",
       "50%                NaN              NaN              NaN             NaN   \n",
       "75%                NaN              NaN              NaN             NaN   \n",
       "max                NaN              NaN              NaN             NaN   \n",
       "\n",
       "        Exchange Out  Exchange In   Balance (GBP)    Category  Notes  \n",
       "count           2246         2245     2245.000000        2099   2099  \n",
       "unique            60            1             NaN          12     28  \n",
       "top                                           NaN   transfers         \n",
       "freq            2165         2245             NaN         874   2047  \n",
       "mean             NaN          NaN      241.032459         NaN    NaN  \n",
       "std              NaN          NaN      212.981127         NaN    NaN  \n",
       "min              NaN          NaN       -5.430000         NaN    NaN  \n",
       "25%              NaN          NaN       80.930000         NaN    NaN  \n",
       "50%              NaN          NaN      192.480000         NaN    NaN  \n",
       "75%              NaN          NaN      337.620000         NaN    NaN  \n",
       "max              NaN          NaN      998.460000         NaN    NaN  "
      ]
     },
     "metadata": {},
     "output_type": "display_data"
    }
   ],
   "source": [
    "display_all(data.describe(include='all'))"
   ]
  },
  {
   "cell_type": "markdown",
   "metadata": {},
   "source": [
    "# 2. Data Cleaning"
   ]
  },
  {
   "cell_type": "code",
   "execution_count": 14,
   "metadata": {},
   "outputs": [
    {
     "data": {
      "text/plain": [
       "Index(['Completed Date ', ' Description ', ' Paid Out (GBP) ',\n",
       "       ' Paid In (GBP) ', ' Exchange Out', ' Exchange In', ' Balance (GBP)',\n",
       "       ' Category', ' Notes'],\n",
       "      dtype='object')"
      ]
     },
     "execution_count": 14,
     "metadata": {},
     "output_type": "execute_result"
    }
   ],
   "source": [
    "data.columns"
   ]
  },
  {
   "cell_type": "markdown",
   "metadata": {},
   "source": [
    "### 2.1 Cleaning Columns Names"
   ]
  },
  {
   "cell_type": "code",
   "execution_count": 15,
   "metadata": {},
   "outputs": [
    {
     "name": "stdout",
     "output_type": "stream",
     "text": [
      "Index(['completed_date', 'description', 'paid_out_gbp', 'paid_in_gbp',\n",
      "       'exchange_out', 'exchange_in', 'balance_gbp', 'category', 'notes'],\n",
      "      dtype='object')\n"
     ]
    }
   ],
   "source": [
    "data.columns = clean_col(data.columns)\n",
    "print(data.columns)"
   ]
  },
  {
   "cell_type": "code",
   "execution_count": 16,
   "metadata": {},
   "outputs": [
    {
     "data": {
      "text/plain": [
       "completed_date     object\n",
       "description        object\n",
       "paid_out_gbp       object\n",
       "paid_in_gbp        object\n",
       "exchange_out       object\n",
       "exchange_in        object\n",
       "balance_gbp       float64\n",
       "category           object\n",
       "notes              object\n",
       "dtype: object"
      ]
     },
     "execution_count": 16,
     "metadata": {},
     "output_type": "execute_result"
    }
   ],
   "source": [
    "data.dtypes"
   ]
  },
  {
   "cell_type": "markdown",
   "metadata": {},
   "source": [
    "### 2.2 Cleaning \"description\""
   ]
  },
  {
   "cell_type": "code",
   "execution_count": 17,
   "metadata": {},
   "outputs": [
    {
     "data": {
      "text/plain": [
       "[' Transport for London  ',\n",
       " ' Transport for London  ',\n",
       " ' From Holidays   ',\n",
       " ' Uberbv  ',\n",
       " ' From Luca Mircoli  ']"
      ]
     },
     "execution_count": 17,
     "metadata": {},
     "output_type": "execute_result"
    }
   ],
   "source": [
    "list(data[\"description\"].head())"
   ]
  },
  {
   "cell_type": "code",
   "execution_count": 18,
   "metadata": {},
   "outputs": [
    {
     "name": "stdout",
     "output_type": "stream",
     "text": [
      "0         transport_for_london\n",
      "1         transport_for_london\n",
      "2                from_holidays\n",
      "3                       uberbv\n",
      "4            from_luca_mircoli\n",
      "5                  to_holidays\n",
      "6                       uberbv\n",
      "7            from_luca_mircoli\n",
      "8       to_christopher_maclean\n",
      "9    payment_from_kamenskikh_k\n",
      "Name: description, dtype: object 2262                        to_lorenz_maresca\n",
      "2263                   payment_from_l_maresca\n",
      "2264                     transport_for_london\n",
      "2265          payment_from_complete_accountin\n",
      "2266    exchange_gbp_to__fx_rate_£1_=_€1.0748\n",
      "2267                   payment_from_l_maresca\n",
      "2268    exchange_gbp_to__fx_rate_£1_=_€1.0836\n",
      "2269                   payment_from_l_maresca\n",
      "2270                        card_delivery_fee\n",
      "2271                     top-up_via_apple_pay\n",
      "Name: description, dtype: object\n"
     ]
    }
   ],
   "source": [
    "data[\"description\"] = clean_col(data[\"description\"])\n",
    "print(data[\"description\"].head(10), data[\"description\"].tail(10))"
   ]
  },
  {
   "cell_type": "markdown",
   "metadata": {},
   "source": [
    "### 2.3 Converting \"paid_out_gbp\" to float"
   ]
  },
  {
   "cell_type": "code",
   "execution_count": 19,
   "metadata": {},
   "outputs": [],
   "source": [
    "data[\"paid_out_gbp\"] = clean_str(data[\"paid_out_gbp\"])"
   ]
  },
  {
   "cell_type": "code",
   "execution_count": 20,
   "metadata": {},
   "outputs": [],
   "source": [
    "data[\"paid_out_gbp\"] = data[\"paid_out_gbp\"].astype(float)"
   ]
  },
  {
   "cell_type": "code",
   "execution_count": 21,
   "metadata": {},
   "outputs": [
    {
     "data": {
      "text/plain": [
       "completed_date     object\n",
       "description        object\n",
       "paid_out_gbp      float64\n",
       "paid_in_gbp        object\n",
       "exchange_out       object\n",
       "exchange_in        object\n",
       "balance_gbp       float64\n",
       "category           object\n",
       "notes              object\n",
       "dtype: object"
      ]
     },
     "execution_count": 21,
     "metadata": {},
     "output_type": "execute_result"
    }
   ],
   "source": [
    "data.dtypes"
   ]
  },
  {
   "cell_type": "markdown",
   "metadata": {},
   "source": [
    "### 2.4 Converting \"paid_in_gbp\" to float"
   ]
  },
  {
   "cell_type": "code",
   "execution_count": 22,
   "metadata": {},
   "outputs": [],
   "source": [
    "data[\"paid_in_gbp\"] = data[\"paid_in_gbp\"].fillna(0)\n",
    "data[\"paid_in_gbp\"] = clean_str2(data[\"paid_in_gbp\"])"
   ]
  },
  {
   "cell_type": "code",
   "execution_count": 23,
   "metadata": {},
   "outputs": [],
   "source": [
    "data[\"paid_in_gbp\"] = data[\"paid_in_gbp\"].astype(float)"
   ]
  },
  {
   "cell_type": "code",
   "execution_count": 24,
   "metadata": {},
   "outputs": [
    {
     "data": {
      "text/plain": [
       "completed_date     object\n",
       "description        object\n",
       "paid_out_gbp      float64\n",
       "paid_in_gbp       float64\n",
       "exchange_out       object\n",
       "exchange_in        object\n",
       "balance_gbp       float64\n",
       "category           object\n",
       "notes              object\n",
       "dtype: object"
      ]
     },
     "execution_count": 24,
     "metadata": {},
     "output_type": "execute_result"
    }
   ],
   "source": [
    "data.dtypes"
   ]
  },
  {
   "cell_type": "markdown",
   "metadata": {},
   "source": [
    "### 2.5 Cleaning \"exchange_out\""
   ]
  },
  {
   "cell_type": "code",
   "execution_count": 25,
   "metadata": {},
   "outputs": [],
   "source": [
    "data[\"exchange_out\"] = data[\"exchange_out\"].fillna(0)"
   ]
  },
  {
   "cell_type": "code",
   "execution_count": 26,
   "metadata": {},
   "outputs": [
    {
     "name": "stderr",
     "output_type": "stream",
     "text": [
      "/usr/local/lib/python3.6/dist-packages/ipykernel_launcher.py:2: SettingWithCopyWarning: \n",
      "A value is trying to be set on a copy of a slice from a DataFrame\n",
      "\n",
      "See the caveats in the documentation: http://pandas.pydata.org/pandas-docs/stable/indexing.html#indexing-view-versus-copy\n",
      "  \n"
     ]
    }
   ],
   "source": [
    "for i in data.columns:\n",
    "    data[i][data[i].apply(lambda i: True if re.search('^\\s*$', str(i)) else False)]=None"
   ]
  },
  {
   "cell_type": "code",
   "execution_count": 27,
   "metadata": {},
   "outputs": [
    {
     "data": {
      "text/plain": [
       "0                26\n",
       "  EUR 500.00      6\n",
       "  EUR 100.00      4\n",
       "  EUR 800.00      4\n",
       "  EUR 150.00      4\n",
       "Name: exchange_out, dtype: int64"
      ]
     },
     "execution_count": 27,
     "metadata": {},
     "output_type": "execute_result"
    }
   ],
   "source": [
    "data[\"exchange_out\"].value_counts().head()"
   ]
  },
  {
   "cell_type": "code",
   "execution_count": 28,
   "metadata": {},
   "outputs": [],
   "source": [
    "data[\"exchange_out\"] = data[\"exchange_out\"].fillna(0)"
   ]
  },
  {
   "cell_type": "code",
   "execution_count": 29,
   "metadata": {},
   "outputs": [
    {
     "data": {
      "text/plain": [
       "0                2191\n",
       "  EUR 500.00        6\n",
       "  EUR 100.00        4\n",
       "  EUR 800.00        4\n",
       "  EUR 150.00        4\n",
       "Name: exchange_out, dtype: int64"
      ]
     },
     "execution_count": 29,
     "metadata": {},
     "output_type": "execute_result"
    }
   ],
   "source": [
    "data[\"exchange_out\"].value_counts().head()"
   ]
  },
  {
   "cell_type": "code",
   "execution_count": 30,
   "metadata": {},
   "outputs": [],
   "source": [
    "data[\"exchange_out\"] = clean_ex(data[\"exchange_out\"])"
   ]
  },
  {
   "cell_type": "code",
   "execution_count": 31,
   "metadata": {},
   "outputs": [
    {
     "data": {
      "text/plain": [
       "0.0      2191\n",
       "500.0       6\n",
       "100.0       6\n",
       "150.0       6\n",
       "200.0       5\n",
       "Name: exchange_out, dtype: int64"
      ]
     },
     "execution_count": 31,
     "metadata": {},
     "output_type": "execute_result"
    }
   ],
   "source": [
    "data[\"exchange_out\"].value_counts().head()"
   ]
  },
  {
   "cell_type": "code",
   "execution_count": 32,
   "metadata": {},
   "outputs": [
    {
     "data": {
      "text/plain": [
       "completed_date     object\n",
       "description        object\n",
       "paid_out_gbp      float64\n",
       "paid_in_gbp       float64\n",
       "exchange_out      float64\n",
       "exchange_in        object\n",
       "balance_gbp       float64\n",
       "category           object\n",
       "notes              object\n",
       "dtype: object"
      ]
     },
     "execution_count": 32,
     "metadata": {},
     "output_type": "execute_result"
    }
   ],
   "source": [
    "data.dtypes"
   ]
  },
  {
   "cell_type": "markdown",
   "metadata": {},
   "source": [
    "### 2.6 Cleaning \"exchange_in\""
   ]
  },
  {
   "cell_type": "code",
   "execution_count": 33,
   "metadata": {},
   "outputs": [],
   "source": [
    "data[\"exchange_in\"] = data[\"exchange_in\"].fillna(0)"
   ]
  },
  {
   "cell_type": "code",
   "execution_count": 34,
   "metadata": {},
   "outputs": [],
   "source": [
    "data[\"exchange_in\"] =clean_ex(data[\"exchange_in\"])"
   ]
  },
  {
   "cell_type": "code",
   "execution_count": 35,
   "metadata": {},
   "outputs": [
    {
     "data": {
      "text/plain": [
       "0.0    2272\n",
       "Name: exchange_in, dtype: int64"
      ]
     },
     "execution_count": 35,
     "metadata": {},
     "output_type": "execute_result"
    }
   ],
   "source": [
    "data[\"exchange_in\"].value_counts()"
   ]
  },
  {
   "cell_type": "code",
   "execution_count": 36,
   "metadata": {},
   "outputs": [
    {
     "data": {
      "text/plain": [
       "completed_date     object\n",
       "description        object\n",
       "paid_out_gbp      float64\n",
       "paid_in_gbp       float64\n",
       "exchange_out      float64\n",
       "exchange_in       float64\n",
       "balance_gbp       float64\n",
       "category           object\n",
       "notes              object\n",
       "dtype: object"
      ]
     },
     "execution_count": 36,
     "metadata": {},
     "output_type": "execute_result"
    }
   ],
   "source": [
    "data.dtypes"
   ]
  },
  {
   "cell_type": "markdown",
   "metadata": {},
   "source": [
    "### 2.7 Cleaning \"balance_gdp\""
   ]
  },
  {
   "cell_type": "code",
   "execution_count": 37,
   "metadata": {},
   "outputs": [],
   "source": [
    "data[\"balance_gbp\"] = data[\"balance_gbp\"].fillna(0)"
   ]
  },
  {
   "cell_type": "markdown",
   "metadata": {},
   "source": [
    "### 2.8 Cleaning \"date\""
   ]
  },
  {
   "cell_type": "code",
   "execution_count": 38,
   "metadata": {},
   "outputs": [
    {
     "data": {
      "text/plain": [
       "completed_date    datetime64[ns]\n",
       "description               object\n",
       "paid_out_gbp             float64\n",
       "paid_in_gbp              float64\n",
       "exchange_out             float64\n",
       "exchange_in              float64\n",
       "balance_gbp              float64\n",
       "category                  object\n",
       "notes                     object\n",
       "dtype: object"
      ]
     },
     "execution_count": 38,
     "metadata": {},
     "output_type": "execute_result"
    }
   ],
   "source": [
    "data[\"completed_date\"] = pd.to_datetime(data[\"completed_date\"])\n",
    "data.dtypes"
   ]
  },
  {
   "cell_type": "code",
   "execution_count": 39,
   "metadata": {},
   "outputs": [
    {
     "data": {
      "text/html": [
       "<div>\n",
       "<style scoped>\n",
       "    .dataframe tbody tr th:only-of-type {\n",
       "        vertical-align: middle;\n",
       "    }\n",
       "\n",
       "    .dataframe tbody tr th {\n",
       "        vertical-align: top;\n",
       "    }\n",
       "\n",
       "    .dataframe thead th {\n",
       "        text-align: right;\n",
       "    }\n",
       "</style>\n",
       "<table border=\"1\" class=\"dataframe\">\n",
       "  <thead>\n",
       "    <tr style=\"text-align: right;\">\n",
       "      <th></th>\n",
       "      <th>description</th>\n",
       "      <th>paid_out_gbp</th>\n",
       "      <th>paid_in_gbp</th>\n",
       "      <th>exchange_out</th>\n",
       "      <th>exchange_in</th>\n",
       "      <th>balance_gbp</th>\n",
       "      <th>category</th>\n",
       "      <th>notes</th>\n",
       "      <th>completed_Year</th>\n",
       "      <th>completed_Month</th>\n",
       "      <th>...</th>\n",
       "      <th>completed_Day</th>\n",
       "      <th>completed_Dayofweek</th>\n",
       "      <th>completed_Dayofyear</th>\n",
       "      <th>completed_Is_month_end</th>\n",
       "      <th>completed_Is_month_start</th>\n",
       "      <th>completed_Is_quarter_end</th>\n",
       "      <th>completed_Is_quarter_start</th>\n",
       "      <th>completed_Is_year_end</th>\n",
       "      <th>completed_Is_year_start</th>\n",
       "      <th>completed_Elapsed</th>\n",
       "    </tr>\n",
       "  </thead>\n",
       "  <tbody>\n",
       "    <tr>\n",
       "      <th>0</th>\n",
       "      <td>transport_for_london</td>\n",
       "      <td>6.3</td>\n",
       "      <td>0.00</td>\n",
       "      <td>0.0</td>\n",
       "      <td>0.0</td>\n",
       "      <td>-5.43</td>\n",
       "      <td>transport</td>\n",
       "      <td>None</td>\n",
       "      <td>2019</td>\n",
       "      <td>3</td>\n",
       "      <td>...</td>\n",
       "      <td>6</td>\n",
       "      <td>2</td>\n",
       "      <td>65</td>\n",
       "      <td>False</td>\n",
       "      <td>False</td>\n",
       "      <td>False</td>\n",
       "      <td>False</td>\n",
       "      <td>False</td>\n",
       "      <td>False</td>\n",
       "      <td>1551830400</td>\n",
       "    </tr>\n",
       "    <tr>\n",
       "      <th>1</th>\n",
       "      <td>transport_for_london</td>\n",
       "      <td>8.0</td>\n",
       "      <td>0.00</td>\n",
       "      <td>0.0</td>\n",
       "      <td>0.0</td>\n",
       "      <td>12.44</td>\n",
       "      <td>transport</td>\n",
       "      <td>None</td>\n",
       "      <td>2019</td>\n",
       "      <td>3</td>\n",
       "      <td>...</td>\n",
       "      <td>5</td>\n",
       "      <td>1</td>\n",
       "      <td>64</td>\n",
       "      <td>False</td>\n",
       "      <td>False</td>\n",
       "      <td>False</td>\n",
       "      <td>False</td>\n",
       "      <td>False</td>\n",
       "      <td>False</td>\n",
       "      <td>1551744000</td>\n",
       "    </tr>\n",
       "    <tr>\n",
       "      <th>2</th>\n",
       "      <td>from_holidays</td>\n",
       "      <td>0.0</td>\n",
       "      <td>2.02</td>\n",
       "      <td>0.0</td>\n",
       "      <td>0.0</td>\n",
       "      <td>20.44</td>\n",
       "      <td>transfers</td>\n",
       "      <td>None</td>\n",
       "      <td>2019</td>\n",
       "      <td>3</td>\n",
       "      <td>...</td>\n",
       "      <td>3</td>\n",
       "      <td>6</td>\n",
       "      <td>62</td>\n",
       "      <td>False</td>\n",
       "      <td>False</td>\n",
       "      <td>False</td>\n",
       "      <td>False</td>\n",
       "      <td>False</td>\n",
       "      <td>False</td>\n",
       "      <td>1551571200</td>\n",
       "    </tr>\n",
       "    <tr>\n",
       "      <th>3</th>\n",
       "      <td>uberbv</td>\n",
       "      <td>6.0</td>\n",
       "      <td>0.00</td>\n",
       "      <td>0.0</td>\n",
       "      <td>0.0</td>\n",
       "      <td>0.87</td>\n",
       "      <td>transport</td>\n",
       "      <td>None</td>\n",
       "      <td>2019</td>\n",
       "      <td>3</td>\n",
       "      <td>...</td>\n",
       "      <td>3</td>\n",
       "      <td>6</td>\n",
       "      <td>62</td>\n",
       "      <td>False</td>\n",
       "      <td>False</td>\n",
       "      <td>False</td>\n",
       "      <td>False</td>\n",
       "      <td>False</td>\n",
       "      <td>False</td>\n",
       "      <td>1551571200</td>\n",
       "    </tr>\n",
       "    <tr>\n",
       "      <th>4</th>\n",
       "      <td>from_luca_mircoli</td>\n",
       "      <td>0.0</td>\n",
       "      <td>10.00</td>\n",
       "      <td>0.0</td>\n",
       "      <td>0.0</td>\n",
       "      <td>18.42</td>\n",
       "      <td>transfers</td>\n",
       "      <td>None</td>\n",
       "      <td>2019</td>\n",
       "      <td>3</td>\n",
       "      <td>...</td>\n",
       "      <td>3</td>\n",
       "      <td>6</td>\n",
       "      <td>62</td>\n",
       "      <td>False</td>\n",
       "      <td>False</td>\n",
       "      <td>False</td>\n",
       "      <td>False</td>\n",
       "      <td>False</td>\n",
       "      <td>False</td>\n",
       "      <td>1551571200</td>\n",
       "    </tr>\n",
       "  </tbody>\n",
       "</table>\n",
       "<p>5 rows × 21 columns</p>\n",
       "</div>"
      ],
      "text/plain": [
       "            description  paid_out_gbp  paid_in_gbp  exchange_out  exchange_in  \\\n",
       "0  transport_for_london           6.3         0.00           0.0          0.0   \n",
       "1  transport_for_london           8.0         0.00           0.0          0.0   \n",
       "2         from_holidays           0.0         2.02           0.0          0.0   \n",
       "3                uberbv           6.0         0.00           0.0          0.0   \n",
       "4     from_luca_mircoli           0.0        10.00           0.0          0.0   \n",
       "\n",
       "   balance_gbp    category notes  completed_Year  completed_Month  \\\n",
       "0        -5.43   transport  None            2019                3   \n",
       "1        12.44   transport  None            2019                3   \n",
       "2        20.44   transfers  None            2019                3   \n",
       "3         0.87   transport  None            2019                3   \n",
       "4        18.42   transfers  None            2019                3   \n",
       "\n",
       "         ...          completed_Day  completed_Dayofweek  completed_Dayofyear  \\\n",
       "0        ...                      6                    2                   65   \n",
       "1        ...                      5                    1                   64   \n",
       "2        ...                      3                    6                   62   \n",
       "3        ...                      3                    6                   62   \n",
       "4        ...                      3                    6                   62   \n",
       "\n",
       "   completed_Is_month_end  completed_Is_month_start  completed_Is_quarter_end  \\\n",
       "0                   False                     False                     False   \n",
       "1                   False                     False                     False   \n",
       "2                   False                     False                     False   \n",
       "3                   False                     False                     False   \n",
       "4                   False                     False                     False   \n",
       "\n",
       "   completed_Is_quarter_start  completed_Is_year_end  completed_Is_year_start  \\\n",
       "0                       False                  False                    False   \n",
       "1                       False                  False                    False   \n",
       "2                       False                  False                    False   \n",
       "3                       False                  False                    False   \n",
       "4                       False                  False                    False   \n",
       "\n",
       "   completed_Elapsed  \n",
       "0         1551830400  \n",
       "1         1551744000  \n",
       "2         1551571200  \n",
       "3         1551571200  \n",
       "4         1551571200  \n",
       "\n",
       "[5 rows x 21 columns]"
      ]
     },
     "execution_count": 39,
     "metadata": {},
     "output_type": "execute_result"
    }
   ],
   "source": [
    "add_datepart(data, 'completed_date')\n",
    "data.head()"
   ]
  },
  {
   "cell_type": "code",
   "execution_count": 40,
   "metadata": {},
   "outputs": [
    {
     "data": {
      "text/plain": [
       "description                    object\n",
       "paid_out_gbp                  float64\n",
       "paid_in_gbp                   float64\n",
       "exchange_out                  float64\n",
       "exchange_in                   float64\n",
       "balance_gbp                   float64\n",
       "category                       object\n",
       "notes                          object\n",
       "completed_Year                  int64\n",
       "completed_Month                 int64\n",
       "completed_Week                  int64\n",
       "completed_Day                   int64\n",
       "completed_Dayofweek             int64\n",
       "completed_Dayofyear             int64\n",
       "completed_Is_month_end           bool\n",
       "completed_Is_month_start         bool\n",
       "completed_Is_quarter_end         bool\n",
       "completed_Is_quarter_start       bool\n",
       "completed_Is_year_end            bool\n",
       "completed_Is_year_start          bool\n",
       "completed_Elapsed               int64\n",
       "dtype: object"
      ]
     },
     "execution_count": 40,
     "metadata": {},
     "output_type": "execute_result"
    }
   ],
   "source": [
    "data.dtypes"
   ]
  },
  {
   "cell_type": "markdown",
   "metadata": {},
   "source": [
    "### 2.9 Cleaning \"notes\""
   ]
  },
  {
   "cell_type": "code",
   "execution_count": 41,
   "metadata": {},
   "outputs": [],
   "source": [
    "data[\"notes\"] = data[\"notes\"].fillna(\"no_note\")"
   ]
  },
  {
   "cell_type": "markdown",
   "metadata": {},
   "source": [
    "### 2.10 Cleaning remaining \"categorical variables\""
   ]
  },
  {
   "cell_type": "code",
   "execution_count": 42,
   "metadata": {},
   "outputs": [
    {
     "data": {
      "text/html": [
       "<div>\n",
       "<style scoped>\n",
       "    .dataframe tbody tr th:only-of-type {\n",
       "        vertical-align: middle;\n",
       "    }\n",
       "\n",
       "    .dataframe tbody tr th {\n",
       "        vertical-align: top;\n",
       "    }\n",
       "\n",
       "    .dataframe thead th {\n",
       "        text-align: right;\n",
       "    }\n",
       "</style>\n",
       "<table border=\"1\" class=\"dataframe\">\n",
       "  <thead>\n",
       "    <tr style=\"text-align: right;\">\n",
       "      <th></th>\n",
       "      <th>description</th>\n",
       "      <th>paid_out_gbp</th>\n",
       "      <th>paid_in_gbp</th>\n",
       "      <th>exchange_out</th>\n",
       "      <th>exchange_in</th>\n",
       "      <th>balance_gbp</th>\n",
       "      <th>category</th>\n",
       "      <th>notes</th>\n",
       "      <th>completed_Year</th>\n",
       "      <th>completed_Month</th>\n",
       "      <th>...</th>\n",
       "      <th>completed_Day</th>\n",
       "      <th>completed_Dayofweek</th>\n",
       "      <th>completed_Dayofyear</th>\n",
       "      <th>completed_Is_month_end</th>\n",
       "      <th>completed_Is_month_start</th>\n",
       "      <th>completed_Is_quarter_end</th>\n",
       "      <th>completed_Is_quarter_start</th>\n",
       "      <th>completed_Is_year_end</th>\n",
       "      <th>completed_Is_year_start</th>\n",
       "      <th>completed_Elapsed</th>\n",
       "    </tr>\n",
       "  </thead>\n",
       "  <tbody>\n",
       "    <tr>\n",
       "      <th>0</th>\n",
       "      <td>transport_for_london</td>\n",
       "      <td>6.3</td>\n",
       "      <td>0.00</td>\n",
       "      <td>0.0</td>\n",
       "      <td>0.0</td>\n",
       "      <td>-5.43</td>\n",
       "      <td>transport</td>\n",
       "      <td>no_note</td>\n",
       "      <td>2019</td>\n",
       "      <td>3</td>\n",
       "      <td>...</td>\n",
       "      <td>6</td>\n",
       "      <td>2</td>\n",
       "      <td>65</td>\n",
       "      <td>False</td>\n",
       "      <td>False</td>\n",
       "      <td>False</td>\n",
       "      <td>False</td>\n",
       "      <td>False</td>\n",
       "      <td>False</td>\n",
       "      <td>1551830400</td>\n",
       "    </tr>\n",
       "    <tr>\n",
       "      <th>1</th>\n",
       "      <td>transport_for_london</td>\n",
       "      <td>8.0</td>\n",
       "      <td>0.00</td>\n",
       "      <td>0.0</td>\n",
       "      <td>0.0</td>\n",
       "      <td>12.44</td>\n",
       "      <td>transport</td>\n",
       "      <td>no_note</td>\n",
       "      <td>2019</td>\n",
       "      <td>3</td>\n",
       "      <td>...</td>\n",
       "      <td>5</td>\n",
       "      <td>1</td>\n",
       "      <td>64</td>\n",
       "      <td>False</td>\n",
       "      <td>False</td>\n",
       "      <td>False</td>\n",
       "      <td>False</td>\n",
       "      <td>False</td>\n",
       "      <td>False</td>\n",
       "      <td>1551744000</td>\n",
       "    </tr>\n",
       "    <tr>\n",
       "      <th>2</th>\n",
       "      <td>from_holidays</td>\n",
       "      <td>0.0</td>\n",
       "      <td>2.02</td>\n",
       "      <td>0.0</td>\n",
       "      <td>0.0</td>\n",
       "      <td>20.44</td>\n",
       "      <td>transfers</td>\n",
       "      <td>no_note</td>\n",
       "      <td>2019</td>\n",
       "      <td>3</td>\n",
       "      <td>...</td>\n",
       "      <td>3</td>\n",
       "      <td>6</td>\n",
       "      <td>62</td>\n",
       "      <td>False</td>\n",
       "      <td>False</td>\n",
       "      <td>False</td>\n",
       "      <td>False</td>\n",
       "      <td>False</td>\n",
       "      <td>False</td>\n",
       "      <td>1551571200</td>\n",
       "    </tr>\n",
       "    <tr>\n",
       "      <th>3</th>\n",
       "      <td>uberbv</td>\n",
       "      <td>6.0</td>\n",
       "      <td>0.00</td>\n",
       "      <td>0.0</td>\n",
       "      <td>0.0</td>\n",
       "      <td>0.87</td>\n",
       "      <td>transport</td>\n",
       "      <td>no_note</td>\n",
       "      <td>2019</td>\n",
       "      <td>3</td>\n",
       "      <td>...</td>\n",
       "      <td>3</td>\n",
       "      <td>6</td>\n",
       "      <td>62</td>\n",
       "      <td>False</td>\n",
       "      <td>False</td>\n",
       "      <td>False</td>\n",
       "      <td>False</td>\n",
       "      <td>False</td>\n",
       "      <td>False</td>\n",
       "      <td>1551571200</td>\n",
       "    </tr>\n",
       "    <tr>\n",
       "      <th>4</th>\n",
       "      <td>from_luca_mircoli</td>\n",
       "      <td>0.0</td>\n",
       "      <td>10.00</td>\n",
       "      <td>0.0</td>\n",
       "      <td>0.0</td>\n",
       "      <td>18.42</td>\n",
       "      <td>transfers</td>\n",
       "      <td>no_note</td>\n",
       "      <td>2019</td>\n",
       "      <td>3</td>\n",
       "      <td>...</td>\n",
       "      <td>3</td>\n",
       "      <td>6</td>\n",
       "      <td>62</td>\n",
       "      <td>False</td>\n",
       "      <td>False</td>\n",
       "      <td>False</td>\n",
       "      <td>False</td>\n",
       "      <td>False</td>\n",
       "      <td>False</td>\n",
       "      <td>1551571200</td>\n",
       "    </tr>\n",
       "  </tbody>\n",
       "</table>\n",
       "<p>5 rows × 21 columns</p>\n",
       "</div>"
      ],
      "text/plain": [
       "            description  paid_out_gbp  paid_in_gbp  exchange_out  exchange_in  \\\n",
       "0  transport_for_london           6.3         0.00           0.0          0.0   \n",
       "1  transport_for_london           8.0         0.00           0.0          0.0   \n",
       "2         from_holidays           0.0         2.02           0.0          0.0   \n",
       "3                uberbv           6.0         0.00           0.0          0.0   \n",
       "4     from_luca_mircoli           0.0        10.00           0.0          0.0   \n",
       "\n",
       "   balance_gbp    category    notes  completed_Year  completed_Month  \\\n",
       "0        -5.43   transport  no_note            2019                3   \n",
       "1        12.44   transport  no_note            2019                3   \n",
       "2        20.44   transfers  no_note            2019                3   \n",
       "3         0.87   transport  no_note            2019                3   \n",
       "4        18.42   transfers  no_note            2019                3   \n",
       "\n",
       "         ...          completed_Day  completed_Dayofweek  completed_Dayofyear  \\\n",
       "0        ...                      6                    2                   65   \n",
       "1        ...                      5                    1                   64   \n",
       "2        ...                      3                    6                   62   \n",
       "3        ...                      3                    6                   62   \n",
       "4        ...                      3                    6                   62   \n",
       "\n",
       "   completed_Is_month_end  completed_Is_month_start  completed_Is_quarter_end  \\\n",
       "0                   False                     False                     False   \n",
       "1                   False                     False                     False   \n",
       "2                   False                     False                     False   \n",
       "3                   False                     False                     False   \n",
       "4                   False                     False                     False   \n",
       "\n",
       "   completed_Is_quarter_start  completed_Is_year_end  completed_Is_year_start  \\\n",
       "0                       False                  False                    False   \n",
       "1                       False                  False                    False   \n",
       "2                       False                  False                    False   \n",
       "3                       False                  False                    False   \n",
       "4                       False                  False                    False   \n",
       "\n",
       "   completed_Elapsed  \n",
       "0         1551830400  \n",
       "1         1551744000  \n",
       "2         1551571200  \n",
       "3         1551571200  \n",
       "4         1551571200  \n",
       "\n",
       "[5 rows x 21 columns]"
      ]
     },
     "execution_count": 42,
     "metadata": {},
     "output_type": "execute_result"
    }
   ],
   "source": [
    "data.head()"
   ]
  },
  {
   "cell_type": "code",
   "execution_count": 43,
   "metadata": {},
   "outputs": [
    {
     "data": {
      "text/plain": [
       "[' transport', ' transport', ' transfers', ' transport', ' transfers']"
      ]
     },
     "execution_count": 43,
     "metadata": {},
     "output_type": "execute_result"
    }
   ],
   "source": [
    "list(data[\"category\"].head())"
   ]
  },
  {
   "cell_type": "code",
   "execution_count": 44,
   "metadata": {},
   "outputs": [],
   "source": [
    "data[\"category\"]  = data[\"category\"].fillna(\"No description\")\n",
    "data[\"category\"] = clean_col(data[\"category\"])"
   ]
  },
  {
   "cell_type": "code",
   "execution_count": 45,
   "metadata": {},
   "outputs": [
    {
     "data": {
      "text/plain": [
       "transfers         874\n",
       "restaurants       508\n",
       "transport         240\n",
       "groceries         188\n",
       "no_description    173\n",
       "general           102\n",
       "cash               57\n",
       "shopping           46\n",
       "entertainment      22\n",
       "health             19\n",
       "Name: category, dtype: int64"
      ]
     },
     "execution_count": 45,
     "metadata": {},
     "output_type": "execute_result"
    }
   ],
   "source": [
    "data[\"category\"].value_counts().head(10)"
   ]
  },
  {
   "cell_type": "code",
   "execution_count": 46,
   "metadata": {},
   "outputs": [
    {
     "data": {
      "text/plain": [
       "description                    object\n",
       "paid_out_gbp                  float64\n",
       "paid_in_gbp                   float64\n",
       "exchange_out                  float64\n",
       "exchange_in                   float64\n",
       "balance_gbp                   float64\n",
       "category                       object\n",
       "notes                          object\n",
       "completed_Year                  int64\n",
       "completed_Month                 int64\n",
       "completed_Week                  int64\n",
       "completed_Day                   int64\n",
       "completed_Dayofweek             int64\n",
       "completed_Dayofyear             int64\n",
       "completed_Is_month_end           bool\n",
       "completed_Is_month_start         bool\n",
       "completed_Is_quarter_end         bool\n",
       "completed_Is_quarter_start       bool\n",
       "completed_Is_year_end            bool\n",
       "completed_Is_year_start          bool\n",
       "completed_Elapsed               int64\n",
       "dtype: object"
      ]
     },
     "execution_count": 46,
     "metadata": {},
     "output_type": "execute_result"
    }
   ],
   "source": [
    "data.dtypes"
   ]
  },
  {
   "cell_type": "code",
   "execution_count": 47,
   "metadata": {},
   "outputs": [],
   "source": [
    "train_cats(data)"
   ]
  },
  {
   "cell_type": "code",
   "execution_count": 48,
   "metadata": {},
   "outputs": [],
   "source": [
    "?train_cats()"
   ]
  },
  {
   "cell_type": "code",
   "execution_count": 49,
   "metadata": {},
   "outputs": [
    {
     "data": {
      "text/plain": [
       "description                   category\n",
       "paid_out_gbp                   float64\n",
       "paid_in_gbp                    float64\n",
       "exchange_out                   float64\n",
       "exchange_in                    float64\n",
       "balance_gbp                    float64\n",
       "category                      category\n",
       "notes                         category\n",
       "completed_Year                   int64\n",
       "completed_Month                  int64\n",
       "completed_Week                   int64\n",
       "completed_Day                    int64\n",
       "completed_Dayofweek              int64\n",
       "completed_Dayofyear              int64\n",
       "completed_Is_month_end            bool\n",
       "completed_Is_month_start          bool\n",
       "completed_Is_quarter_end          bool\n",
       "completed_Is_quarter_start        bool\n",
       "completed_Is_year_end             bool\n",
       "completed_Is_year_start           bool\n",
       "completed_Elapsed                int64\n",
       "dtype: object"
      ]
     },
     "execution_count": 49,
     "metadata": {},
     "output_type": "execute_result"
    }
   ],
   "source": [
    "data.dtypes"
   ]
  },
  {
   "cell_type": "code",
   "execution_count": 50,
   "metadata": {},
   "outputs": [
    {
     "data": {
      "text/html": [
       "<div>\n",
       "<style scoped>\n",
       "    .dataframe tbody tr th:only-of-type {\n",
       "        vertical-align: middle;\n",
       "    }\n",
       "\n",
       "    .dataframe tbody tr th {\n",
       "        vertical-align: top;\n",
       "    }\n",
       "\n",
       "    .dataframe thead th {\n",
       "        text-align: right;\n",
       "    }\n",
       "</style>\n",
       "<table border=\"1\" class=\"dataframe\">\n",
       "  <thead>\n",
       "    <tr style=\"text-align: right;\">\n",
       "      <th></th>\n",
       "      <th>description</th>\n",
       "      <th>paid_out_gbp</th>\n",
       "      <th>paid_in_gbp</th>\n",
       "      <th>exchange_out</th>\n",
       "      <th>exchange_in</th>\n",
       "      <th>balance_gbp</th>\n",
       "      <th>category</th>\n",
       "      <th>notes</th>\n",
       "      <th>completed_Year</th>\n",
       "      <th>completed_Month</th>\n",
       "      <th>...</th>\n",
       "      <th>completed_Day</th>\n",
       "      <th>completed_Dayofweek</th>\n",
       "      <th>completed_Dayofyear</th>\n",
       "      <th>completed_Is_month_end</th>\n",
       "      <th>completed_Is_month_start</th>\n",
       "      <th>completed_Is_quarter_end</th>\n",
       "      <th>completed_Is_quarter_start</th>\n",
       "      <th>completed_Is_year_end</th>\n",
       "      <th>completed_Is_year_start</th>\n",
       "      <th>completed_Elapsed</th>\n",
       "    </tr>\n",
       "  </thead>\n",
       "  <tbody>\n",
       "    <tr>\n",
       "      <th>0</th>\n",
       "      <td>transport_for_london</td>\n",
       "      <td>6.3</td>\n",
       "      <td>0.00</td>\n",
       "      <td>0.0</td>\n",
       "      <td>0.0</td>\n",
       "      <td>-5.43</td>\n",
       "      <td>transport</td>\n",
       "      <td>no_note</td>\n",
       "      <td>2019</td>\n",
       "      <td>3</td>\n",
       "      <td>...</td>\n",
       "      <td>6</td>\n",
       "      <td>2</td>\n",
       "      <td>65</td>\n",
       "      <td>False</td>\n",
       "      <td>False</td>\n",
       "      <td>False</td>\n",
       "      <td>False</td>\n",
       "      <td>False</td>\n",
       "      <td>False</td>\n",
       "      <td>1551830400</td>\n",
       "    </tr>\n",
       "    <tr>\n",
       "      <th>1</th>\n",
       "      <td>transport_for_london</td>\n",
       "      <td>8.0</td>\n",
       "      <td>0.00</td>\n",
       "      <td>0.0</td>\n",
       "      <td>0.0</td>\n",
       "      <td>12.44</td>\n",
       "      <td>transport</td>\n",
       "      <td>no_note</td>\n",
       "      <td>2019</td>\n",
       "      <td>3</td>\n",
       "      <td>...</td>\n",
       "      <td>5</td>\n",
       "      <td>1</td>\n",
       "      <td>64</td>\n",
       "      <td>False</td>\n",
       "      <td>False</td>\n",
       "      <td>False</td>\n",
       "      <td>False</td>\n",
       "      <td>False</td>\n",
       "      <td>False</td>\n",
       "      <td>1551744000</td>\n",
       "    </tr>\n",
       "    <tr>\n",
       "      <th>2</th>\n",
       "      <td>from_holidays</td>\n",
       "      <td>0.0</td>\n",
       "      <td>2.02</td>\n",
       "      <td>0.0</td>\n",
       "      <td>0.0</td>\n",
       "      <td>20.44</td>\n",
       "      <td>transfers</td>\n",
       "      <td>no_note</td>\n",
       "      <td>2019</td>\n",
       "      <td>3</td>\n",
       "      <td>...</td>\n",
       "      <td>3</td>\n",
       "      <td>6</td>\n",
       "      <td>62</td>\n",
       "      <td>False</td>\n",
       "      <td>False</td>\n",
       "      <td>False</td>\n",
       "      <td>False</td>\n",
       "      <td>False</td>\n",
       "      <td>False</td>\n",
       "      <td>1551571200</td>\n",
       "    </tr>\n",
       "    <tr>\n",
       "      <th>3</th>\n",
       "      <td>uberbv</td>\n",
       "      <td>6.0</td>\n",
       "      <td>0.00</td>\n",
       "      <td>0.0</td>\n",
       "      <td>0.0</td>\n",
       "      <td>0.87</td>\n",
       "      <td>transport</td>\n",
       "      <td>no_note</td>\n",
       "      <td>2019</td>\n",
       "      <td>3</td>\n",
       "      <td>...</td>\n",
       "      <td>3</td>\n",
       "      <td>6</td>\n",
       "      <td>62</td>\n",
       "      <td>False</td>\n",
       "      <td>False</td>\n",
       "      <td>False</td>\n",
       "      <td>False</td>\n",
       "      <td>False</td>\n",
       "      <td>False</td>\n",
       "      <td>1551571200</td>\n",
       "    </tr>\n",
       "    <tr>\n",
       "      <th>4</th>\n",
       "      <td>from_luca_mircoli</td>\n",
       "      <td>0.0</td>\n",
       "      <td>10.00</td>\n",
       "      <td>0.0</td>\n",
       "      <td>0.0</td>\n",
       "      <td>18.42</td>\n",
       "      <td>transfers</td>\n",
       "      <td>no_note</td>\n",
       "      <td>2019</td>\n",
       "      <td>3</td>\n",
       "      <td>...</td>\n",
       "      <td>3</td>\n",
       "      <td>6</td>\n",
       "      <td>62</td>\n",
       "      <td>False</td>\n",
       "      <td>False</td>\n",
       "      <td>False</td>\n",
       "      <td>False</td>\n",
       "      <td>False</td>\n",
       "      <td>False</td>\n",
       "      <td>1551571200</td>\n",
       "    </tr>\n",
       "  </tbody>\n",
       "</table>\n",
       "<p>5 rows × 21 columns</p>\n",
       "</div>"
      ],
      "text/plain": [
       "            description  paid_out_gbp  paid_in_gbp  exchange_out  exchange_in  \\\n",
       "0  transport_for_london           6.3         0.00           0.0          0.0   \n",
       "1  transport_for_london           8.0         0.00           0.0          0.0   \n",
       "2         from_holidays           0.0         2.02           0.0          0.0   \n",
       "3                uberbv           6.0         0.00           0.0          0.0   \n",
       "4     from_luca_mircoli           0.0        10.00           0.0          0.0   \n",
       "\n",
       "   balance_gbp   category    notes  completed_Year  completed_Month  \\\n",
       "0        -5.43  transport  no_note            2019                3   \n",
       "1        12.44  transport  no_note            2019                3   \n",
       "2        20.44  transfers  no_note            2019                3   \n",
       "3         0.87  transport  no_note            2019                3   \n",
       "4        18.42  transfers  no_note            2019                3   \n",
       "\n",
       "         ...          completed_Day  completed_Dayofweek  completed_Dayofyear  \\\n",
       "0        ...                      6                    2                   65   \n",
       "1        ...                      5                    1                   64   \n",
       "2        ...                      3                    6                   62   \n",
       "3        ...                      3                    6                   62   \n",
       "4        ...                      3                    6                   62   \n",
       "\n",
       "   completed_Is_month_end  completed_Is_month_start  completed_Is_quarter_end  \\\n",
       "0                   False                     False                     False   \n",
       "1                   False                     False                     False   \n",
       "2                   False                     False                     False   \n",
       "3                   False                     False                     False   \n",
       "4                   False                     False                     False   \n",
       "\n",
       "   completed_Is_quarter_start  completed_Is_year_end  completed_Is_year_start  \\\n",
       "0                       False                  False                    False   \n",
       "1                       False                  False                    False   \n",
       "2                       False                  False                    False   \n",
       "3                       False                  False                    False   \n",
       "4                       False                  False                    False   \n",
       "\n",
       "   completed_Elapsed  \n",
       "0         1551830400  \n",
       "1         1551744000  \n",
       "2         1551571200  \n",
       "3         1551571200  \n",
       "4         1551571200  \n",
       "\n",
       "[5 rows x 21 columns]"
      ]
     },
     "execution_count": 50,
     "metadata": {},
     "output_type": "execute_result"
    }
   ],
   "source": [
    "data.head()"
   ]
  },
  {
   "cell_type": "code",
   "execution_count": 51,
   "metadata": {},
   "outputs": [
    {
     "data": {
      "text/plain": [
       "balance_gbp                   0.0\n",
       "category                      0.0\n",
       "completed_Day                 0.0\n",
       "completed_Dayofweek           0.0\n",
       "completed_Dayofyear           0.0\n",
       "completed_Elapsed             0.0\n",
       "completed_Is_month_end        0.0\n",
       "completed_Is_month_start      0.0\n",
       "completed_Is_quarter_end      0.0\n",
       "completed_Is_quarter_start    0.0\n",
       "completed_Is_year_end         0.0\n",
       "completed_Is_year_start       0.0\n",
       "completed_Month               0.0\n",
       "completed_Week                0.0\n",
       "completed_Year                0.0\n",
       "description                   0.0\n",
       "exchange_in                   0.0\n",
       "exchange_out                  0.0\n",
       "notes                         0.0\n",
       "paid_in_gbp                   0.0\n",
       "paid_out_gbp                  0.0\n",
       "dtype: float64"
      ]
     },
     "metadata": {},
     "output_type": "display_data"
    }
   ],
   "source": [
    "display_all(data.isnull().sum().sort_index()/len(data))"
   ]
  },
  {
   "cell_type": "markdown",
   "metadata": {},
   "source": [
    "### 2.11 Converting categorical variables to cat.codes"
   ]
  },
  {
   "cell_type": "code",
   "execution_count": 52,
   "metadata": {},
   "outputs": [],
   "source": [
    "data[\"category\"] = data[\"category\"].cat.codes\n",
    "data[\"description\"] = data[\"description\"].cat.codes\n",
    "data[\"notes\"] = data[\"notes\"].cat.codes"
   ]
  },
  {
   "cell_type": "code",
   "execution_count": 53,
   "metadata": {},
   "outputs": [
    {
     "data": {
      "text/html": [
       "<div>\n",
       "<style scoped>\n",
       "    .dataframe tbody tr th:only-of-type {\n",
       "        vertical-align: middle;\n",
       "    }\n",
       "\n",
       "    .dataframe tbody tr th {\n",
       "        vertical-align: top;\n",
       "    }\n",
       "\n",
       "    .dataframe thead th {\n",
       "        text-align: right;\n",
       "    }\n",
       "</style>\n",
       "<table border=\"1\" class=\"dataframe\">\n",
       "  <thead>\n",
       "    <tr style=\"text-align: right;\">\n",
       "      <th></th>\n",
       "      <th>description</th>\n",
       "      <th>paid_out_gbp</th>\n",
       "      <th>paid_in_gbp</th>\n",
       "      <th>exchange_out</th>\n",
       "      <th>exchange_in</th>\n",
       "      <th>balance_gbp</th>\n",
       "      <th>category</th>\n",
       "      <th>notes</th>\n",
       "      <th>completed_Year</th>\n",
       "      <th>completed_Month</th>\n",
       "      <th>...</th>\n",
       "      <th>completed_Day</th>\n",
       "      <th>completed_Dayofweek</th>\n",
       "      <th>completed_Dayofyear</th>\n",
       "      <th>completed_Is_month_end</th>\n",
       "      <th>completed_Is_month_start</th>\n",
       "      <th>completed_Is_quarter_end</th>\n",
       "      <th>completed_Is_quarter_start</th>\n",
       "      <th>completed_Is_year_end</th>\n",
       "      <th>completed_Is_year_start</th>\n",
       "      <th>completed_Elapsed</th>\n",
       "    </tr>\n",
       "  </thead>\n",
       "  <tbody>\n",
       "    <tr>\n",
       "      <th>0</th>\n",
       "      <td>425</td>\n",
       "      <td>6.3</td>\n",
       "      <td>0.00</td>\n",
       "      <td>0.0</td>\n",
       "      <td>0.0</td>\n",
       "      <td>-5.43</td>\n",
       "      <td>10</td>\n",
       "      <td>27</td>\n",
       "      <td>2019</td>\n",
       "      <td>3</td>\n",
       "      <td>...</td>\n",
       "      <td>6</td>\n",
       "      <td>2</td>\n",
       "      <td>65</td>\n",
       "      <td>False</td>\n",
       "      <td>False</td>\n",
       "      <td>False</td>\n",
       "      <td>False</td>\n",
       "      <td>False</td>\n",
       "      <td>False</td>\n",
       "      <td>1551830400</td>\n",
       "    </tr>\n",
       "    <tr>\n",
       "      <th>1</th>\n",
       "      <td>425</td>\n",
       "      <td>8.0</td>\n",
       "      <td>0.00</td>\n",
       "      <td>0.0</td>\n",
       "      <td>0.0</td>\n",
       "      <td>12.44</td>\n",
       "      <td>10</td>\n",
       "      <td>27</td>\n",
       "      <td>2019</td>\n",
       "      <td>3</td>\n",
       "      <td>...</td>\n",
       "      <td>5</td>\n",
       "      <td>1</td>\n",
       "      <td>64</td>\n",
       "      <td>False</td>\n",
       "      <td>False</td>\n",
       "      <td>False</td>\n",
       "      <td>False</td>\n",
       "      <td>False</td>\n",
       "      <td>False</td>\n",
       "      <td>1551744000</td>\n",
       "    </tr>\n",
       "    <tr>\n",
       "      <th>2</th>\n",
       "      <td>191</td>\n",
       "      <td>0.0</td>\n",
       "      <td>2.02</td>\n",
       "      <td>0.0</td>\n",
       "      <td>0.0</td>\n",
       "      <td>20.44</td>\n",
       "      <td>9</td>\n",
       "      <td>27</td>\n",
       "      <td>2019</td>\n",
       "      <td>3</td>\n",
       "      <td>...</td>\n",
       "      <td>3</td>\n",
       "      <td>6</td>\n",
       "      <td>62</td>\n",
       "      <td>False</td>\n",
       "      <td>False</td>\n",
       "      <td>False</td>\n",
       "      <td>False</td>\n",
       "      <td>False</td>\n",
       "      <td>False</td>\n",
       "      <td>1551571200</td>\n",
       "    </tr>\n",
       "    <tr>\n",
       "      <th>3</th>\n",
       "      <td>431</td>\n",
       "      <td>6.0</td>\n",
       "      <td>0.00</td>\n",
       "      <td>0.0</td>\n",
       "      <td>0.0</td>\n",
       "      <td>0.87</td>\n",
       "      <td>10</td>\n",
       "      <td>27</td>\n",
       "      <td>2019</td>\n",
       "      <td>3</td>\n",
       "      <td>...</td>\n",
       "      <td>3</td>\n",
       "      <td>6</td>\n",
       "      <td>62</td>\n",
       "      <td>False</td>\n",
       "      <td>False</td>\n",
       "      <td>False</td>\n",
       "      <td>False</td>\n",
       "      <td>False</td>\n",
       "      <td>False</td>\n",
       "      <td>1551571200</td>\n",
       "    </tr>\n",
       "    <tr>\n",
       "      <th>4</th>\n",
       "      <td>193</td>\n",
       "      <td>0.0</td>\n",
       "      <td>10.00</td>\n",
       "      <td>0.0</td>\n",
       "      <td>0.0</td>\n",
       "      <td>18.42</td>\n",
       "      <td>9</td>\n",
       "      <td>27</td>\n",
       "      <td>2019</td>\n",
       "      <td>3</td>\n",
       "      <td>...</td>\n",
       "      <td>3</td>\n",
       "      <td>6</td>\n",
       "      <td>62</td>\n",
       "      <td>False</td>\n",
       "      <td>False</td>\n",
       "      <td>False</td>\n",
       "      <td>False</td>\n",
       "      <td>False</td>\n",
       "      <td>False</td>\n",
       "      <td>1551571200</td>\n",
       "    </tr>\n",
       "  </tbody>\n",
       "</table>\n",
       "<p>5 rows × 21 columns</p>\n",
       "</div>"
      ],
      "text/plain": [
       "   description  paid_out_gbp  paid_in_gbp  exchange_out  exchange_in  \\\n",
       "0          425           6.3         0.00           0.0          0.0   \n",
       "1          425           8.0         0.00           0.0          0.0   \n",
       "2          191           0.0         2.02           0.0          0.0   \n",
       "3          431           6.0         0.00           0.0          0.0   \n",
       "4          193           0.0        10.00           0.0          0.0   \n",
       "\n",
       "   balance_gbp  category  notes  completed_Year  completed_Month  \\\n",
       "0        -5.43        10     27            2019                3   \n",
       "1        12.44        10     27            2019                3   \n",
       "2        20.44         9     27            2019                3   \n",
       "3         0.87        10     27            2019                3   \n",
       "4        18.42         9     27            2019                3   \n",
       "\n",
       "         ...          completed_Day  completed_Dayofweek  completed_Dayofyear  \\\n",
       "0        ...                      6                    2                   65   \n",
       "1        ...                      5                    1                   64   \n",
       "2        ...                      3                    6                   62   \n",
       "3        ...                      3                    6                   62   \n",
       "4        ...                      3                    6                   62   \n",
       "\n",
       "   completed_Is_month_end  completed_Is_month_start  completed_Is_quarter_end  \\\n",
       "0                   False                     False                     False   \n",
       "1                   False                     False                     False   \n",
       "2                   False                     False                     False   \n",
       "3                   False                     False                     False   \n",
       "4                   False                     False                     False   \n",
       "\n",
       "   completed_Is_quarter_start  completed_Is_year_end  completed_Is_year_start  \\\n",
       "0                       False                  False                    False   \n",
       "1                       False                  False                    False   \n",
       "2                       False                  False                    False   \n",
       "3                       False                  False                    False   \n",
       "4                       False                  False                    False   \n",
       "\n",
       "   completed_Elapsed  \n",
       "0         1551830400  \n",
       "1         1551744000  \n",
       "2         1551571200  \n",
       "3         1551571200  \n",
       "4         1551571200  \n",
       "\n",
       "[5 rows x 21 columns]"
      ]
     },
     "execution_count": 53,
     "metadata": {},
     "output_type": "execute_result"
    }
   ],
   "source": [
    "data.head()"
   ]
  },
  {
   "cell_type": "code",
   "execution_count": 382,
   "metadata": {},
   "outputs": [],
   "source": [
    "df_raw = data.copy()"
   ]
  },
  {
   "cell_type": "markdown",
   "metadata": {},
   "source": [
    "# 3. Random Forest"
   ]
  },
  {
   "cell_type": "markdown",
   "metadata": {},
   "source": [
    "## 3.1 Preparing data"
   ]
  },
  {
   "cell_type": "code",
   "execution_count": 383,
   "metadata": {},
   "outputs": [],
   "source": [
    "df = df_raw.drop(\"balance_gbp\", 1)\n",
    "y = df_raw[\"balance_gbp\"]"
   ]
  },
  {
   "cell_type": "code",
   "execution_count": 384,
   "metadata": {},
   "outputs": [],
   "source": [
    "# We import train_test_split from sklearn to divide our datasets\n",
    "from sklearn.model_selection import train_test_split"
   ]
  },
  {
   "cell_type": "markdown",
   "metadata": {},
   "source": [
    "Before we begin constructing our Random Forest Regressor we need to split our dataset in two different sets.A Training and a Test. \n",
    "The following values have been choosen for the split:\n",
    "\n",
    "- `Traing Set = 80%`\n",
    "- `Test Set = 20%`\n",
    "\n",
    "\n"
   ]
  },
  {
   "cell_type": "code",
   "execution_count": 385,
   "metadata": {},
   "outputs": [],
   "source": [
    "X_train, X_test, y_train, y_test = train_test_split(df, y, test_size=0.2, random_state = 1)"
   ]
  },
  {
   "cell_type": "code",
   "execution_count": 386,
   "metadata": {},
   "outputs": [
    {
     "data": {
      "text/plain": [
       "((1817, 20), (455, 20), (1817,), (455,))"
      ]
     },
     "execution_count": 386,
     "metadata": {},
     "output_type": "execute_result"
    }
   ],
   "source": [
    "X_train.shape, X_test.shape, y_train.shape, y_test.shape"
   ]
  },
  {
   "cell_type": "markdown",
   "metadata": {},
   "source": [
    "Throughout the whole execution of the Random Forest we are going to use `random_state = 1` in every single step to understand the interactions of each hyperparamter and quantify the impact they have on the model's predictions"
   ]
  },
  {
   "cell_type": "markdown",
   "metadata": {},
   "source": [
    "## 3.2 Simple Tree"
   ]
  },
  {
   "cell_type": "markdown",
   "metadata": {},
   "source": [
    "We begin by building a simple tree with 3 splits."
   ]
  },
  {
   "cell_type": "code",
   "execution_count": 387,
   "metadata": {},
   "outputs": [
    {
     "name": "stdout",
     "output_type": "stream",
     "text": [
      "CPU times: user 36 ms, sys: 4 ms, total: 40 ms\n",
      "Wall time: 111 ms\n",
      "[186.47629226908367, 180.75708109618083, 0.2453926286456262, 0.24166704677606152]\n"
     ]
    }
   ],
   "source": [
    "m = RandomForestRegressor(n_jobs = -1, max_depth = 3)\n",
    "%time m.fit(X_train, y_train)\n",
    "print_score(m)"
   ]
  },
  {
   "cell_type": "code",
   "execution_count": 388,
   "metadata": {},
   "outputs": [
    {
     "data": {
      "image/svg+xml": [
       "<?xml version=\"1.0\" encoding=\"UTF-8\" standalone=\"no\"?>\n",
       "<!DOCTYPE svg PUBLIC \"-//W3C//DTD SVG 1.1//EN\"\n",
       " \"http://www.w3.org/Graphics/SVG/1.1/DTD/svg11.dtd\">\n",
       "<!-- Generated by graphviz version 2.38.0 (20140413.2041)\n",
       " -->\n",
       "<!-- Title: Tree Pages: 1 -->\n",
       "<svg width=\"720pt\" height=\"434pt\"\n",
       " viewBox=\"0.00 0.00 720.00 434.07\" xmlns=\"http://www.w3.org/2000/svg\" xmlns:xlink=\"http://www.w3.org/1999/xlink\">\n",
       "<g id=\"graph0\" class=\"graph\" transform=\"scale(0.648065 0.648065) rotate(0) translate(4 665.8)\">\n",
       "<title>Tree</title>\n",
       "<polygon fill=\"white\" stroke=\"none\" points=\"-4,4 -4,-665.8 1107,-665.8 1107,4 -4,4\"/>\n",
       "<!-- 0 -->\n",
       "<g id=\"node1\" class=\"node\"><title>0</title>\n",
       "<polygon fill=\"#e58139\" fill-opacity=\"0.298039\" stroke=\"black\" points=\"280.5,-363.887 -0.5,-363.887 -0.5,-295.887 280.5,-295.887 280.5,-363.887\"/>\n",
       "<text text-anchor=\"start\" x=\"7.5\" y=\"-348.687\" font-family=\"Times,serif\" font-size=\"14.00\">completed_Elapsed ≤ 1550750464.0</text>\n",
       "<text text-anchor=\"start\" x=\"76.5\" y=\"-333.687\" font-family=\"Times,serif\" font-size=\"14.00\">mse = 48122.411</text>\n",
       "<text text-anchor=\"start\" x=\"82\" y=\"-318.687\" font-family=\"Times,serif\" font-size=\"14.00\">samples = 1335</text>\n",
       "<text text-anchor=\"start\" x=\"81\" y=\"-303.687\" font-family=\"Times,serif\" font-size=\"14.00\">value = 249.163</text>\n",
       "</g>\n",
       "<!-- 1 -->\n",
       "<g id=\"node2\" class=\"node\"><title>1</title>\n",
       "<polygon fill=\"#e58139\" fill-opacity=\"0.286275\" stroke=\"black\" points=\"597.5,-427.887 316.5,-427.887 316.5,-359.887 597.5,-359.887 597.5,-427.887\"/>\n",
       "<text text-anchor=\"start\" x=\"324.5\" y=\"-412.687\" font-family=\"Times,serif\" font-size=\"14.00\">completed_Elapsed ≤ 1517875200.0</text>\n",
       "<text text-anchor=\"start\" x=\"393.5\" y=\"-397.687\" font-family=\"Times,serif\" font-size=\"14.00\">mse = 42866.665</text>\n",
       "<text text-anchor=\"start\" x=\"399\" y=\"-382.687\" font-family=\"Times,serif\" font-size=\"14.00\">samples = 1298</text>\n",
       "<text text-anchor=\"start\" x=\"402.5\" y=\"-367.687\" font-family=\"Times,serif\" font-size=\"14.00\">value = 240.34</text>\n",
       "</g>\n",
       "<!-- 0&#45;&gt;1 -->\n",
       "<g id=\"edge1\" class=\"edge\"><title>0&#45;&gt;1</title>\n",
       "<path fill=\"none\" stroke=\"black\" d=\"M280.539,-358.238C289.055,-359.968 297.643,-361.713 306.199,-363.451\"/>\n",
       "<polygon fill=\"black\" stroke=\"black\" points=\"305.728,-366.927 316.224,-365.488 307.121,-360.067 305.728,-366.927\"/>\n",
       "<text text-anchor=\"middle\" x=\"295.381\" y=\"-375.592\" font-family=\"Times,serif\" font-size=\"14.00\">True</text>\n",
       "</g>\n",
       "<!-- 8 -->\n",
       "<g id=\"node9\" class=\"node\"><title>8</title>\n",
       "<polygon fill=\"#e58139\" fill-opacity=\"0.705882\" stroke=\"black\" points=\"569,-300.887 345,-300.887 345,-232.887 569,-232.887 569,-300.887\"/>\n",
       "<text text-anchor=\"start\" x=\"353\" y=\"-285.687\" font-family=\"Times,serif\" font-size=\"14.00\">completed_Dayofyear ≤ 58.5</text>\n",
       "<text text-anchor=\"start\" x=\"389\" y=\"-270.687\" font-family=\"Times,serif\" font-size=\"14.00\">mse = 132690.342</text>\n",
       "<text text-anchor=\"start\" x=\"408\" y=\"-255.687\" font-family=\"Times,serif\" font-size=\"14.00\">samples = 37</text>\n",
       "<text text-anchor=\"start\" x=\"398\" y=\"-240.687\" font-family=\"Times,serif\" font-size=\"14.00\">value = 581.863</text>\n",
       "</g>\n",
       "<!-- 0&#45;&gt;8 -->\n",
       "<g id=\"edge8\" class=\"edge\"><title>0&#45;&gt;8</title>\n",
       "<path fill=\"none\" stroke=\"black\" d=\"M280.539,-301.979C298.729,-298.341 317.242,-294.638 335.091,-291.068\"/>\n",
       "<polygon fill=\"black\" stroke=\"black\" points=\"335.814,-294.493 344.933,-289.1 334.441,-287.629 335.814,-294.493\"/>\n",
       "<text text-anchor=\"middle\" x=\"324.132\" y=\"-271.533\" font-family=\"Times,serif\" font-size=\"14.00\">False</text>\n",
       "</g>\n",
       "<!-- 2 -->\n",
       "<g id=\"node3\" class=\"node\"><title>2</title>\n",
       "<polygon fill=\"#e58139\" fill-opacity=\"0.168627\" stroke=\"black\" points=\"890.5,-578.887 657.5,-578.887 657.5,-510.887 890.5,-510.887 890.5,-578.887\"/>\n",
       "<text text-anchor=\"start\" x=\"665.5\" y=\"-563.687\" font-family=\"Times,serif\" font-size=\"14.00\">completed_Dayofyear ≤ 333.5</text>\n",
       "<text text-anchor=\"start\" x=\"710.5\" y=\"-548.687\" font-family=\"Times,serif\" font-size=\"14.00\">mse = 28555.063</text>\n",
       "<text text-anchor=\"start\" x=\"720.5\" y=\"-533.687\" font-family=\"Times,serif\" font-size=\"14.00\">samples = 210</text>\n",
       "<text text-anchor=\"start\" x=\"715\" y=\"-518.687\" font-family=\"Times,serif\" font-size=\"14.00\">value = 144.212</text>\n",
       "</g>\n",
       "<!-- 1&#45;&gt;2 -->\n",
       "<g id=\"edge2\" class=\"edge\"><title>1&#45;&gt;2</title>\n",
       "<path fill=\"none\" stroke=\"black\" d=\"M529.085,-427.962C577.685,-451.259 642.184,-482.178 692.649,-506.369\"/>\n",
       "<polygon fill=\"black\" stroke=\"black\" points=\"691.371,-509.638 701.902,-510.805 694.397,-503.326 691.371,-509.638\"/>\n",
       "</g>\n",
       "<!-- 5 -->\n",
       "<g id=\"node6\" class=\"node\"><title>5</title>\n",
       "<polygon fill=\"#e58139\" fill-opacity=\"0.309804\" stroke=\"black\" points=\"914.5,-427.887 633.5,-427.887 633.5,-359.887 914.5,-359.887 914.5,-427.887\"/>\n",
       "<text text-anchor=\"start\" x=\"641.5\" y=\"-412.687\" font-family=\"Times,serif\" font-size=\"14.00\">completed_Elapsed ≤ 1523275264.0</text>\n",
       "<text text-anchor=\"start\" x=\"710.5\" y=\"-397.687\" font-family=\"Times,serif\" font-size=\"14.00\">mse = 43493.414</text>\n",
       "<text text-anchor=\"start\" x=\"716\" y=\"-382.687\" font-family=\"Times,serif\" font-size=\"14.00\">samples = 1088</text>\n",
       "<text text-anchor=\"start\" x=\"715\" y=\"-367.687\" font-family=\"Times,serif\" font-size=\"14.00\">value = 258.413</text>\n",
       "</g>\n",
       "<!-- 1&#45;&gt;5 -->\n",
       "<g id=\"edge5\" class=\"edge\"><title>1&#45;&gt;5</title>\n",
       "<path fill=\"none\" stroke=\"black\" d=\"M597.539,-393.887C606.055,-393.887 614.643,-393.887 623.199,-393.887\"/>\n",
       "<polygon fill=\"black\" stroke=\"black\" points=\"623.224,-397.387 633.224,-393.887 623.224,-390.387 623.224,-397.387\"/>\n",
       "</g>\n",
       "<!-- 3 -->\n",
       "<g id=\"node4\" class=\"node\"><title>3</title>\n",
       "<polygon fill=\"#e58139\" fill-opacity=\"0.215686\" stroke=\"black\" points=\"1098.5,-656.387 955.5,-656.387 955.5,-603.387 1098.5,-603.387 1098.5,-656.387\"/>\n",
       "<text text-anchor=\"start\" x=\"963.5\" y=\"-641.187\" font-family=\"Times,serif\" font-size=\"14.00\">mse = 29658.514</text>\n",
       "<text text-anchor=\"start\" x=\"973.5\" y=\"-626.187\" font-family=\"Times,serif\" font-size=\"14.00\">samples = 161</text>\n",
       "<text text-anchor=\"start\" x=\"968\" y=\"-611.187\" font-family=\"Times,serif\" font-size=\"14.00\">value = 181.532</text>\n",
       "</g>\n",
       "<!-- 2&#45;&gt;3 -->\n",
       "<g id=\"edge3\" class=\"edge\"><title>2&#45;&gt;3</title>\n",
       "<path fill=\"none\" stroke=\"black\" d=\"M875.645,-578.97C898.931,-586.855 923.406,-595.144 945.688,-602.689\"/>\n",
       "<polygon fill=\"black\" stroke=\"black\" points=\"944.831,-606.094 955.425,-605.987 947.076,-599.464 944.831,-606.094\"/>\n",
       "</g>\n",
       "<!-- 4 -->\n",
       "<g id=\"node5\" class=\"node\"><title>4</title>\n",
       "<polygon fill=\"none\" stroke=\"black\" points=\"1089.5,-571.387 964.5,-571.387 964.5,-518.387 1089.5,-518.387 1089.5,-571.387\"/>\n",
       "<text text-anchor=\"start\" x=\"972.5\" y=\"-556.187\" font-family=\"Times,serif\" font-size=\"14.00\">mse = 462.391</text>\n",
       "<text text-anchor=\"start\" x=\"978\" y=\"-541.187\" font-family=\"Times,serif\" font-size=\"14.00\">samples = 49</text>\n",
       "<text text-anchor=\"start\" x=\"977\" y=\"-526.187\" font-family=\"Times,serif\" font-size=\"14.00\">value = 6.743</text>\n",
       "</g>\n",
       "<!-- 2&#45;&gt;4 -->\n",
       "<g id=\"edge4\" class=\"edge\"><title>2&#45;&gt;4</title>\n",
       "<path fill=\"none\" stroke=\"black\" d=\"M890.582,-544.887C912.276,-544.887 934.367,-544.887 954.242,-544.887\"/>\n",
       "<polygon fill=\"black\" stroke=\"black\" points=\"954.419,-548.387 964.419,-544.887 954.419,-541.387 954.419,-548.387\"/>\n",
       "</g>\n",
       "<!-- 6 -->\n",
       "<g id=\"node7\" class=\"node\"><title>6</title>\n",
       "<polygon fill=\"#e58139\" fill-opacity=\"0.474510\" stroke=\"black\" points=\"1098.5,-485.387 955.5,-485.387 955.5,-432.387 1098.5,-432.387 1098.5,-485.387\"/>\n",
       "<text text-anchor=\"start\" x=\"963.5\" y=\"-470.187\" font-family=\"Times,serif\" font-size=\"14.00\">mse = 63015.057</text>\n",
       "<text text-anchor=\"start\" x=\"978\" y=\"-455.187\" font-family=\"Times,serif\" font-size=\"14.00\">samples = 98</text>\n",
       "<text text-anchor=\"start\" x=\"968\" y=\"-440.187\" font-family=\"Times,serif\" font-size=\"14.00\">value = 392.214</text>\n",
       "</g>\n",
       "<!-- 5&#45;&gt;6 -->\n",
       "<g id=\"edge6\" class=\"edge\"><title>5&#45;&gt;6</title>\n",
       "<path fill=\"none\" stroke=\"black\" d=\"M906.381,-427.91C919.671,-431.351 932.873,-434.77 945.389,-438.011\"/>\n",
       "<polygon fill=\"black\" stroke=\"black\" points=\"944.71,-441.451 955.268,-440.57 946.465,-434.674 944.71,-441.451\"/>\n",
       "</g>\n",
       "<!-- 7 -->\n",
       "<g id=\"node8\" class=\"node\"><title>7</title>\n",
       "<polygon fill=\"#e58139\" fill-opacity=\"0.294118\" stroke=\"black\" points=\"1098.5,-400.387 955.5,-400.387 955.5,-347.387 1098.5,-347.387 1098.5,-400.387\"/>\n",
       "<text text-anchor=\"start\" x=\"963.5\" y=\"-385.187\" font-family=\"Times,serif\" font-size=\"14.00\">mse = 39544.425</text>\n",
       "<text text-anchor=\"start\" x=\"973.5\" y=\"-370.187\" font-family=\"Times,serif\" font-size=\"14.00\">samples = 990</text>\n",
       "<text text-anchor=\"start\" x=\"968\" y=\"-355.187\" font-family=\"Times,serif\" font-size=\"14.00\">value = 244.943</text>\n",
       "</g>\n",
       "<!-- 5&#45;&gt;7 -->\n",
       "<g id=\"edge7\" class=\"edge\"><title>5&#45;&gt;7</title>\n",
       "<path fill=\"none\" stroke=\"black\" d=\"M914.812,-382.746C925.171,-381.921 935.399,-381.106 945.208,-380.324\"/>\n",
       "<polygon fill=\"black\" stroke=\"black\" points=\"945.575,-383.806 955.266,-379.523 945.019,-376.828 945.575,-383.806\"/>\n",
       "</g>\n",
       "<!-- 9 -->\n",
       "<g id=\"node10\" class=\"node\"><title>9</title>\n",
       "<polygon fill=\"#e58139\" fill-opacity=\"0.976471\" stroke=\"black\" points=\"845.5,-300.887 702.5,-300.887 702.5,-232.887 845.5,-232.887 845.5,-300.887\"/>\n",
       "<text text-anchor=\"start\" x=\"728\" y=\"-285.687\" font-family=\"Times,serif\" font-size=\"14.00\">notes ≤ 18.0</text>\n",
       "<text text-anchor=\"start\" x=\"710.5\" y=\"-270.687\" font-family=\"Times,serif\" font-size=\"14.00\">mse = 18858.693</text>\n",
       "<text text-anchor=\"start\" x=\"725\" y=\"-255.687\" font-family=\"Times,serif\" font-size=\"14.00\">samples = 21</text>\n",
       "<text text-anchor=\"start\" x=\"715\" y=\"-240.687\" font-family=\"Times,serif\" font-size=\"14.00\">value = 801.319</text>\n",
       "</g>\n",
       "<!-- 8&#45;&gt;9 -->\n",
       "<g id=\"edge9\" class=\"edge\"><title>8&#45;&gt;9</title>\n",
       "<path fill=\"none\" stroke=\"black\" d=\"M569.057,-266.887C609.534,-266.887 654.505,-266.887 691.896,-266.887\"/>\n",
       "<polygon fill=\"black\" stroke=\"black\" points=\"692.231,-270.387 702.231,-266.887 692.231,-263.387 692.231,-270.387\"/>\n",
       "</g>\n",
       "<!-- 12 -->\n",
       "<g id=\"node13\" class=\"node\"><title>12</title>\n",
       "<polygon fill=\"#e58139\" fill-opacity=\"0.215686\" stroke=\"black\" points=\"863.5,-150.887 684.5,-150.887 684.5,-82.8867 863.5,-82.8867 863.5,-150.887\"/>\n",
       "<text text-anchor=\"start\" x=\"692.5\" y=\"-135.687\" font-family=\"Times,serif\" font-size=\"14.00\">completed_Day ≤ 17.0</text>\n",
       "<text text-anchor=\"start\" x=\"710.5\" y=\"-120.687\" font-family=\"Times,serif\" font-size=\"14.00\">mse = 92882.641</text>\n",
       "<text text-anchor=\"start\" x=\"725\" y=\"-105.687\" font-family=\"Times,serif\" font-size=\"14.00\">samples = 16</text>\n",
       "<text text-anchor=\"start\" x=\"715\" y=\"-90.6867\" font-family=\"Times,serif\" font-size=\"14.00\">value = 182.853</text>\n",
       "</g>\n",
       "<!-- 8&#45;&gt;12 -->\n",
       "<g id=\"edge12\" class=\"edge\"><title>8&#45;&gt;12</title>\n",
       "<path fill=\"none\" stroke=\"black\" d=\"M529.478,-232.849C577.924,-209.78 642.033,-179.252 692.312,-155.31\"/>\n",
       "<polygon fill=\"black\" stroke=\"black\" points=\"694.009,-158.378 701.532,-150.919 690.999,-152.058 694.009,-158.378\"/>\n",
       "</g>\n",
       "<!-- 10 -->\n",
       "<g id=\"node11\" class=\"node\"><title>10</title>\n",
       "<polygon fill=\"#e58139\" fill-opacity=\"0.086275\" stroke=\"black\" points=\"1085,-314.387 969,-314.387 969,-261.387 1085,-261.387 1085,-314.387\"/>\n",
       "<text text-anchor=\"start\" x=\"990.5\" y=\"-299.187\" font-family=\"Times,serif\" font-size=\"14.00\">mse = 0.0</text>\n",
       "<text text-anchor=\"start\" x=\"982.5\" y=\"-284.187\" font-family=\"Times,serif\" font-size=\"14.00\">samples = 1</text>\n",
       "<text text-anchor=\"start\" x=\"977\" y=\"-269.187\" font-family=\"Times,serif\" font-size=\"14.00\">value = 77.72</text>\n",
       "</g>\n",
       "<!-- 9&#45;&gt;10 -->\n",
       "<g id=\"edge10\" class=\"edge\"><title>9&#45;&gt;10</title>\n",
       "<path fill=\"none\" stroke=\"black\" d=\"M845.585,-272.792C880.954,-275.751 923.571,-279.317 958.502,-282.239\"/>\n",
       "<polygon fill=\"black\" stroke=\"black\" points=\"958.35,-285.739 968.607,-283.085 958.934,-278.763 958.35,-285.739\"/>\n",
       "</g>\n",
       "<!-- 11 -->\n",
       "<g id=\"node12\" class=\"node\"><title>11</title>\n",
       "<polygon fill=\"#e58139\" stroke=\"black\" points=\"1094,-229.387 960,-229.387 960,-176.387 1094,-176.387 1094,-229.387\"/>\n",
       "<text text-anchor=\"start\" x=\"968\" y=\"-214.187\" font-family=\"Times,serif\" font-size=\"14.00\">mse = 5572.489</text>\n",
       "<text text-anchor=\"start\" x=\"978\" y=\"-199.187\" font-family=\"Times,serif\" font-size=\"14.00\">samples = 20</text>\n",
       "<text text-anchor=\"start\" x=\"968\" y=\"-184.187\" font-family=\"Times,serif\" font-size=\"14.00\">value = 819.873</text>\n",
       "</g>\n",
       "<!-- 9&#45;&gt;11 -->\n",
       "<g id=\"edge11\" class=\"edge\"><title>9&#45;&gt;11</title>\n",
       "<path fill=\"none\" stroke=\"black\" d=\"M845.585,-248.889C878.043,-240.613 916.604,-230.781 949.728,-222.335\"/>\n",
       "<polygon fill=\"black\" stroke=\"black\" points=\"950.995,-225.623 959.821,-219.761 949.266,-218.84 950.995,-225.623\"/>\n",
       "</g>\n",
       "<!-- 13 -->\n",
       "<g id=\"node14\" class=\"node\"><title>13</title>\n",
       "<polygon fill=\"none\" stroke=\"black\" points=\"1085,-143.387 969,-143.387 969,-90.3867 1085,-90.3867 1085,-143.387\"/>\n",
       "<text text-anchor=\"start\" x=\"977\" y=\"-128.187\" font-family=\"Times,serif\" font-size=\"14.00\">mse = 64.712</text>\n",
       "<text text-anchor=\"start\" x=\"978\" y=\"-113.187\" font-family=\"Times,serif\" font-size=\"14.00\">samples = 10</text>\n",
       "<text text-anchor=\"start\" x=\"977\" y=\"-98.1867\" font-family=\"Times,serif\" font-size=\"14.00\">value = 7.825</text>\n",
       "</g>\n",
       "<!-- 12&#45;&gt;13 -->\n",
       "<g id=\"edge13\" class=\"edge\"><title>12&#45;&gt;13</title>\n",
       "<path fill=\"none\" stroke=\"black\" d=\"M863.846,-116.887C895.006,-116.887 929.47,-116.887 958.583,-116.887\"/>\n",
       "<polygon fill=\"black\" stroke=\"black\" points=\"958.644,-120.387 968.644,-116.887 958.644,-113.387 958.644,-120.387\"/>\n",
       "</g>\n",
       "<!-- 14 -->\n",
       "<g id=\"node15\" class=\"node\"><title>14</title>\n",
       "<polygon fill=\"#e58139\" fill-opacity=\"0.529412\" stroke=\"black\" points=\"1103,-58.3867 951,-58.3867 951,-5.38673 1103,-5.38673 1103,-58.3867\"/>\n",
       "<text text-anchor=\"start\" x=\"959\" y=\"-43.1867\" font-family=\"Times,serif\" font-size=\"14.00\">mse = 118786.473</text>\n",
       "<text text-anchor=\"start\" x=\"982.5\" y=\"-28.1867\" font-family=\"Times,serif\" font-size=\"14.00\">samples = 6</text>\n",
       "<text text-anchor=\"start\" x=\"972.5\" y=\"-13.1867\" font-family=\"Times,serif\" font-size=\"14.00\">value = 435.67</text>\n",
       "</g>\n",
       "<!-- 12&#45;&gt;14 -->\n",
       "<g id=\"edge14\" class=\"edge\"><title>12&#45;&gt;14</title>\n",
       "<path fill=\"none\" stroke=\"black\" d=\"M863.846,-86.7993C888.995,-78.2828 916.296,-69.0373 941.2,-60.6039\"/>\n",
       "<polygon fill=\"black\" stroke=\"black\" points=\"942.631,-63.8146 950.98,-57.2919 940.386,-57.1844 942.631,-63.8146\"/>\n",
       "</g>\n",
       "</g>\n",
       "</svg>\n"
      ],
      "text/plain": [
       "<graphviz.files.Source at 0x7f6257062dd8>"
      ]
     },
     "metadata": {},
     "output_type": "display_data"
    }
   ],
   "source": [
    "draw_tree(m.estimators_[0], X_train, precision=3)"
   ]
  },
  {
   "cell_type": "markdown",
   "metadata": {},
   "source": [
    "## 3.3 Bagging"
   ]
  },
  {
   "cell_type": "code",
   "execution_count": 389,
   "metadata": {},
   "outputs": [
    {
     "name": "stdout",
     "output_type": "stream",
     "text": [
      "CPU times: user 132 ms, sys: 4 ms, total: 136 ms\n",
      "Wall time: 111 ms\n",
      "[38.170155697916826, 86.1198357506705, 0.9683829274881178, 0.8278624271757545]\n"
     ]
    }
   ],
   "source": [
    "m = RandomForestRegressor(n_estimators = 10, n_jobs=-1, random_state = 1)\n",
    "%time m.fit(X_train, y_train)\n",
    "print_score(m)"
   ]
  },
  {
   "cell_type": "code",
   "execution_count": 390,
   "metadata": {},
   "outputs": [],
   "source": [
    "preds = np.stack([t.predict(X_test) for t in m.estimators_])"
   ]
  },
  {
   "cell_type": "code",
   "execution_count": 391,
   "metadata": {},
   "outputs": [
    {
     "data": {
      "text/plain": [
       "(10, 455)"
      ]
     },
     "execution_count": 391,
     "metadata": {},
     "output_type": "execute_result"
    }
   ],
   "source": [
    "preds.shape"
   ]
  },
  {
   "cell_type": "code",
   "execution_count": 392,
   "metadata": {},
   "outputs": [
    {
     "data": {
      "image/png": "[encoded data removed]",
      "text/plain": [
       "<Figure size 432x288 with 1 Axes>"
      ]
     },
     "metadata": {
      "needs_background": "light"
     },
     "output_type": "display_data"
    }
   ],
   "source": [
    "plt.plot([metrics.r2_score(y_test, np.mean(preds[:i+1], axis=0)) for i in range(10)]);"
   ]
  },
  {
   "cell_type": "code",
   "execution_count": 393,
   "metadata": {},
   "outputs": [
    {
     "name": "stdout",
     "output_type": "stream",
     "text": [
      "CPU times: user 76 ms, sys: 60 ms, total: 136 ms\n",
      "Wall time: 110 ms\n",
      "[48.72233532551955, 89.08741011285244, 0.9484854411331268, 0.8157947700393701]\n"
     ]
    }
   ],
   "source": [
    "m = RandomForestRegressor(n_estimators=4, n_jobs=-1, random_state= 1)\n",
    "%time m.fit(X_train, y_train)\n",
    "print_score(m)"
   ]
  },
  {
   "cell_type": "code",
   "execution_count": 394,
   "metadata": {},
   "outputs": [
    {
     "name": "stdout",
     "output_type": "stream",
     "text": [
      "CPU times: user 136 ms, sys: 0 ns, total: 136 ms\n",
      "Wall time: 111 ms\n",
      "[38.170155697916826, 86.1198357506705, 0.9683829274881178, 0.8278624271757545]\n"
     ]
    }
   ],
   "source": [
    "m = RandomForestRegressor(n_estimators=10, n_jobs=-1, random_state= 1)\n",
    "%time m.fit(X_train, y_train)\n",
    "print_score(m)"
   ]
  },
  {
   "cell_type": "code",
   "execution_count": 395,
   "metadata": {},
   "outputs": [
    {
     "name": "stdout",
     "output_type": "stream",
     "text": [
      "CPU times: user 272 ms, sys: 0 ns, total: 272 ms\n",
      "Wall time: 117 ms\n",
      "[34.03325749358419, 82.76698199402807, 0.9748648876086328, 0.8410049776269416]\n"
     ]
    }
   ],
   "source": [
    "m = RandomForestRegressor(n_estimators=20, n_jobs=-1, random_state= 1)\n",
    "%time m.fit(X_train, y_train)\n",
    "print_score(m)"
   ]
  },
  {
   "cell_type": "code",
   "execution_count": 396,
   "metadata": {},
   "outputs": [
    {
     "name": "stdout",
     "output_type": "stream",
     "text": [
      "CPU times: user 540 ms, sys: 0 ns, total: 540 ms\n",
      "Wall time: 239 ms\n",
      "[31.61932727104296, 81.20251919588219, 0.9783040313954738, 0.8469588237372548]\n"
     ]
    }
   ],
   "source": [
    "m = RandomForestRegressor(n_estimators=40, n_jobs=-1, random_state= 1)\n",
    "%time m.fit(X_train, y_train)\n",
    "print_score(m)"
   ]
  },
  {
   "cell_type": "code",
   "execution_count": 397,
   "metadata": {},
   "outputs": [
    {
     "name": "stdout",
     "output_type": "stream",
     "text": [
      "CPU times: user 1.36 s, sys: 4 ms, total: 1.37 s\n",
      "Wall time: 477 ms\n",
      "[30.880631893735785, 83.43723463982248, 0.9793059187778131, 0.8384194459434117]\n"
     ]
    }
   ],
   "source": [
    "m = RandomForestRegressor(n_estimators=100, n_jobs=-1,random_state= 1)\n",
    "%time m.fit(X_train, y_train)\n",
    "print_score(m)"
   ]
  },
  {
   "cell_type": "markdown",
   "metadata": {},
   "source": [
    "We see that 40 estimators yields the higest rmse (0.848) Thus, we will progress using 40 as a set value when tuning the next hyperparamters."
   ]
  },
  {
   "cell_type": "markdown",
   "metadata": {},
   "source": [
    "## 3.4 Out-of-bag (OOB) score"
   ]
  },
  {
   "cell_type": "markdown",
   "metadata": {},
   "source": [
    "Our validation set is worse than our training set because we're over-fitting, or because the validation set is for a different time period, or a bit of both? With the existing information we've shown, we can't tell. However, random forests have a very clever trick called out-of-bag (OOB) error which can handle this (and more!)\n",
    "\n",
    "The idea is to calculate error on the training set, but only include the trees in the calculation of a row's error where that row was not included in training that tree. This allows us to see whether the model is over-fitting, without needing a separate validation set.\n",
    "\n",
    "This also has the benefit of allowing us to see whether our model generalizes, even if we only have a small amount of data so want to avoid separating some out to create a validation set.\n",
    "\n",
    "This is as simple as adding one more parameter to our model constructor. We print the OOB error last in our print_score function below."
   ]
  },
  {
   "cell_type": "code",
   "execution_count": 398,
   "metadata": {},
   "outputs": [
    {
     "name": "stdout",
     "output_type": "stream",
     "text": [
      "CPU times: user 544 ms, sys: 12 ms, total: 556 ms\n",
      "Wall time: 242 ms\n",
      "[31.61932727104296, 81.20251919588219, 0.9783040313954738, 0.8469588237372548, 0.7227069865989565]\n"
     ]
    }
   ],
   "source": [
    "m = RandomForestRegressor(n_estimators= 40, oob_score=True, n_jobs=-1,random_state= 1)\n",
    "%time m.fit(X_train, y_train)\n",
    "print_score(m)"
   ]
  },
  {
   "cell_type": "markdown",
   "metadata": {},
   "source": [
    "## 3.5 Reducing over-fitting"
   ]
  },
  {
   "cell_type": "markdown",
   "metadata": {},
   "source": [
    "### 3.5.1 Confidence based on tree variance"
   ]
  },
  {
   "cell_type": "code",
   "execution_count": 399,
   "metadata": {},
   "outputs": [
    {
     "name": "stdout",
     "output_type": "stream",
     "text": [
      "CPU times: user 536 ms, sys: 12 ms, total: 548 ms\n",
      "Wall time: 242 ms\n",
      "[31.61932727104296, 81.20251919588219, 0.9783040313954738, 0.8469588237372548, 0.7227069865989565]\n"
     ]
    }
   ],
   "source": [
    "m = RandomForestRegressor(n_estimators=40, oob_score= True, n_jobs=-1,random_state= 1)\n",
    "%time m.fit(X_train, y_train)\n",
    "print_score(m)"
   ]
  },
  {
   "cell_type": "markdown",
   "metadata": {},
   "source": [
    "We saw how the model averages predictions across the trees to get an estimate. But how can we know the confidence of the estimate? \n",
    "\n",
    "One simple way is to use the standard deviation of predictions, instead of just the mean. This tells us the relative confidence of predictions - that is, for rows where the trees give very different results, you would want to be more cautious of using those results, compared to cases where they are more consistent."
   ]
  },
  {
   "cell_type": "markdown",
   "metadata": {},
   "source": [
    "It's not normally enough to just to know that a model can make accurate predictions - we also want to know how it's making predictions. The most important way to see this is with feature importance."
   ]
  },
  {
   "cell_type": "code",
   "execution_count": 400,
   "metadata": {},
   "outputs": [
    {
     "data": {
      "text/html": [
       "<div>\n",
       "<style scoped>\n",
       "    .dataframe tbody tr th:only-of-type {\n",
       "        vertical-align: middle;\n",
       "    }\n",
       "\n",
       "    .dataframe tbody tr th {\n",
       "        vertical-align: top;\n",
       "    }\n",
       "\n",
       "    .dataframe thead th {\n",
       "        text-align: right;\n",
       "    }\n",
       "</style>\n",
       "<table border=\"1\" class=\"dataframe\">\n",
       "  <thead>\n",
       "    <tr style=\"text-align: right;\">\n",
       "      <th></th>\n",
       "      <th>cols</th>\n",
       "      <th>imp</th>\n",
       "    </tr>\n",
       "  </thead>\n",
       "  <tbody>\n",
       "    <tr>\n",
       "      <th>19</th>\n",
       "      <td>completed_Elapsed</td>\n",
       "      <td>0.354990</td>\n",
       "    </tr>\n",
       "    <tr>\n",
       "      <th>12</th>\n",
       "      <td>completed_Dayofyear</td>\n",
       "      <td>0.179887</td>\n",
       "    </tr>\n",
       "    <tr>\n",
       "      <th>10</th>\n",
       "      <td>completed_Day</td>\n",
       "      <td>0.177962</td>\n",
       "    </tr>\n",
       "    <tr>\n",
       "      <th>1</th>\n",
       "      <td>paid_out_gbp</td>\n",
       "      <td>0.066904</td>\n",
       "    </tr>\n",
       "    <tr>\n",
       "      <th>11</th>\n",
       "      <td>completed_Dayofweek</td>\n",
       "      <td>0.047126</td>\n",
       "    </tr>\n",
       "    <tr>\n",
       "      <th>0</th>\n",
       "      <td>description</td>\n",
       "      <td>0.041628</td>\n",
       "    </tr>\n",
       "    <tr>\n",
       "      <th>2</th>\n",
       "      <td>paid_in_gbp</td>\n",
       "      <td>0.040117</td>\n",
       "    </tr>\n",
       "    <tr>\n",
       "      <th>5</th>\n",
       "      <td>category</td>\n",
       "      <td>0.034956</td>\n",
       "    </tr>\n",
       "    <tr>\n",
       "      <th>9</th>\n",
       "      <td>completed_Week</td>\n",
       "      <td>0.027946</td>\n",
       "    </tr>\n",
       "    <tr>\n",
       "      <th>8</th>\n",
       "      <td>completed_Month</td>\n",
       "      <td>0.009632</td>\n",
       "    </tr>\n",
       "  </tbody>\n",
       "</table>\n",
       "</div>"
      ],
      "text/plain": [
       "                   cols       imp\n",
       "19    completed_Elapsed  0.354990\n",
       "12  completed_Dayofyear  0.179887\n",
       "10        completed_Day  0.177962\n",
       "1          paid_out_gbp  0.066904\n",
       "11  completed_Dayofweek  0.047126\n",
       "0           description  0.041628\n",
       "2           paid_in_gbp  0.040117\n",
       "5              category  0.034956\n",
       "9        completed_Week  0.027946\n",
       "8       completed_Month  0.009632"
      ]
     },
     "execution_count": 400,
     "metadata": {},
     "output_type": "execute_result"
    }
   ],
   "source": [
    "fi = rf_feat_importance(m, X_train); fi[:10]"
   ]
  },
  {
   "cell_type": "code",
   "execution_count": 401,
   "metadata": {},
   "outputs": [
    {
     "data": {
      "image/png": "[encoded data removed]",
      "text/plain": [
       "<Figure size 720x432 with 1 Axes>"
      ]
     },
     "metadata": {
      "needs_background": "light"
     },
     "output_type": "display_data"
    }
   ],
   "source": [
    "fi.plot('cols', 'imp', figsize=(10,6), legend=False);"
   ]
  },
  {
   "cell_type": "code",
   "execution_count": 402,
   "metadata": {},
   "outputs": [],
   "source": [
    "def plot_fi(fi): return fi.plot('cols', 'imp', 'barh', figsize=(12,7), legend=False)"
   ]
  },
  {
   "cell_type": "code",
   "execution_count": 403,
   "metadata": {},
   "outputs": [
    {
     "data": {
      "image/png": "[encoded data removed]",
      "text/plain": [
       "<Figure size 864x504 with 1 Axes>"
      ]
     },
     "metadata": {
      "needs_background": "light"
     },
     "output_type": "display_data"
    }
   ],
   "source": [
    "plot_fi(fi);"
   ]
  },
  {
   "cell_type": "code",
   "execution_count": 404,
   "metadata": {},
   "outputs": [
    {
     "data": {
      "text/plain": [
       "17"
      ]
     },
     "execution_count": 404,
     "metadata": {},
     "output_type": "execute_result"
    }
   ],
   "source": [
    "to_keep = fi[fi.imp>0.0001].cols; len(to_keep)"
   ]
  },
  {
   "cell_type": "code",
   "execution_count": 405,
   "metadata": {},
   "outputs": [
    {
     "data": {
      "text/plain": [
       "19             completed_Elapsed\n",
       "12           completed_Dayofyear\n",
       "10                 completed_Day\n",
       "1                   paid_out_gbp\n",
       "11           completed_Dayofweek\n",
       "0                    description\n",
       "2                    paid_in_gbp\n",
       "5                       category\n",
       "9                 completed_Week\n",
       "8                completed_Month\n",
       "3                   exchange_out\n",
       "13        completed_Is_month_end\n",
       "14      completed_Is_month_start\n",
       "6                          notes\n",
       "16    completed_Is_quarter_start\n",
       "7                 completed_Year\n",
       "15      completed_Is_quarter_end\n",
       "Name: cols, dtype: object"
      ]
     },
     "execution_count": 405,
     "metadata": {},
     "output_type": "execute_result"
    }
   ],
   "source": [
    "to_keep"
   ]
  },
  {
   "cell_type": "code",
   "execution_count": 406,
   "metadata": {},
   "outputs": [],
   "source": [
    "df = df_raw[to_keep].copy()"
   ]
  },
  {
   "cell_type": "code",
   "execution_count": 407,
   "metadata": {},
   "outputs": [],
   "source": [
    "X_train, X_test, y_train, y_test = train_test_split(df, y, test_size=0.2, random_state = 1)"
   ]
  },
  {
   "cell_type": "code",
   "execution_count": 408,
   "metadata": {},
   "outputs": [
    {
     "data": {
      "text/plain": [
       "((1817, 17), (455, 17), (1817,), (455,))"
      ]
     },
     "execution_count": 408,
     "metadata": {},
     "output_type": "execute_result"
    }
   ],
   "source": [
    "X_train.shape, X_test.shape, y_train.shape, y_test.shape"
   ]
  },
  {
   "cell_type": "code",
   "execution_count": 409,
   "metadata": {},
   "outputs": [
    {
     "name": "stdout",
     "output_type": "stream",
     "text": [
      "CPU times: user 536 ms, sys: 12 ms, total: 548 ms\n",
      "Wall time: 241 ms\n",
      "[31.838714620055313, 81.56700709450396, 0.9780019165685392, 0.8455818504895165, 0.7198305040161787]\n"
     ]
    }
   ],
   "source": [
    "m = RandomForestRegressor(n_estimators= 40, oob_score=True, n_jobs=-1, random_state= 1)\n",
    "%time m.fit(X_train, y_train)\n",
    "print_score(m)"
   ]
  },
  {
   "cell_type": "markdown",
   "metadata": {},
   "source": [
    "We see that by cancelling out the noise created by the columns that had a low feature importance our rmse increased by 0.01. Nevertheless, our processing speed decreased by a substantial amount (12mms)."
   ]
  },
  {
   "cell_type": "markdown",
   "metadata": {},
   "source": [
    "### 3.5.2 Subsampling"
   ]
  },
  {
   "cell_type": "markdown",
   "metadata": {},
   "source": [
    "We are now going to experiment with the **fastai** feature `set_rf_samples()`"
   ]
  },
  {
   "cell_type": "code",
   "execution_count": 410,
   "metadata": {},
   "outputs": [],
   "source": [
    "set_rf_samples(400)"
   ]
  },
  {
   "cell_type": "code",
   "execution_count": 411,
   "metadata": {},
   "outputs": [
    {
     "name": "stdout",
     "output_type": "stream",
     "text": [
      "[108.75389210893758, 112.36586989327301, 0.7433369153669742, 0.7069524290651802, 0.605971475610469]\n"
     ]
    }
   ],
   "source": [
    "m = RandomForestRegressor(n_estimators= 40, oob_score=True, n_jobs=-1, random_state= 1)\n",
    "m.fit(X_train, y_train)\n",
    "print_score(m)"
   ]
  },
  {
   "cell_type": "code",
   "execution_count": 412,
   "metadata": {},
   "outputs": [],
   "source": [
    "set_rf_samples(800)"
   ]
  },
  {
   "cell_type": "code",
   "execution_count": 413,
   "metadata": {},
   "outputs": [
    {
     "name": "stdout",
     "output_type": "stream",
     "text": [
      "[76.32342015484004, 94.46898336455058, 0.873587669117298, 0.7928677261963132, 0.6997859475452295]\n"
     ]
    }
   ],
   "source": [
    "m = RandomForestRegressor(n_estimators= 40, oob_score=True, n_jobs=-1,random_state= 1)\n",
    "m.fit(X_train, y_train)\n",
    "print_score(m)"
   ]
  },
  {
   "cell_type": "code",
   "execution_count": 414,
   "metadata": {},
   "outputs": [],
   "source": [
    "set_rf_samples(1600)"
   ]
  },
  {
   "cell_type": "code",
   "execution_count": 415,
   "metadata": {},
   "outputs": [
    {
     "name": "stdout",
     "output_type": "stream",
     "text": [
      "[48.98278233022786, 86.33901671521103, 0.9479332232439749, 0.8269851080138142, 0.7114358677793698]\n"
     ]
    }
   ],
   "source": [
    "m = RandomForestRegressor(n_estimators= 40, oob_score=True, n_jobs=-1,random_state= 1)\n",
    "m.fit(X_train, y_train)\n",
    "print_score(m)"
   ]
  },
  {
   "cell_type": "code",
   "execution_count": 416,
   "metadata": {},
   "outputs": [],
   "source": [
    "set_rf_samples(2400)"
   ]
  },
  {
   "cell_type": "code",
   "execution_count": 417,
   "metadata": {},
   "outputs": [
    {
     "name": "stdout",
     "output_type": "stream",
     "text": [
      "[31.838714620055313, 81.56700709450396, 0.9780019165685392, 0.8455818504895165, 0.7198305040161787]\n"
     ]
    }
   ],
   "source": [
    "m = RandomForestRegressor(n_estimators= 40, oob_score=True, n_jobs=-1, random_state= 1)\n",
    "m.fit(X_train, y_train)\n",
    "print_score(m)"
   ]
  },
  {
   "cell_type": "markdown",
   "metadata": {},
   "source": [
    "Unfortunatley, again due to the poorness of the dataset we cannot assess the impact this hyperparamter has as the best rmse is achieved by a sub_sample of 2400, which is more than the actual number of rows. \n",
    "\n",
    "Hence, we decide not to use this hyperparameter."
   ]
  },
  {
   "cell_type": "code",
   "execution_count": 426,
   "metadata": {},
   "outputs": [],
   "source": [
    "reset_rf_samples()"
   ]
  },
  {
   "cell_type": "markdown",
   "metadata": {},
   "source": [
    "### 3.5.3 Tree building parameters"
   ]
  },
  {
   "cell_type": "markdown",
   "metadata": {},
   "source": [
    "Another way to reduce over-fitting is to grow our trees less deeply. We do this by specifying (with min_samples_leaf) that we require some minimum number of rows in every leaf node. This has two benefits:\n",
    "\n",
    "There are less decision rules for each leaf node; simpler models should generalize better\n",
    "The predictions are made by averaging more rows in the leaf node, resulting in less volatility"
   ]
  },
  {
   "cell_type": "code",
   "execution_count": 427,
   "metadata": {},
   "outputs": [],
   "source": [
    "def dectree_max_depth(tree):\n",
    "    children_left = tree.children_left\n",
    "    children_right = tree.children_right\n",
    "\n",
    "    def walk(node_id):\n",
    "        if (children_left[node_id] != children_right[node_id]):\n",
    "            left_max = 1 + walk(children_left[node_id])\n",
    "            right_max = 1 + walk(children_right[node_id])\n",
    "            return max(left_max, right_max)\n",
    "        else: # leaf\n",
    "            return 1\n",
    "\n",
    "    root_node_id = 0\n",
    "    return walk(root_node_id)"
   ]
  },
  {
   "cell_type": "code",
   "execution_count": 428,
   "metadata": {},
   "outputs": [],
   "source": [
    "t=m.estimators_[0].tree_"
   ]
  },
  {
   "cell_type": "code",
   "execution_count": 429,
   "metadata": {},
   "outputs": [
    {
     "data": {
      "text/plain": [
       "26"
      ]
     },
     "execution_count": 429,
     "metadata": {},
     "output_type": "execute_result"
    }
   ],
   "source": [
    "dectree_max_depth(t)"
   ]
  },
  {
   "cell_type": "markdown",
   "metadata": {},
   "source": [
    "We do this by specifying (with `min_samples_leaf`) that we require some minimum number of rows in every leaf node. This has two benefits:\n",
    "\n",
    "- There are less decision rules for each leaf node; simpler models should generalize better\n",
    "- The predictions are made by averaging more rows in the leaf node, resulting in less volatility"
   ]
  },
  {
   "cell_type": "markdown",
   "metadata": {},
   "source": [
    "We will test the following: 1,3,5"
   ]
  },
  {
   "cell_type": "code",
   "execution_count": 432,
   "metadata": {},
   "outputs": [
    {
     "name": "stdout",
     "output_type": "stream",
     "text": [
      "[44.55606004322093, 85.70047271363954, 0.956918843489329, 0.8295348031990031, 0.7082214490773215]\n"
     ]
    }
   ],
   "source": [
    "m = RandomForestRegressor(n_estimators=40, min_samples_leaf=1, n_jobs=-1, oob_score=True, random_state= 1)\n",
    "m.fit(X_train, y_train)\n",
    "print_score(m)"
   ]
  },
  {
   "cell_type": "code",
   "execution_count": 433,
   "metadata": {},
   "outputs": [
    {
     "name": "stdout",
     "output_type": "stream",
     "text": [
      "[73.88198975706695, 91.90449048123416, 0.8815456650850051, 0.8039608762522648, 0.694800915723576]\n"
     ]
    }
   ],
   "source": [
    "m = RandomForestRegressor(n_estimators=40, min_samples_leaf=3, n_jobs=-1, oob_score=True,random_state= 1)\n",
    "m.fit(X_train, y_train)\n",
    "print_score(m)"
   ]
  },
  {
   "cell_type": "code",
   "execution_count": 434,
   "metadata": {},
   "outputs": [
    {
     "name": "stdout",
     "output_type": "stream",
     "text": [
      "[112.20923984272048, 108.19642947593209, 0.7267683323141088, 0.7282965533931427, 0.6149032383644548]\n"
     ]
    }
   ],
   "source": [
    "m = RandomForestRegressor(n_estimators=40, min_samples_leaf=10, n_jobs=-1, oob_score=True, random_state= 1)\n",
    "m.fit(X_train, y_train)\n",
    "print_score(m)"
   ]
  },
  {
   "cell_type": "markdown",
   "metadata": {},
   "source": [
    "We see that `min_samples_leaf` = 1 yields the most predictive outcome thus far.\n",
    "Nevertheless, it reduces our accuracy on predicting the test set by 0.2."
   ]
  },
  {
   "cell_type": "markdown",
   "metadata": {},
   "source": [
    "We can also increase the amount of variation amongst the trees by not only use a sample of rows for each tree, but to also using a sample of *columns* for each *split*. We do this by specifying `max_features`, which is the proportion of features to randomly select from at each split."
   ]
  },
  {
   "cell_type": "code",
   "execution_count": 424,
   "metadata": {},
   "outputs": [
    {
     "name": "stdout",
     "output_type": "stream",
     "text": [
      "[81.78492176366342, 96.78725863867803, 0.8548489180239087, 0.7825769078855993, 0.6539789146758797]\n"
     ]
    }
   ],
   "source": [
    "m = RandomForestRegressor(n_estimators=40, min_samples_leaf=3, max_features=\"log2\", n_jobs=-1, oob_score=True)\n",
    "m.fit(X_train, y_train)\n",
    "print_score(m)"
   ]
  },
  {
   "cell_type": "markdown",
   "metadata": {},
   "source": [
    "We notice that due to the lack of data our model is generlaising pretty well, but both the rmse of the training set and of the sample set decreased.\n",
    "\n",
    "Hence, we conclude that `max_features` is not useful in this instance."
   ]
  },
  {
   "cell_type": "markdown",
   "metadata": {},
   "source": [
    "### 3.5.4 Summary - Reducing overfitting. "
   ]
  },
  {
   "cell_type": "markdown",
   "metadata": {},
   "source": [
    "Thus far, we have seen how hyperparamter tuning affects our model predictions and understood that the lack of extensive data does influence our predictions. \n",
    "\n",
    "- `n_jobs` allows us to run our model faster by deciding how many CPUs we are going to use. \n",
    "- `n_estimators` helps us decide the number of trees in our Random Foster.\n",
    "- `oob_score` allows us to calculate the obb_score.\n",
    "- `set_rf_sample` allows us to extract a random subset of the training data and form a tree with each subset. This in  turn increases the generalisation of the model's prediction when testing it against the data.\n",
    "- `min_samples_leaf` helps us decide the depth of our tree. The idea is to create simpler trees, which predict worse when picking them singularly but in turn are less correlated with each other. This again enhances the generalisation capabilities of the model and makes it more accurate when predicting unseen data.\n",
    "- `max_features` allows us to dictate the feature used at each split of each tree. This is a fairly new hyperparamter, but the results shown by the skelearn documentation [show an example](http://scikit-learn.org/stable/auto_examples/ensemble/plot_ensemble_oob.html) of different `max_features` methods with increasing numbers of trees - as you see, using a subset of features on each split requires using more trees, but results in better models:\n",
    "![sklearn max_features chart](http://scikit-learn.org/stable/_images/sphx_glr_plot_ensemble_oob_001.png)"
   ]
  },
  {
   "cell_type": "markdown",
   "metadata": {},
   "source": [
    "Nevertheless, non of these hyperparameter increased the predictions. This is an issue with has to do with the data and its narrow properties.\n",
    "It might be possible that the prediction would increase exponentially if the same approach is used with a more extensive dataset (ex. 100k+ rows, 100+ columns)."
   ]
  },
  {
   "cell_type": "code",
   "execution_count": null,
   "metadata": {},
   "outputs": [],
   "source": [
    "### This project is currently under developement. "
   ]
  },
  {
   "cell_type": "code",
   "execution_count": null,
   "metadata": {},
   "outputs": [],
   "source": []
  }
 ],
 "metadata": {
  "kernelspec": {
   "display_name": "Python 3",
   "language": "python",
   "name": "python3"
  },
  "language_info": {
   "codemirror_mode": {
    "name": "ipython",
    "version": 3
   },
   "file_extension": ".py",
   "mimetype": "text/x-python",
   "name": "python",
   "nbconvert_exporter": "python",
   "pygments_lexer": "ipython3",
   "version": "3.6.5"
  }
 },
 "nbformat": 4,
 "nbformat_minor": 2
}
