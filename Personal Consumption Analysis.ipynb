{
 "cells": [
  {
   "cell_type": "markdown",
   "metadata": {},
   "source": [
    "# Importing Libraries, Data and Support Functions"
   ]
  },
  {
   "cell_type": "code",
   "execution_count": 1,
   "metadata": {},
   "outputs": [],
   "source": [
    "%load_ext autoreload\n",
    "%autoreload 2\n",
    "\n",
    "%matplotlib inline"
   ]
  },
  {
   "cell_type": "code",
   "execution_count": 2,
   "metadata": {},
   "outputs": [
    {
     "name": "stderr",
     "output_type": "stream",
     "text": [
      "/usr/local/lib/python3.6/dist-packages/sklearn/ensemble/weight_boosting.py:29: DeprecationWarning: numpy.core.umath_tests is an internal NumPy module and should not be imported. It will be removed in a future NumPy release.\n",
      "  from numpy.core.umath_tests import inner1d\n"
     ]
    }
   ],
   "source": [
    "from fastai.imports import *\n",
    "from fastai.structured import *\n",
    "\n",
    "from pandas_summary import DataFrameSummary\n",
    "from sklearn.ensemble import RandomForestRegressor, RandomForestClassifier\n",
    "from IPython.display import display\n",
    "\n",
    "from sklearn import metrics"
   ]
  },
  {
   "cell_type": "code",
   "execution_count": 3,
   "metadata": {},
   "outputs": [],
   "source": [
    "PATH = \"psdata/\""
   ]
  },
  {
   "cell_type": "code",
   "execution_count": 4,
   "metadata": {},
   "outputs": [
    {
     "name": "stdout",
     "output_type": "stream",
     "text": [
      "Bank Statement.csv\r\n"
     ]
    }
   ],
   "source": [
    "!ls {PATH}"
   ]
  },
  {
   "cell_type": "code",
   "execution_count": 5,
   "metadata": {},
   "outputs": [],
   "source": [
    "data = pd.read_csv(f'{PATH}Bank Statement.csv')"
   ]
  },
  {
   "cell_type": "markdown",
   "metadata": {},
   "source": [
    "## Creating support Functions"
   ]
  },
  {
   "cell_type": "code",
   "execution_count": 6,
   "metadata": {},
   "outputs": [],
   "source": [
    "def display_all(df):\n",
    "    with pd.option_context(\"display.max_rows\", 1000, \"display.max_columns\", 1000): \n",
    "        display(df)"
   ]
  },
  {
   "cell_type": "code",
   "execution_count": 7,
   "metadata": {},
   "outputs": [],
   "source": [
    "?display()"
   ]
  },
  {
   "cell_type": "code",
   "execution_count": 8,
   "metadata": {},
   "outputs": [],
   "source": [
    "def clean_col(inputlst):\n",
    "    col_list = []\n",
    "    for col in inputlst:\n",
    "        col = col.strip()\n",
    "        col = col.lower()\n",
    "        col = col.replace(\" \", \"_\")\n",
    "        col = col.replace(\"(\", \"\")\n",
    "        col = col.replace(\")\", \"\")\n",
    "        col = col.strip()\n",
    "        col_list.append(col)\n",
    "    return col_list"
   ]
  },
  {
   "cell_type": "code",
   "execution_count": 9,
   "metadata": {},
   "outputs": [],
   "source": [
    "def clean_str(inputstr):\n",
    "    floats = []\n",
    "    for row in inputstr:\n",
    "        row = row.replace(\"  \",\"0\")\n",
    "        floats.append(row)\n",
    "    return floats"
   ]
  },
  {
   "cell_type": "code",
   "execution_count": 10,
   "metadata": {},
   "outputs": [],
   "source": [
    "def clean_str2(inputstr):\n",
    "    floats = []\n",
    "    for row in inputstr:\n",
    "        if row == \"  \":\n",
    "            row = row.replace(\"  \",\"0\")\n",
    "            floats.append(row)\n",
    "        else:\n",
    "            floats.append(row)\n",
    "    return floats"
   ]
  },
  {
   "cell_type": "code",
   "execution_count": 11,
   "metadata": {},
   "outputs": [],
   "source": [
    "def clean_ex(lst):\n",
    "    clean_exg = []\n",
    "    for row in lst:\n",
    "        if row == 0:\n",
    "            row = float(row)\n",
    "            clean_exg.append(row)\n",
    "        elif \"EUR\" in row:\n",
    "            row = row.replace(\"EUR\",\"\")\n",
    "            row = row.strip()\n",
    "            row = float(row)\n",
    "            clean_exg.append(row)\n",
    "        elif \"GBP\" in row:\n",
    "            row = row.replace(\"GBP\",\" \")\n",
    "            row = row.strip()\n",
    "            row = float(row)\n",
    "            clean_exg.append(row)\n",
    "    return clean_exg\n",
    "            "
   ]
  },
  {
   "cell_type": "code",
   "execution_count": 12,
   "metadata": {},
   "outputs": [],
   "source": [
    "def rmse(x,y): return math.sqrt(((x-y)**2).mean())\n",
    "\n",
    "def print_score(m):\n",
    "    res = [rmse(m.predict(X_train), y_train), rmse(m.predict(X_test), y_test),\n",
    "                m.score(X_train, y_train), m.score(X_test, y_test)]\n",
    "    if hasattr(m, 'oob_score_'): res.append(m.oob_score_)\n",
    "    print(res)"
   ]
  },
  {
   "cell_type": "code",
   "execution_count": 81,
   "metadata": {},
   "outputs": [],
   "source": [
    "def dectree_max_depth(tree):\n",
    "    children_left = tree.children_left\n",
    "    children_right = tree.children_right\n",
    "\n",
    "    def walk(node_id):\n",
    "        if (children_left[node_id] != children_right[node_id]):\n",
    "            left_max = 1 + walk(children_left[node_id])\n",
    "            right_max = 1 + walk(children_right[node_id])\n",
    "            return max(left_max, right_max)\n",
    "        else: # leaf\n",
    "            return 1\n",
    "\n",
    "    root_node_id = 0\n",
    "    return walk(root_node_id)"
   ]
  },
  {
   "cell_type": "markdown",
   "metadata": {},
   "source": [
    "#  1. Inspecting Data"
   ]
  },
  {
   "cell_type": "code",
   "execution_count": 13,
   "metadata": {},
   "outputs": [
    {
     "data": {
      "text/html": [
       "<div>\n",
       "<style scoped>\n",
       "    .dataframe tbody tr th:only-of-type {\n",
       "        vertical-align: middle;\n",
       "    }\n",
       "\n",
       "    .dataframe tbody tr th {\n",
       "        vertical-align: top;\n",
       "    }\n",
       "\n",
       "    .dataframe thead th {\n",
       "        text-align: right;\n",
       "    }\n",
       "</style>\n",
       "<table border=\"1\" class=\"dataframe\">\n",
       "  <thead>\n",
       "    <tr style=\"text-align: right;\">\n",
       "      <th></th>\n",
       "      <th>Completed Date</th>\n",
       "      <th>Description</th>\n",
       "      <th>Paid Out (GBP)</th>\n",
       "      <th>Paid In (GBP)</th>\n",
       "      <th>Exchange Out</th>\n",
       "      <th>Exchange In</th>\n",
       "      <th>Balance (GBP)</th>\n",
       "      <th>Category</th>\n",
       "      <th>Notes</th>\n",
       "    </tr>\n",
       "  </thead>\n",
       "  <tbody>\n",
       "    <tr>\n",
       "      <th>0</th>\n",
       "      <td>06-Mar-19</td>\n",
       "      <td>Transport for London</td>\n",
       "      <td>6.3</td>\n",
       "      <td></td>\n",
       "      <td></td>\n",
       "      <td></td>\n",
       "      <td>-5.43</td>\n",
       "      <td>transport</td>\n",
       "      <td></td>\n",
       "    </tr>\n",
       "    <tr>\n",
       "      <th>1</th>\n",
       "      <td>05-Mar-19</td>\n",
       "      <td>Transport for London</td>\n",
       "      <td>8</td>\n",
       "      <td></td>\n",
       "      <td></td>\n",
       "      <td></td>\n",
       "      <td>12.44</td>\n",
       "      <td>transport</td>\n",
       "      <td></td>\n",
       "    </tr>\n",
       "    <tr>\n",
       "      <th>2</th>\n",
       "      <td>03-Mar-19</td>\n",
       "      <td>From Holidays</td>\n",
       "      <td></td>\n",
       "      <td>2.02</td>\n",
       "      <td></td>\n",
       "      <td></td>\n",
       "      <td>20.44</td>\n",
       "      <td>transfers</td>\n",
       "      <td></td>\n",
       "    </tr>\n",
       "    <tr>\n",
       "      <th>3</th>\n",
       "      <td>03-Mar-19</td>\n",
       "      <td>Uberbv</td>\n",
       "      <td>6</td>\n",
       "      <td></td>\n",
       "      <td></td>\n",
       "      <td></td>\n",
       "      <td>0.87</td>\n",
       "      <td>transport</td>\n",
       "      <td></td>\n",
       "    </tr>\n",
       "    <tr>\n",
       "      <th>4</th>\n",
       "      <td>03-Mar-19</td>\n",
       "      <td>From Luca Mircoli</td>\n",
       "      <td></td>\n",
       "      <td>10</td>\n",
       "      <td></td>\n",
       "      <td></td>\n",
       "      <td>18.42</td>\n",
       "      <td>transfers</td>\n",
       "      <td></td>\n",
       "    </tr>\n",
       "  </tbody>\n",
       "</table>\n",
       "</div>"
      ],
      "text/plain": [
       "  Completed Date              Description   Paid Out (GBP)   Paid In (GBP)   \\\n",
       "0       06-Mar-19   Transport for London                6.3                   \n",
       "1       05-Mar-19   Transport for London                  8                   \n",
       "2       03-Mar-19         From Holidays                                2.02   \n",
       "3       03-Mar-19                 Uberbv                  6                   \n",
       "4       03-Mar-19      From Luca Mircoli                                 10   \n",
       "\n",
       "   Exchange Out  Exchange In   Balance (GBP)    Category  Notes  \n",
       "0                                      -5.43   transport         \n",
       "1                                      12.44   transport         \n",
       "2                                      20.44   transfers         \n",
       "3                                       0.87   transport         \n",
       "4                                      18.42   transfers         "
      ]
     },
     "execution_count": 13,
     "metadata": {},
     "output_type": "execute_result"
    }
   ],
   "source": [
    "data.head()"
   ]
  },
  {
   "cell_type": "code",
   "execution_count": 14,
   "metadata": {},
   "outputs": [
    {
     "data": {
      "text/html": [
       "<div>\n",
       "<style scoped>\n",
       "    .dataframe tbody tr th:only-of-type {\n",
       "        vertical-align: middle;\n",
       "    }\n",
       "\n",
       "    .dataframe tbody tr th {\n",
       "        vertical-align: top;\n",
       "    }\n",
       "\n",
       "    .dataframe thead th {\n",
       "        text-align: right;\n",
       "    }\n",
       "</style>\n",
       "<table border=\"1\" class=\"dataframe\">\n",
       "  <thead>\n",
       "    <tr style=\"text-align: right;\">\n",
       "      <th></th>\n",
       "      <th>Completed Date</th>\n",
       "      <th>Description</th>\n",
       "      <th>Paid Out (GBP)</th>\n",
       "      <th>Paid In (GBP)</th>\n",
       "      <th>Exchange Out</th>\n",
       "      <th>Exchange In</th>\n",
       "      <th>Balance (GBP)</th>\n",
       "      <th>Category</th>\n",
       "      <th>Notes</th>\n",
       "    </tr>\n",
       "  </thead>\n",
       "  <tbody>\n",
       "    <tr>\n",
       "      <th>count</th>\n",
       "      <td>2272</td>\n",
       "      <td>2272</td>\n",
       "      <td>2272</td>\n",
       "      <td>2257</td>\n",
       "      <td>2246</td>\n",
       "      <td>2245</td>\n",
       "      <td>2245.000000</td>\n",
       "      <td>2099</td>\n",
       "      <td>2099</td>\n",
       "    </tr>\n",
       "    <tr>\n",
       "      <th>unique</th>\n",
       "      <td>436</td>\n",
       "      <td>454</td>\n",
       "      <td>637</td>\n",
       "      <td>144</td>\n",
       "      <td>60</td>\n",
       "      <td>1</td>\n",
       "      <td>NaN</td>\n",
       "      <td>12</td>\n",
       "      <td>28</td>\n",
       "    </tr>\n",
       "    <tr>\n",
       "      <th>top</th>\n",
       "      <td>14-Jan-19</td>\n",
       "      <td>To Holidays</td>\n",
       "      <td></td>\n",
       "      <td></td>\n",
       "      <td></td>\n",
       "      <td></td>\n",
       "      <td>NaN</td>\n",
       "      <td>transfers</td>\n",
       "      <td></td>\n",
       "    </tr>\n",
       "    <tr>\n",
       "      <th>freq</th>\n",
       "      <td>21</td>\n",
       "      <td>708</td>\n",
       "      <td>204</td>\n",
       "      <td>2053</td>\n",
       "      <td>2165</td>\n",
       "      <td>2245</td>\n",
       "      <td>NaN</td>\n",
       "      <td>874</td>\n",
       "      <td>2047</td>\n",
       "    </tr>\n",
       "    <tr>\n",
       "      <th>mean</th>\n",
       "      <td>NaN</td>\n",
       "      <td>NaN</td>\n",
       "      <td>NaN</td>\n",
       "      <td>NaN</td>\n",
       "      <td>NaN</td>\n",
       "      <td>NaN</td>\n",
       "      <td>241.032459</td>\n",
       "      <td>NaN</td>\n",
       "      <td>NaN</td>\n",
       "    </tr>\n",
       "    <tr>\n",
       "      <th>std</th>\n",
       "      <td>NaN</td>\n",
       "      <td>NaN</td>\n",
       "      <td>NaN</td>\n",
       "      <td>NaN</td>\n",
       "      <td>NaN</td>\n",
       "      <td>NaN</td>\n",
       "      <td>212.981127</td>\n",
       "      <td>NaN</td>\n",
       "      <td>NaN</td>\n",
       "    </tr>\n",
       "    <tr>\n",
       "      <th>min</th>\n",
       "      <td>NaN</td>\n",
       "      <td>NaN</td>\n",
       "      <td>NaN</td>\n",
       "      <td>NaN</td>\n",
       "      <td>NaN</td>\n",
       "      <td>NaN</td>\n",
       "      <td>-5.430000</td>\n",
       "      <td>NaN</td>\n",
       "      <td>NaN</td>\n",
       "    </tr>\n",
       "    <tr>\n",
       "      <th>25%</th>\n",
       "      <td>NaN</td>\n",
       "      <td>NaN</td>\n",
       "      <td>NaN</td>\n",
       "      <td>NaN</td>\n",
       "      <td>NaN</td>\n",
       "      <td>NaN</td>\n",
       "      <td>80.930000</td>\n",
       "      <td>NaN</td>\n",
       "      <td>NaN</td>\n",
       "    </tr>\n",
       "    <tr>\n",
       "      <th>50%</th>\n",
       "      <td>NaN</td>\n",
       "      <td>NaN</td>\n",
       "      <td>NaN</td>\n",
       "      <td>NaN</td>\n",
       "      <td>NaN</td>\n",
       "      <td>NaN</td>\n",
       "      <td>192.480000</td>\n",
       "      <td>NaN</td>\n",
       "      <td>NaN</td>\n",
       "    </tr>\n",
       "    <tr>\n",
       "      <th>75%</th>\n",
       "      <td>NaN</td>\n",
       "      <td>NaN</td>\n",
       "      <td>NaN</td>\n",
       "      <td>NaN</td>\n",
       "      <td>NaN</td>\n",
       "      <td>NaN</td>\n",
       "      <td>337.620000</td>\n",
       "      <td>NaN</td>\n",
       "      <td>NaN</td>\n",
       "    </tr>\n",
       "    <tr>\n",
       "      <th>max</th>\n",
       "      <td>NaN</td>\n",
       "      <td>NaN</td>\n",
       "      <td>NaN</td>\n",
       "      <td>NaN</td>\n",
       "      <td>NaN</td>\n",
       "      <td>NaN</td>\n",
       "      <td>998.460000</td>\n",
       "      <td>NaN</td>\n",
       "      <td>NaN</td>\n",
       "    </tr>\n",
       "  </tbody>\n",
       "</table>\n",
       "</div>"
      ],
      "text/plain": [
       "       Completed Date      Description   Paid Out (GBP)   Paid In (GBP)   \\\n",
       "count             2272             2272             2272            2257   \n",
       "unique             436              454              637             144   \n",
       "top          14-Jan-19   To Holidays                                       \n",
       "freq                21              708              204            2053   \n",
       "mean               NaN              NaN              NaN             NaN   \n",
       "std                NaN              NaN              NaN             NaN   \n",
       "min                NaN              NaN              NaN             NaN   \n",
       "25%                NaN              NaN              NaN             NaN   \n",
       "50%                NaN              NaN              NaN             NaN   \n",
       "75%                NaN              NaN              NaN             NaN   \n",
       "max                NaN              NaN              NaN             NaN   \n",
       "\n",
       "        Exchange Out  Exchange In   Balance (GBP)    Category  Notes  \n",
       "count           2246         2245     2245.000000        2099   2099  \n",
       "unique            60            1             NaN          12     28  \n",
       "top                                           NaN   transfers         \n",
       "freq            2165         2245             NaN         874   2047  \n",
       "mean             NaN          NaN      241.032459         NaN    NaN  \n",
       "std              NaN          NaN      212.981127         NaN    NaN  \n",
       "min              NaN          NaN       -5.430000         NaN    NaN  \n",
       "25%              NaN          NaN       80.930000         NaN    NaN  \n",
       "50%              NaN          NaN      192.480000         NaN    NaN  \n",
       "75%              NaN          NaN      337.620000         NaN    NaN  \n",
       "max              NaN          NaN      998.460000         NaN    NaN  "
      ]
     },
     "metadata": {},
     "output_type": "display_data"
    }
   ],
   "source": [
    "display_all(data.describe(include='all'))"
   ]
  },
  {
   "cell_type": "markdown",
   "metadata": {},
   "source": [
    "# 2. Data Cleaning"
   ]
  },
  {
   "cell_type": "code",
   "execution_count": 15,
   "metadata": {},
   "outputs": [
    {
     "data": {
      "text/plain": [
       "Index(['Completed Date ', ' Description ', ' Paid Out (GBP) ',\n",
       "       ' Paid In (GBP) ', ' Exchange Out', ' Exchange In', ' Balance (GBP)',\n",
       "       ' Category', ' Notes'],\n",
       "      dtype='object')"
      ]
     },
     "execution_count": 15,
     "metadata": {},
     "output_type": "execute_result"
    }
   ],
   "source": [
    "data.columns"
   ]
  },
  {
   "cell_type": "markdown",
   "metadata": {},
   "source": [
    "### 2.1 Cleaning Columns Names"
   ]
  },
  {
   "cell_type": "code",
   "execution_count": 16,
   "metadata": {},
   "outputs": [
    {
     "name": "stdout",
     "output_type": "stream",
     "text": [
      "Index(['completed_date', 'description', 'paid_out_gbp', 'paid_in_gbp',\n",
      "       'exchange_out', 'exchange_in', 'balance_gbp', 'category', 'notes'],\n",
      "      dtype='object')\n"
     ]
    }
   ],
   "source": [
    "data.columns = clean_col(data.columns)\n",
    "print(data.columns)"
   ]
  },
  {
   "cell_type": "code",
   "execution_count": 17,
   "metadata": {},
   "outputs": [
    {
     "data": {
      "text/plain": [
       "completed_date     object\n",
       "description        object\n",
       "paid_out_gbp       object\n",
       "paid_in_gbp        object\n",
       "exchange_out       object\n",
       "exchange_in        object\n",
       "balance_gbp       float64\n",
       "category           object\n",
       "notes              object\n",
       "dtype: object"
      ]
     },
     "execution_count": 17,
     "metadata": {},
     "output_type": "execute_result"
    }
   ],
   "source": [
    "data.dtypes"
   ]
  },
  {
   "cell_type": "markdown",
   "metadata": {},
   "source": [
    "### 2.2 Cleaning \"description\""
   ]
  },
  {
   "cell_type": "code",
   "execution_count": 18,
   "metadata": {},
   "outputs": [
    {
     "data": {
      "text/plain": [
       "[' Transport for London  ',\n",
       " ' Transport for London  ',\n",
       " ' From Holidays   ',\n",
       " ' Uberbv  ',\n",
       " ' From Luca Mircoli  ']"
      ]
     },
     "execution_count": 18,
     "metadata": {},
     "output_type": "execute_result"
    }
   ],
   "source": [
    "list(data[\"description\"].head())"
   ]
  },
  {
   "cell_type": "code",
   "execution_count": 19,
   "metadata": {},
   "outputs": [
    {
     "name": "stdout",
     "output_type": "stream",
     "text": [
      "0         transport_for_london\n",
      "1         transport_for_london\n",
      "2                from_holidays\n",
      "3                       uberbv\n",
      "4            from_luca_mircoli\n",
      "5                  to_holidays\n",
      "6                       uberbv\n",
      "7            from_luca_mircoli\n",
      "8       to_christopher_maclean\n",
      "9    payment_from_kamenskikh_k\n",
      "Name: description, dtype: object 2262                        to_lorenz_maresca\n",
      "2263                   payment_from_l_maresca\n",
      "2264                     transport_for_london\n",
      "2265          payment_from_complete_accountin\n",
      "2266    exchange_gbp_to__fx_rate_£1_=_€1.0748\n",
      "2267                   payment_from_l_maresca\n",
      "2268    exchange_gbp_to__fx_rate_£1_=_€1.0836\n",
      "2269                   payment_from_l_maresca\n",
      "2270                        card_delivery_fee\n",
      "2271                     top-up_via_apple_pay\n",
      "Name: description, dtype: object\n"
     ]
    }
   ],
   "source": [
    "data[\"description\"] = clean_col(data[\"description\"])\n",
    "print(data[\"description\"].head(10), data[\"description\"].tail(10))"
   ]
  },
  {
   "cell_type": "markdown",
   "metadata": {},
   "source": [
    "### 2.3 Converting \"paid_out_gbp\" to float"
   ]
  },
  {
   "cell_type": "code",
   "execution_count": 20,
   "metadata": {},
   "outputs": [],
   "source": [
    "data[\"paid_out_gbp\"] = clean_str(data[\"paid_out_gbp\"])"
   ]
  },
  {
   "cell_type": "code",
   "execution_count": 21,
   "metadata": {},
   "outputs": [],
   "source": [
    "data[\"paid_out_gbp\"] = data[\"paid_out_gbp\"].astype(float)"
   ]
  },
  {
   "cell_type": "code",
   "execution_count": 22,
   "metadata": {},
   "outputs": [
    {
     "data": {
      "text/plain": [
       "completed_date     object\n",
       "description        object\n",
       "paid_out_gbp      float64\n",
       "paid_in_gbp        object\n",
       "exchange_out       object\n",
       "exchange_in        object\n",
       "balance_gbp       float64\n",
       "category           object\n",
       "notes              object\n",
       "dtype: object"
      ]
     },
     "execution_count": 22,
     "metadata": {},
     "output_type": "execute_result"
    }
   ],
   "source": [
    "data.dtypes"
   ]
  },
  {
   "cell_type": "markdown",
   "metadata": {},
   "source": [
    "### 2.4 Converting \"paid_in_gbp\" to float"
   ]
  },
  {
   "cell_type": "code",
   "execution_count": 23,
   "metadata": {},
   "outputs": [],
   "source": [
    "data[\"paid_in_gbp\"] = data[\"paid_in_gbp\"].fillna(0)\n",
    "data[\"paid_in_gbp\"] = clean_str2(data[\"paid_in_gbp\"])"
   ]
  },
  {
   "cell_type": "code",
   "execution_count": 24,
   "metadata": {},
   "outputs": [],
   "source": [
    "data[\"paid_in_gbp\"] = data[\"paid_in_gbp\"].astype(float)"
   ]
  },
  {
   "cell_type": "code",
   "execution_count": 25,
   "metadata": {},
   "outputs": [
    {
     "data": {
      "text/plain": [
       "completed_date     object\n",
       "description        object\n",
       "paid_out_gbp      float64\n",
       "paid_in_gbp       float64\n",
       "exchange_out       object\n",
       "exchange_in        object\n",
       "balance_gbp       float64\n",
       "category           object\n",
       "notes              object\n",
       "dtype: object"
      ]
     },
     "execution_count": 25,
     "metadata": {},
     "output_type": "execute_result"
    }
   ],
   "source": [
    "data.dtypes"
   ]
  },
  {
   "cell_type": "markdown",
   "metadata": {},
   "source": [
    "### 2.5 Cleaning \"exchange_out\""
   ]
  },
  {
   "cell_type": "code",
   "execution_count": 26,
   "metadata": {},
   "outputs": [],
   "source": [
    "data[\"exchange_out\"] = data[\"exchange_out\"].fillna(0)"
   ]
  },
  {
   "cell_type": "code",
   "execution_count": 27,
   "metadata": {},
   "outputs": [
    {
     "name": "stderr",
     "output_type": "stream",
     "text": [
      "/usr/local/lib/python3.6/dist-packages/ipykernel_launcher.py:2: SettingWithCopyWarning: \n",
      "A value is trying to be set on a copy of a slice from a DataFrame\n",
      "\n",
      "See the caveats in the documentation: http://pandas.pydata.org/pandas-docs/stable/indexing.html#indexing-view-versus-copy\n",
      "  \n"
     ]
    }
   ],
   "source": [
    "for i in data.columns:\n",
    "    data[i][data[i].apply(lambda i: True if re.search('^\\s*$', str(i)) else False)]=None"
   ]
  },
  {
   "cell_type": "code",
   "execution_count": 28,
   "metadata": {},
   "outputs": [
    {
     "data": {
      "text/plain": [
       "0                26\n",
       "  EUR 500.00      6\n",
       "  EUR 150.00      4\n",
       "  EUR 200.00      4\n",
       "  EUR 800.00      4\n",
       "Name: exchange_out, dtype: int64"
      ]
     },
     "execution_count": 28,
     "metadata": {},
     "output_type": "execute_result"
    }
   ],
   "source": [
    "data[\"exchange_out\"].value_counts().head()"
   ]
  },
  {
   "cell_type": "code",
   "execution_count": 29,
   "metadata": {},
   "outputs": [],
   "source": [
    "data[\"exchange_out\"] = data[\"exchange_out\"].fillna(0)"
   ]
  },
  {
   "cell_type": "code",
   "execution_count": 30,
   "metadata": {},
   "outputs": [
    {
     "data": {
      "text/plain": [
       "0                2191\n",
       "  EUR 500.00        6\n",
       "  EUR 150.00        4\n",
       "  EUR 200.00        4\n",
       "  EUR 800.00        4\n",
       "Name: exchange_out, dtype: int64"
      ]
     },
     "execution_count": 30,
     "metadata": {},
     "output_type": "execute_result"
    }
   ],
   "source": [
    "data[\"exchange_out\"].value_counts().head()"
   ]
  },
  {
   "cell_type": "code",
   "execution_count": 31,
   "metadata": {},
   "outputs": [],
   "source": [
    "data[\"exchange_out\"] = clean_ex(data[\"exchange_out\"])"
   ]
  },
  {
   "cell_type": "code",
   "execution_count": 32,
   "metadata": {},
   "outputs": [
    {
     "data": {
      "text/plain": [
       "0.0      2191\n",
       "500.0       6\n",
       "100.0       6\n",
       "150.0       6\n",
       "200.0       5\n",
       "Name: exchange_out, dtype: int64"
      ]
     },
     "execution_count": 32,
     "metadata": {},
     "output_type": "execute_result"
    }
   ],
   "source": [
    "data[\"exchange_out\"].value_counts().head()"
   ]
  },
  {
   "cell_type": "code",
   "execution_count": 33,
   "metadata": {},
   "outputs": [
    {
     "data": {
      "text/plain": [
       "completed_date     object\n",
       "description        object\n",
       "paid_out_gbp      float64\n",
       "paid_in_gbp       float64\n",
       "exchange_out      float64\n",
       "exchange_in        object\n",
       "balance_gbp       float64\n",
       "category           object\n",
       "notes              object\n",
       "dtype: object"
      ]
     },
     "execution_count": 33,
     "metadata": {},
     "output_type": "execute_result"
    }
   ],
   "source": [
    "data.dtypes"
   ]
  },
  {
   "cell_type": "markdown",
   "metadata": {},
   "source": [
    "### 2.6 Cleaning \"exchange_in\""
   ]
  },
  {
   "cell_type": "code",
   "execution_count": 34,
   "metadata": {},
   "outputs": [],
   "source": [
    "data[\"exchange_in\"] = data[\"exchange_in\"].fillna(0)"
   ]
  },
  {
   "cell_type": "code",
   "execution_count": 35,
   "metadata": {},
   "outputs": [],
   "source": [
    "data[\"exchange_in\"] =clean_ex(data[\"exchange_in\"])"
   ]
  },
  {
   "cell_type": "code",
   "execution_count": 36,
   "metadata": {},
   "outputs": [
    {
     "data": {
      "text/plain": [
       "0.0    2272\n",
       "Name: exchange_in, dtype: int64"
      ]
     },
     "execution_count": 36,
     "metadata": {},
     "output_type": "execute_result"
    }
   ],
   "source": [
    "data[\"exchange_in\"].value_counts()"
   ]
  },
  {
   "cell_type": "code",
   "execution_count": 37,
   "metadata": {},
   "outputs": [
    {
     "data": {
      "text/plain": [
       "completed_date     object\n",
       "description        object\n",
       "paid_out_gbp      float64\n",
       "paid_in_gbp       float64\n",
       "exchange_out      float64\n",
       "exchange_in       float64\n",
       "balance_gbp       float64\n",
       "category           object\n",
       "notes              object\n",
       "dtype: object"
      ]
     },
     "execution_count": 37,
     "metadata": {},
     "output_type": "execute_result"
    }
   ],
   "source": [
    "data.dtypes"
   ]
  },
  {
   "cell_type": "markdown",
   "metadata": {},
   "source": [
    "### 2.7 Cleaning \"balance_gdp\""
   ]
  },
  {
   "cell_type": "code",
   "execution_count": 38,
   "metadata": {},
   "outputs": [],
   "source": [
    "data[\"balance_gbp\"] = data[\"balance_gbp\"].fillna(0)"
   ]
  },
  {
   "cell_type": "markdown",
   "metadata": {},
   "source": [
    "### 2.8 Cleaning \"date\""
   ]
  },
  {
   "cell_type": "code",
   "execution_count": 39,
   "metadata": {},
   "outputs": [
    {
     "data": {
      "text/plain": [
       "completed_date    datetime64[ns]\n",
       "description               object\n",
       "paid_out_gbp             float64\n",
       "paid_in_gbp              float64\n",
       "exchange_out             float64\n",
       "exchange_in              float64\n",
       "balance_gbp              float64\n",
       "category                  object\n",
       "notes                     object\n",
       "dtype: object"
      ]
     },
     "execution_count": 39,
     "metadata": {},
     "output_type": "execute_result"
    }
   ],
   "source": [
    "data[\"completed_date\"] = pd.to_datetime(data[\"completed_date\"])\n",
    "data.dtypes"
   ]
  },
  {
   "cell_type": "code",
   "execution_count": 40,
   "metadata": {},
   "outputs": [
    {
     "data": {
      "text/html": [
       "<div>\n",
       "<style scoped>\n",
       "    .dataframe tbody tr th:only-of-type {\n",
       "        vertical-align: middle;\n",
       "    }\n",
       "\n",
       "    .dataframe tbody tr th {\n",
       "        vertical-align: top;\n",
       "    }\n",
       "\n",
       "    .dataframe thead th {\n",
       "        text-align: right;\n",
       "    }\n",
       "</style>\n",
       "<table border=\"1\" class=\"dataframe\">\n",
       "  <thead>\n",
       "    <tr style=\"text-align: right;\">\n",
       "      <th></th>\n",
       "      <th>description</th>\n",
       "      <th>paid_out_gbp</th>\n",
       "      <th>paid_in_gbp</th>\n",
       "      <th>exchange_out</th>\n",
       "      <th>exchange_in</th>\n",
       "      <th>balance_gbp</th>\n",
       "      <th>category</th>\n",
       "      <th>notes</th>\n",
       "      <th>completed_Year</th>\n",
       "      <th>completed_Month</th>\n",
       "      <th>...</th>\n",
       "      <th>completed_Day</th>\n",
       "      <th>completed_Dayofweek</th>\n",
       "      <th>completed_Dayofyear</th>\n",
       "      <th>completed_Is_month_end</th>\n",
       "      <th>completed_Is_month_start</th>\n",
       "      <th>completed_Is_quarter_end</th>\n",
       "      <th>completed_Is_quarter_start</th>\n",
       "      <th>completed_Is_year_end</th>\n",
       "      <th>completed_Is_year_start</th>\n",
       "      <th>completed_Elapsed</th>\n",
       "    </tr>\n",
       "  </thead>\n",
       "  <tbody>\n",
       "    <tr>\n",
       "      <th>0</th>\n",
       "      <td>transport_for_london</td>\n",
       "      <td>6.3</td>\n",
       "      <td>0.00</td>\n",
       "      <td>0.0</td>\n",
       "      <td>0.0</td>\n",
       "      <td>-5.43</td>\n",
       "      <td>transport</td>\n",
       "      <td>None</td>\n",
       "      <td>2019</td>\n",
       "      <td>3</td>\n",
       "      <td>...</td>\n",
       "      <td>6</td>\n",
       "      <td>2</td>\n",
       "      <td>65</td>\n",
       "      <td>False</td>\n",
       "      <td>False</td>\n",
       "      <td>False</td>\n",
       "      <td>False</td>\n",
       "      <td>False</td>\n",
       "      <td>False</td>\n",
       "      <td>1551830400</td>\n",
       "    </tr>\n",
       "    <tr>\n",
       "      <th>1</th>\n",
       "      <td>transport_for_london</td>\n",
       "      <td>8.0</td>\n",
       "      <td>0.00</td>\n",
       "      <td>0.0</td>\n",
       "      <td>0.0</td>\n",
       "      <td>12.44</td>\n",
       "      <td>transport</td>\n",
       "      <td>None</td>\n",
       "      <td>2019</td>\n",
       "      <td>3</td>\n",
       "      <td>...</td>\n",
       "      <td>5</td>\n",
       "      <td>1</td>\n",
       "      <td>64</td>\n",
       "      <td>False</td>\n",
       "      <td>False</td>\n",
       "      <td>False</td>\n",
       "      <td>False</td>\n",
       "      <td>False</td>\n",
       "      <td>False</td>\n",
       "      <td>1551744000</td>\n",
       "    </tr>\n",
       "    <tr>\n",
       "      <th>2</th>\n",
       "      <td>from_holidays</td>\n",
       "      <td>0.0</td>\n",
       "      <td>2.02</td>\n",
       "      <td>0.0</td>\n",
       "      <td>0.0</td>\n",
       "      <td>20.44</td>\n",
       "      <td>transfers</td>\n",
       "      <td>None</td>\n",
       "      <td>2019</td>\n",
       "      <td>3</td>\n",
       "      <td>...</td>\n",
       "      <td>3</td>\n",
       "      <td>6</td>\n",
       "      <td>62</td>\n",
       "      <td>False</td>\n",
       "      <td>False</td>\n",
       "      <td>False</td>\n",
       "      <td>False</td>\n",
       "      <td>False</td>\n",
       "      <td>False</td>\n",
       "      <td>1551571200</td>\n",
       "    </tr>\n",
       "    <tr>\n",
       "      <th>3</th>\n",
       "      <td>uberbv</td>\n",
       "      <td>6.0</td>\n",
       "      <td>0.00</td>\n",
       "      <td>0.0</td>\n",
       "      <td>0.0</td>\n",
       "      <td>0.87</td>\n",
       "      <td>transport</td>\n",
       "      <td>None</td>\n",
       "      <td>2019</td>\n",
       "      <td>3</td>\n",
       "      <td>...</td>\n",
       "      <td>3</td>\n",
       "      <td>6</td>\n",
       "      <td>62</td>\n",
       "      <td>False</td>\n",
       "      <td>False</td>\n",
       "      <td>False</td>\n",
       "      <td>False</td>\n",
       "      <td>False</td>\n",
       "      <td>False</td>\n",
       "      <td>1551571200</td>\n",
       "    </tr>\n",
       "    <tr>\n",
       "      <th>4</th>\n",
       "      <td>from_luca_mircoli</td>\n",
       "      <td>0.0</td>\n",
       "      <td>10.00</td>\n",
       "      <td>0.0</td>\n",
       "      <td>0.0</td>\n",
       "      <td>18.42</td>\n",
       "      <td>transfers</td>\n",
       "      <td>None</td>\n",
       "      <td>2019</td>\n",
       "      <td>3</td>\n",
       "      <td>...</td>\n",
       "      <td>3</td>\n",
       "      <td>6</td>\n",
       "      <td>62</td>\n",
       "      <td>False</td>\n",
       "      <td>False</td>\n",
       "      <td>False</td>\n",
       "      <td>False</td>\n",
       "      <td>False</td>\n",
       "      <td>False</td>\n",
       "      <td>1551571200</td>\n",
       "    </tr>\n",
       "  </tbody>\n",
       "</table>\n",
       "<p>5 rows × 21 columns</p>\n",
       "</div>"
      ],
      "text/plain": [
       "            description  paid_out_gbp  paid_in_gbp  exchange_out  exchange_in  \\\n",
       "0  transport_for_london           6.3         0.00           0.0          0.0   \n",
       "1  transport_for_london           8.0         0.00           0.0          0.0   \n",
       "2         from_holidays           0.0         2.02           0.0          0.0   \n",
       "3                uberbv           6.0         0.00           0.0          0.0   \n",
       "4     from_luca_mircoli           0.0        10.00           0.0          0.0   \n",
       "\n",
       "   balance_gbp    category notes  completed_Year  completed_Month  \\\n",
       "0        -5.43   transport  None            2019                3   \n",
       "1        12.44   transport  None            2019                3   \n",
       "2        20.44   transfers  None            2019                3   \n",
       "3         0.87   transport  None            2019                3   \n",
       "4        18.42   transfers  None            2019                3   \n",
       "\n",
       "         ...          completed_Day  completed_Dayofweek  completed_Dayofyear  \\\n",
       "0        ...                      6                    2                   65   \n",
       "1        ...                      5                    1                   64   \n",
       "2        ...                      3                    6                   62   \n",
       "3        ...                      3                    6                   62   \n",
       "4        ...                      3                    6                   62   \n",
       "\n",
       "   completed_Is_month_end  completed_Is_month_start  completed_Is_quarter_end  \\\n",
       "0                   False                     False                     False   \n",
       "1                   False                     False                     False   \n",
       "2                   False                     False                     False   \n",
       "3                   False                     False                     False   \n",
       "4                   False                     False                     False   \n",
       "\n",
       "   completed_Is_quarter_start  completed_Is_year_end  completed_Is_year_start  \\\n",
       "0                       False                  False                    False   \n",
       "1                       False                  False                    False   \n",
       "2                       False                  False                    False   \n",
       "3                       False                  False                    False   \n",
       "4                       False                  False                    False   \n",
       "\n",
       "   completed_Elapsed  \n",
       "0         1551830400  \n",
       "1         1551744000  \n",
       "2         1551571200  \n",
       "3         1551571200  \n",
       "4         1551571200  \n",
       "\n",
       "[5 rows x 21 columns]"
      ]
     },
     "execution_count": 40,
     "metadata": {},
     "output_type": "execute_result"
    }
   ],
   "source": [
    "add_datepart(data, 'completed_date')\n",
    "data.head()"
   ]
  },
  {
   "cell_type": "code",
   "execution_count": 41,
   "metadata": {},
   "outputs": [
    {
     "data": {
      "text/plain": [
       "description                    object\n",
       "paid_out_gbp                  float64\n",
       "paid_in_gbp                   float64\n",
       "exchange_out                  float64\n",
       "exchange_in                   float64\n",
       "balance_gbp                   float64\n",
       "category                       object\n",
       "notes                          object\n",
       "completed_Year                  int64\n",
       "completed_Month                 int64\n",
       "completed_Week                  int64\n",
       "completed_Day                   int64\n",
       "completed_Dayofweek             int64\n",
       "completed_Dayofyear             int64\n",
       "completed_Is_month_end           bool\n",
       "completed_Is_month_start         bool\n",
       "completed_Is_quarter_end         bool\n",
       "completed_Is_quarter_start       bool\n",
       "completed_Is_year_end            bool\n",
       "completed_Is_year_start          bool\n",
       "completed_Elapsed               int64\n",
       "dtype: object"
      ]
     },
     "execution_count": 41,
     "metadata": {},
     "output_type": "execute_result"
    }
   ],
   "source": [
    "data.dtypes"
   ]
  },
  {
   "cell_type": "markdown",
   "metadata": {},
   "source": [
    "### 2.9 Cleaning \"notes\""
   ]
  },
  {
   "cell_type": "code",
   "execution_count": 42,
   "metadata": {},
   "outputs": [],
   "source": [
    "data[\"notes\"] = data[\"notes\"].fillna(\"no_note\")"
   ]
  },
  {
   "cell_type": "markdown",
   "metadata": {},
   "source": [
    "### 2.10 Cleaning remaining \"categorical variables\""
   ]
  },
  {
   "cell_type": "code",
   "execution_count": 43,
   "metadata": {},
   "outputs": [
    {
     "data": {
      "text/html": [
       "<div>\n",
       "<style scoped>\n",
       "    .dataframe tbody tr th:only-of-type {\n",
       "        vertical-align: middle;\n",
       "    }\n",
       "\n",
       "    .dataframe tbody tr th {\n",
       "        vertical-align: top;\n",
       "    }\n",
       "\n",
       "    .dataframe thead th {\n",
       "        text-align: right;\n",
       "    }\n",
       "</style>\n",
       "<table border=\"1\" class=\"dataframe\">\n",
       "  <thead>\n",
       "    <tr style=\"text-align: right;\">\n",
       "      <th></th>\n",
       "      <th>description</th>\n",
       "      <th>paid_out_gbp</th>\n",
       "      <th>paid_in_gbp</th>\n",
       "      <th>exchange_out</th>\n",
       "      <th>exchange_in</th>\n",
       "      <th>balance_gbp</th>\n",
       "      <th>category</th>\n",
       "      <th>notes</th>\n",
       "      <th>completed_Year</th>\n",
       "      <th>completed_Month</th>\n",
       "      <th>...</th>\n",
       "      <th>completed_Day</th>\n",
       "      <th>completed_Dayofweek</th>\n",
       "      <th>completed_Dayofyear</th>\n",
       "      <th>completed_Is_month_end</th>\n",
       "      <th>completed_Is_month_start</th>\n",
       "      <th>completed_Is_quarter_end</th>\n",
       "      <th>completed_Is_quarter_start</th>\n",
       "      <th>completed_Is_year_end</th>\n",
       "      <th>completed_Is_year_start</th>\n",
       "      <th>completed_Elapsed</th>\n",
       "    </tr>\n",
       "  </thead>\n",
       "  <tbody>\n",
       "    <tr>\n",
       "      <th>0</th>\n",
       "      <td>transport_for_london</td>\n",
       "      <td>6.3</td>\n",
       "      <td>0.00</td>\n",
       "      <td>0.0</td>\n",
       "      <td>0.0</td>\n",
       "      <td>-5.43</td>\n",
       "      <td>transport</td>\n",
       "      <td>no_note</td>\n",
       "      <td>2019</td>\n",
       "      <td>3</td>\n",
       "      <td>...</td>\n",
       "      <td>6</td>\n",
       "      <td>2</td>\n",
       "      <td>65</td>\n",
       "      <td>False</td>\n",
       "      <td>False</td>\n",
       "      <td>False</td>\n",
       "      <td>False</td>\n",
       "      <td>False</td>\n",
       "      <td>False</td>\n",
       "      <td>1551830400</td>\n",
       "    </tr>\n",
       "    <tr>\n",
       "      <th>1</th>\n",
       "      <td>transport_for_london</td>\n",
       "      <td>8.0</td>\n",
       "      <td>0.00</td>\n",
       "      <td>0.0</td>\n",
       "      <td>0.0</td>\n",
       "      <td>12.44</td>\n",
       "      <td>transport</td>\n",
       "      <td>no_note</td>\n",
       "      <td>2019</td>\n",
       "      <td>3</td>\n",
       "      <td>...</td>\n",
       "      <td>5</td>\n",
       "      <td>1</td>\n",
       "      <td>64</td>\n",
       "      <td>False</td>\n",
       "      <td>False</td>\n",
       "      <td>False</td>\n",
       "      <td>False</td>\n",
       "      <td>False</td>\n",
       "      <td>False</td>\n",
       "      <td>1551744000</td>\n",
       "    </tr>\n",
       "    <tr>\n",
       "      <th>2</th>\n",
       "      <td>from_holidays</td>\n",
       "      <td>0.0</td>\n",
       "      <td>2.02</td>\n",
       "      <td>0.0</td>\n",
       "      <td>0.0</td>\n",
       "      <td>20.44</td>\n",
       "      <td>transfers</td>\n",
       "      <td>no_note</td>\n",
       "      <td>2019</td>\n",
       "      <td>3</td>\n",
       "      <td>...</td>\n",
       "      <td>3</td>\n",
       "      <td>6</td>\n",
       "      <td>62</td>\n",
       "      <td>False</td>\n",
       "      <td>False</td>\n",
       "      <td>False</td>\n",
       "      <td>False</td>\n",
       "      <td>False</td>\n",
       "      <td>False</td>\n",
       "      <td>1551571200</td>\n",
       "    </tr>\n",
       "    <tr>\n",
       "      <th>3</th>\n",
       "      <td>uberbv</td>\n",
       "      <td>6.0</td>\n",
       "      <td>0.00</td>\n",
       "      <td>0.0</td>\n",
       "      <td>0.0</td>\n",
       "      <td>0.87</td>\n",
       "      <td>transport</td>\n",
       "      <td>no_note</td>\n",
       "      <td>2019</td>\n",
       "      <td>3</td>\n",
       "      <td>...</td>\n",
       "      <td>3</td>\n",
       "      <td>6</td>\n",
       "      <td>62</td>\n",
       "      <td>False</td>\n",
       "      <td>False</td>\n",
       "      <td>False</td>\n",
       "      <td>False</td>\n",
       "      <td>False</td>\n",
       "      <td>False</td>\n",
       "      <td>1551571200</td>\n",
       "    </tr>\n",
       "    <tr>\n",
       "      <th>4</th>\n",
       "      <td>from_luca_mircoli</td>\n",
       "      <td>0.0</td>\n",
       "      <td>10.00</td>\n",
       "      <td>0.0</td>\n",
       "      <td>0.0</td>\n",
       "      <td>18.42</td>\n",
       "      <td>transfers</td>\n",
       "      <td>no_note</td>\n",
       "      <td>2019</td>\n",
       "      <td>3</td>\n",
       "      <td>...</td>\n",
       "      <td>3</td>\n",
       "      <td>6</td>\n",
       "      <td>62</td>\n",
       "      <td>False</td>\n",
       "      <td>False</td>\n",
       "      <td>False</td>\n",
       "      <td>False</td>\n",
       "      <td>False</td>\n",
       "      <td>False</td>\n",
       "      <td>1551571200</td>\n",
       "    </tr>\n",
       "  </tbody>\n",
       "</table>\n",
       "<p>5 rows × 21 columns</p>\n",
       "</div>"
      ],
      "text/plain": [
       "            description  paid_out_gbp  paid_in_gbp  exchange_out  exchange_in  \\\n",
       "0  transport_for_london           6.3         0.00           0.0          0.0   \n",
       "1  transport_for_london           8.0         0.00           0.0          0.0   \n",
       "2         from_holidays           0.0         2.02           0.0          0.0   \n",
       "3                uberbv           6.0         0.00           0.0          0.0   \n",
       "4     from_luca_mircoli           0.0        10.00           0.0          0.0   \n",
       "\n",
       "   balance_gbp    category    notes  completed_Year  completed_Month  \\\n",
       "0        -5.43   transport  no_note            2019                3   \n",
       "1        12.44   transport  no_note            2019                3   \n",
       "2        20.44   transfers  no_note            2019                3   \n",
       "3         0.87   transport  no_note            2019                3   \n",
       "4        18.42   transfers  no_note            2019                3   \n",
       "\n",
       "         ...          completed_Day  completed_Dayofweek  completed_Dayofyear  \\\n",
       "0        ...                      6                    2                   65   \n",
       "1        ...                      5                    1                   64   \n",
       "2        ...                      3                    6                   62   \n",
       "3        ...                      3                    6                   62   \n",
       "4        ...                      3                    6                   62   \n",
       "\n",
       "   completed_Is_month_end  completed_Is_month_start  completed_Is_quarter_end  \\\n",
       "0                   False                     False                     False   \n",
       "1                   False                     False                     False   \n",
       "2                   False                     False                     False   \n",
       "3                   False                     False                     False   \n",
       "4                   False                     False                     False   \n",
       "\n",
       "   completed_Is_quarter_start  completed_Is_year_end  completed_Is_year_start  \\\n",
       "0                       False                  False                    False   \n",
       "1                       False                  False                    False   \n",
       "2                       False                  False                    False   \n",
       "3                       False                  False                    False   \n",
       "4                       False                  False                    False   \n",
       "\n",
       "   completed_Elapsed  \n",
       "0         1551830400  \n",
       "1         1551744000  \n",
       "2         1551571200  \n",
       "3         1551571200  \n",
       "4         1551571200  \n",
       "\n",
       "[5 rows x 21 columns]"
      ]
     },
     "execution_count": 43,
     "metadata": {},
     "output_type": "execute_result"
    }
   ],
   "source": [
    "data.head()"
   ]
  },
  {
   "cell_type": "code",
   "execution_count": 44,
   "metadata": {},
   "outputs": [
    {
     "data": {
      "text/plain": [
       "[' transport', ' transport', ' transfers', ' transport', ' transfers']"
      ]
     },
     "execution_count": 44,
     "metadata": {},
     "output_type": "execute_result"
    }
   ],
   "source": [
    "list(data[\"category\"].head())"
   ]
  },
  {
   "cell_type": "code",
   "execution_count": 45,
   "metadata": {},
   "outputs": [],
   "source": [
    "data[\"category\"]  = data[\"category\"].fillna(\"No description\")\n",
    "data[\"category\"] = clean_col(data[\"category\"])"
   ]
  },
  {
   "cell_type": "code",
   "execution_count": 46,
   "metadata": {},
   "outputs": [
    {
     "data": {
      "text/plain": [
       "transfers         874\n",
       "restaurants       508\n",
       "transport         240\n",
       "groceries         188\n",
       "no_description    173\n",
       "general           102\n",
       "cash               57\n",
       "shopping           46\n",
       "entertainment      22\n",
       "health             19\n",
       "Name: category, dtype: int64"
      ]
     },
     "execution_count": 46,
     "metadata": {},
     "output_type": "execute_result"
    }
   ],
   "source": [
    "data[\"category\"].value_counts().head(10)"
   ]
  },
  {
   "cell_type": "code",
   "execution_count": 47,
   "metadata": {},
   "outputs": [
    {
     "data": {
      "text/plain": [
       "description                    object\n",
       "paid_out_gbp                  float64\n",
       "paid_in_gbp                   float64\n",
       "exchange_out                  float64\n",
       "exchange_in                   float64\n",
       "balance_gbp                   float64\n",
       "category                       object\n",
       "notes                          object\n",
       "completed_Year                  int64\n",
       "completed_Month                 int64\n",
       "completed_Week                  int64\n",
       "completed_Day                   int64\n",
       "completed_Dayofweek             int64\n",
       "completed_Dayofyear             int64\n",
       "completed_Is_month_end           bool\n",
       "completed_Is_month_start         bool\n",
       "completed_Is_quarter_end         bool\n",
       "completed_Is_quarter_start       bool\n",
       "completed_Is_year_end            bool\n",
       "completed_Is_year_start          bool\n",
       "completed_Elapsed               int64\n",
       "dtype: object"
      ]
     },
     "execution_count": 47,
     "metadata": {},
     "output_type": "execute_result"
    }
   ],
   "source": [
    "data.dtypes"
   ]
  },
  {
   "cell_type": "code",
   "execution_count": 48,
   "metadata": {},
   "outputs": [],
   "source": [
    "train_cats(data)"
   ]
  },
  {
   "cell_type": "code",
   "execution_count": 49,
   "metadata": {},
   "outputs": [],
   "source": [
    "?train_cats()"
   ]
  },
  {
   "cell_type": "code",
   "execution_count": 50,
   "metadata": {},
   "outputs": [
    {
     "data": {
      "text/plain": [
       "description                   category\n",
       "paid_out_gbp                   float64\n",
       "paid_in_gbp                    float64\n",
       "exchange_out                   float64\n",
       "exchange_in                    float64\n",
       "balance_gbp                    float64\n",
       "category                      category\n",
       "notes                         category\n",
       "completed_Year                   int64\n",
       "completed_Month                  int64\n",
       "completed_Week                   int64\n",
       "completed_Day                    int64\n",
       "completed_Dayofweek              int64\n",
       "completed_Dayofyear              int64\n",
       "completed_Is_month_end            bool\n",
       "completed_Is_month_start          bool\n",
       "completed_Is_quarter_end          bool\n",
       "completed_Is_quarter_start        bool\n",
       "completed_Is_year_end             bool\n",
       "completed_Is_year_start           bool\n",
       "completed_Elapsed                int64\n",
       "dtype: object"
      ]
     },
     "execution_count": 50,
     "metadata": {},
     "output_type": "execute_result"
    }
   ],
   "source": [
    "data.dtypes"
   ]
  },
  {
   "cell_type": "code",
   "execution_count": 51,
   "metadata": {},
   "outputs": [
    {
     "data": {
      "text/html": [
       "<div>\n",
       "<style scoped>\n",
       "    .dataframe tbody tr th:only-of-type {\n",
       "        vertical-align: middle;\n",
       "    }\n",
       "\n",
       "    .dataframe tbody tr th {\n",
       "        vertical-align: top;\n",
       "    }\n",
       "\n",
       "    .dataframe thead th {\n",
       "        text-align: right;\n",
       "    }\n",
       "</style>\n",
       "<table border=\"1\" class=\"dataframe\">\n",
       "  <thead>\n",
       "    <tr style=\"text-align: right;\">\n",
       "      <th></th>\n",
       "      <th>description</th>\n",
       "      <th>paid_out_gbp</th>\n",
       "      <th>paid_in_gbp</th>\n",
       "      <th>exchange_out</th>\n",
       "      <th>exchange_in</th>\n",
       "      <th>balance_gbp</th>\n",
       "      <th>category</th>\n",
       "      <th>notes</th>\n",
       "      <th>completed_Year</th>\n",
       "      <th>completed_Month</th>\n",
       "      <th>...</th>\n",
       "      <th>completed_Day</th>\n",
       "      <th>completed_Dayofweek</th>\n",
       "      <th>completed_Dayofyear</th>\n",
       "      <th>completed_Is_month_end</th>\n",
       "      <th>completed_Is_month_start</th>\n",
       "      <th>completed_Is_quarter_end</th>\n",
       "      <th>completed_Is_quarter_start</th>\n",
       "      <th>completed_Is_year_end</th>\n",
       "      <th>completed_Is_year_start</th>\n",
       "      <th>completed_Elapsed</th>\n",
       "    </tr>\n",
       "  </thead>\n",
       "  <tbody>\n",
       "    <tr>\n",
       "      <th>0</th>\n",
       "      <td>transport_for_london</td>\n",
       "      <td>6.3</td>\n",
       "      <td>0.00</td>\n",
       "      <td>0.0</td>\n",
       "      <td>0.0</td>\n",
       "      <td>-5.43</td>\n",
       "      <td>transport</td>\n",
       "      <td>no_note</td>\n",
       "      <td>2019</td>\n",
       "      <td>3</td>\n",
       "      <td>...</td>\n",
       "      <td>6</td>\n",
       "      <td>2</td>\n",
       "      <td>65</td>\n",
       "      <td>False</td>\n",
       "      <td>False</td>\n",
       "      <td>False</td>\n",
       "      <td>False</td>\n",
       "      <td>False</td>\n",
       "      <td>False</td>\n",
       "      <td>1551830400</td>\n",
       "    </tr>\n",
       "    <tr>\n",
       "      <th>1</th>\n",
       "      <td>transport_for_london</td>\n",
       "      <td>8.0</td>\n",
       "      <td>0.00</td>\n",
       "      <td>0.0</td>\n",
       "      <td>0.0</td>\n",
       "      <td>12.44</td>\n",
       "      <td>transport</td>\n",
       "      <td>no_note</td>\n",
       "      <td>2019</td>\n",
       "      <td>3</td>\n",
       "      <td>...</td>\n",
       "      <td>5</td>\n",
       "      <td>1</td>\n",
       "      <td>64</td>\n",
       "      <td>False</td>\n",
       "      <td>False</td>\n",
       "      <td>False</td>\n",
       "      <td>False</td>\n",
       "      <td>False</td>\n",
       "      <td>False</td>\n",
       "      <td>1551744000</td>\n",
       "    </tr>\n",
       "    <tr>\n",
       "      <th>2</th>\n",
       "      <td>from_holidays</td>\n",
       "      <td>0.0</td>\n",
       "      <td>2.02</td>\n",
       "      <td>0.0</td>\n",
       "      <td>0.0</td>\n",
       "      <td>20.44</td>\n",
       "      <td>transfers</td>\n",
       "      <td>no_note</td>\n",
       "      <td>2019</td>\n",
       "      <td>3</td>\n",
       "      <td>...</td>\n",
       "      <td>3</td>\n",
       "      <td>6</td>\n",
       "      <td>62</td>\n",
       "      <td>False</td>\n",
       "      <td>False</td>\n",
       "      <td>False</td>\n",
       "      <td>False</td>\n",
       "      <td>False</td>\n",
       "      <td>False</td>\n",
       "      <td>1551571200</td>\n",
       "    </tr>\n",
       "    <tr>\n",
       "      <th>3</th>\n",
       "      <td>uberbv</td>\n",
       "      <td>6.0</td>\n",
       "      <td>0.00</td>\n",
       "      <td>0.0</td>\n",
       "      <td>0.0</td>\n",
       "      <td>0.87</td>\n",
       "      <td>transport</td>\n",
       "      <td>no_note</td>\n",
       "      <td>2019</td>\n",
       "      <td>3</td>\n",
       "      <td>...</td>\n",
       "      <td>3</td>\n",
       "      <td>6</td>\n",
       "      <td>62</td>\n",
       "      <td>False</td>\n",
       "      <td>False</td>\n",
       "      <td>False</td>\n",
       "      <td>False</td>\n",
       "      <td>False</td>\n",
       "      <td>False</td>\n",
       "      <td>1551571200</td>\n",
       "    </tr>\n",
       "    <tr>\n",
       "      <th>4</th>\n",
       "      <td>from_luca_mircoli</td>\n",
       "      <td>0.0</td>\n",
       "      <td>10.00</td>\n",
       "      <td>0.0</td>\n",
       "      <td>0.0</td>\n",
       "      <td>18.42</td>\n",
       "      <td>transfers</td>\n",
       "      <td>no_note</td>\n",
       "      <td>2019</td>\n",
       "      <td>3</td>\n",
       "      <td>...</td>\n",
       "      <td>3</td>\n",
       "      <td>6</td>\n",
       "      <td>62</td>\n",
       "      <td>False</td>\n",
       "      <td>False</td>\n",
       "      <td>False</td>\n",
       "      <td>False</td>\n",
       "      <td>False</td>\n",
       "      <td>False</td>\n",
       "      <td>1551571200</td>\n",
       "    </tr>\n",
       "  </tbody>\n",
       "</table>\n",
       "<p>5 rows × 21 columns</p>\n",
       "</div>"
      ],
      "text/plain": [
       "            description  paid_out_gbp  paid_in_gbp  exchange_out  exchange_in  \\\n",
       "0  transport_for_london           6.3         0.00           0.0          0.0   \n",
       "1  transport_for_london           8.0         0.00           0.0          0.0   \n",
       "2         from_holidays           0.0         2.02           0.0          0.0   \n",
       "3                uberbv           6.0         0.00           0.0          0.0   \n",
       "4     from_luca_mircoli           0.0        10.00           0.0          0.0   \n",
       "\n",
       "   balance_gbp   category    notes  completed_Year  completed_Month  \\\n",
       "0        -5.43  transport  no_note            2019                3   \n",
       "1        12.44  transport  no_note            2019                3   \n",
       "2        20.44  transfers  no_note            2019                3   \n",
       "3         0.87  transport  no_note            2019                3   \n",
       "4        18.42  transfers  no_note            2019                3   \n",
       "\n",
       "         ...          completed_Day  completed_Dayofweek  completed_Dayofyear  \\\n",
       "0        ...                      6                    2                   65   \n",
       "1        ...                      5                    1                   64   \n",
       "2        ...                      3                    6                   62   \n",
       "3        ...                      3                    6                   62   \n",
       "4        ...                      3                    6                   62   \n",
       "\n",
       "   completed_Is_month_end  completed_Is_month_start  completed_Is_quarter_end  \\\n",
       "0                   False                     False                     False   \n",
       "1                   False                     False                     False   \n",
       "2                   False                     False                     False   \n",
       "3                   False                     False                     False   \n",
       "4                   False                     False                     False   \n",
       "\n",
       "   completed_Is_quarter_start  completed_Is_year_end  completed_Is_year_start  \\\n",
       "0                       False                  False                    False   \n",
       "1                       False                  False                    False   \n",
       "2                       False                  False                    False   \n",
       "3                       False                  False                    False   \n",
       "4                       False                  False                    False   \n",
       "\n",
       "   completed_Elapsed  \n",
       "0         1551830400  \n",
       "1         1551744000  \n",
       "2         1551571200  \n",
       "3         1551571200  \n",
       "4         1551571200  \n",
       "\n",
       "[5 rows x 21 columns]"
      ]
     },
     "execution_count": 51,
     "metadata": {},
     "output_type": "execute_result"
    }
   ],
   "source": [
    "data.head()"
   ]
  },
  {
   "cell_type": "code",
   "execution_count": 52,
   "metadata": {},
   "outputs": [
    {
     "data": {
      "text/plain": [
       "balance_gbp                   0.0\n",
       "category                      0.0\n",
       "completed_Day                 0.0\n",
       "completed_Dayofweek           0.0\n",
       "completed_Dayofyear           0.0\n",
       "completed_Elapsed             0.0\n",
       "completed_Is_month_end        0.0\n",
       "completed_Is_month_start      0.0\n",
       "completed_Is_quarter_end      0.0\n",
       "completed_Is_quarter_start    0.0\n",
       "completed_Is_year_end         0.0\n",
       "completed_Is_year_start       0.0\n",
       "completed_Month               0.0\n",
       "completed_Week                0.0\n",
       "completed_Year                0.0\n",
       "description                   0.0\n",
       "exchange_in                   0.0\n",
       "exchange_out                  0.0\n",
       "notes                         0.0\n",
       "paid_in_gbp                   0.0\n",
       "paid_out_gbp                  0.0\n",
       "dtype: float64"
      ]
     },
     "metadata": {},
     "output_type": "display_data"
    }
   ],
   "source": [
    "display_all(data.isnull().sum().sort_index()/len(data))"
   ]
  },
  {
   "cell_type": "markdown",
   "metadata": {},
   "source": [
    "### 2.11 Converting categorical variables to cat.codes"
   ]
  },
  {
   "cell_type": "code",
   "execution_count": 53,
   "metadata": {},
   "outputs": [],
   "source": [
    "data[\"category\"] = data[\"category\"].cat.codes\n",
    "data[\"description\"] = data[\"description\"].cat.codes\n",
    "data[\"notes\"] = data[\"notes\"].cat.codes"
   ]
  },
  {
   "cell_type": "code",
   "execution_count": 54,
   "metadata": {},
   "outputs": [
    {
     "data": {
      "text/html": [
       "<div>\n",
       "<style scoped>\n",
       "    .dataframe tbody tr th:only-of-type {\n",
       "        vertical-align: middle;\n",
       "    }\n",
       "\n",
       "    .dataframe tbody tr th {\n",
       "        vertical-align: top;\n",
       "    }\n",
       "\n",
       "    .dataframe thead th {\n",
       "        text-align: right;\n",
       "    }\n",
       "</style>\n",
       "<table border=\"1\" class=\"dataframe\">\n",
       "  <thead>\n",
       "    <tr style=\"text-align: right;\">\n",
       "      <th></th>\n",
       "      <th>description</th>\n",
       "      <th>paid_out_gbp</th>\n",
       "      <th>paid_in_gbp</th>\n",
       "      <th>exchange_out</th>\n",
       "      <th>exchange_in</th>\n",
       "      <th>balance_gbp</th>\n",
       "      <th>category</th>\n",
       "      <th>notes</th>\n",
       "      <th>completed_Year</th>\n",
       "      <th>completed_Month</th>\n",
       "      <th>...</th>\n",
       "      <th>completed_Day</th>\n",
       "      <th>completed_Dayofweek</th>\n",
       "      <th>completed_Dayofyear</th>\n",
       "      <th>completed_Is_month_end</th>\n",
       "      <th>completed_Is_month_start</th>\n",
       "      <th>completed_Is_quarter_end</th>\n",
       "      <th>completed_Is_quarter_start</th>\n",
       "      <th>completed_Is_year_end</th>\n",
       "      <th>completed_Is_year_start</th>\n",
       "      <th>completed_Elapsed</th>\n",
       "    </tr>\n",
       "  </thead>\n",
       "  <tbody>\n",
       "    <tr>\n",
       "      <th>0</th>\n",
       "      <td>425</td>\n",
       "      <td>6.3</td>\n",
       "      <td>0.00</td>\n",
       "      <td>0.0</td>\n",
       "      <td>0.0</td>\n",
       "      <td>-5.43</td>\n",
       "      <td>10</td>\n",
       "      <td>27</td>\n",
       "      <td>2019</td>\n",
       "      <td>3</td>\n",
       "      <td>...</td>\n",
       "      <td>6</td>\n",
       "      <td>2</td>\n",
       "      <td>65</td>\n",
       "      <td>False</td>\n",
       "      <td>False</td>\n",
       "      <td>False</td>\n",
       "      <td>False</td>\n",
       "      <td>False</td>\n",
       "      <td>False</td>\n",
       "      <td>1551830400</td>\n",
       "    </tr>\n",
       "    <tr>\n",
       "      <th>1</th>\n",
       "      <td>425</td>\n",
       "      <td>8.0</td>\n",
       "      <td>0.00</td>\n",
       "      <td>0.0</td>\n",
       "      <td>0.0</td>\n",
       "      <td>12.44</td>\n",
       "      <td>10</td>\n",
       "      <td>27</td>\n",
       "      <td>2019</td>\n",
       "      <td>3</td>\n",
       "      <td>...</td>\n",
       "      <td>5</td>\n",
       "      <td>1</td>\n",
       "      <td>64</td>\n",
       "      <td>False</td>\n",
       "      <td>False</td>\n",
       "      <td>False</td>\n",
       "      <td>False</td>\n",
       "      <td>False</td>\n",
       "      <td>False</td>\n",
       "      <td>1551744000</td>\n",
       "    </tr>\n",
       "    <tr>\n",
       "      <th>2</th>\n",
       "      <td>191</td>\n",
       "      <td>0.0</td>\n",
       "      <td>2.02</td>\n",
       "      <td>0.0</td>\n",
       "      <td>0.0</td>\n",
       "      <td>20.44</td>\n",
       "      <td>9</td>\n",
       "      <td>27</td>\n",
       "      <td>2019</td>\n",
       "      <td>3</td>\n",
       "      <td>...</td>\n",
       "      <td>3</td>\n",
       "      <td>6</td>\n",
       "      <td>62</td>\n",
       "      <td>False</td>\n",
       "      <td>False</td>\n",
       "      <td>False</td>\n",
       "      <td>False</td>\n",
       "      <td>False</td>\n",
       "      <td>False</td>\n",
       "      <td>1551571200</td>\n",
       "    </tr>\n",
       "    <tr>\n",
       "      <th>3</th>\n",
       "      <td>431</td>\n",
       "      <td>6.0</td>\n",
       "      <td>0.00</td>\n",
       "      <td>0.0</td>\n",
       "      <td>0.0</td>\n",
       "      <td>0.87</td>\n",
       "      <td>10</td>\n",
       "      <td>27</td>\n",
       "      <td>2019</td>\n",
       "      <td>3</td>\n",
       "      <td>...</td>\n",
       "      <td>3</td>\n",
       "      <td>6</td>\n",
       "      <td>62</td>\n",
       "      <td>False</td>\n",
       "      <td>False</td>\n",
       "      <td>False</td>\n",
       "      <td>False</td>\n",
       "      <td>False</td>\n",
       "      <td>False</td>\n",
       "      <td>1551571200</td>\n",
       "    </tr>\n",
       "    <tr>\n",
       "      <th>4</th>\n",
       "      <td>193</td>\n",
       "      <td>0.0</td>\n",
       "      <td>10.00</td>\n",
       "      <td>0.0</td>\n",
       "      <td>0.0</td>\n",
       "      <td>18.42</td>\n",
       "      <td>9</td>\n",
       "      <td>27</td>\n",
       "      <td>2019</td>\n",
       "      <td>3</td>\n",
       "      <td>...</td>\n",
       "      <td>3</td>\n",
       "      <td>6</td>\n",
       "      <td>62</td>\n",
       "      <td>False</td>\n",
       "      <td>False</td>\n",
       "      <td>False</td>\n",
       "      <td>False</td>\n",
       "      <td>False</td>\n",
       "      <td>False</td>\n",
       "      <td>1551571200</td>\n",
       "    </tr>\n",
       "  </tbody>\n",
       "</table>\n",
       "<p>5 rows × 21 columns</p>\n",
       "</div>"
      ],
      "text/plain": [
       "   description  paid_out_gbp  paid_in_gbp  exchange_out  exchange_in  \\\n",
       "0          425           6.3         0.00           0.0          0.0   \n",
       "1          425           8.0         0.00           0.0          0.0   \n",
       "2          191           0.0         2.02           0.0          0.0   \n",
       "3          431           6.0         0.00           0.0          0.0   \n",
       "4          193           0.0        10.00           0.0          0.0   \n",
       "\n",
       "   balance_gbp  category  notes  completed_Year  completed_Month  \\\n",
       "0        -5.43        10     27            2019                3   \n",
       "1        12.44        10     27            2019                3   \n",
       "2        20.44         9     27            2019                3   \n",
       "3         0.87        10     27            2019                3   \n",
       "4        18.42         9     27            2019                3   \n",
       "\n",
       "         ...          completed_Day  completed_Dayofweek  completed_Dayofyear  \\\n",
       "0        ...                      6                    2                   65   \n",
       "1        ...                      5                    1                   64   \n",
       "2        ...                      3                    6                   62   \n",
       "3        ...                      3                    6                   62   \n",
       "4        ...                      3                    6                   62   \n",
       "\n",
       "   completed_Is_month_end  completed_Is_month_start  completed_Is_quarter_end  \\\n",
       "0                   False                     False                     False   \n",
       "1                   False                     False                     False   \n",
       "2                   False                     False                     False   \n",
       "3                   False                     False                     False   \n",
       "4                   False                     False                     False   \n",
       "\n",
       "   completed_Is_quarter_start  completed_Is_year_end  completed_Is_year_start  \\\n",
       "0                       False                  False                    False   \n",
       "1                       False                  False                    False   \n",
       "2                       False                  False                    False   \n",
       "3                       False                  False                    False   \n",
       "4                       False                  False                    False   \n",
       "\n",
       "   completed_Elapsed  \n",
       "0         1551830400  \n",
       "1         1551744000  \n",
       "2         1551571200  \n",
       "3         1551571200  \n",
       "4         1551571200  \n",
       "\n",
       "[5 rows x 21 columns]"
      ]
     },
     "execution_count": 54,
     "metadata": {},
     "output_type": "execute_result"
    }
   ],
   "source": [
    "data.head()"
   ]
  },
  {
   "cell_type": "code",
   "execution_count": 55,
   "metadata": {},
   "outputs": [],
   "source": [
    "df_raw = data.copy()"
   ]
  },
  {
   "cell_type": "markdown",
   "metadata": {},
   "source": [
    "# 3. Random Forest Regressor"
   ]
  },
  {
   "cell_type": "markdown",
   "metadata": {},
   "source": [
    "## 3.1 Preparing data"
   ]
  },
  {
   "cell_type": "code",
   "execution_count": 56,
   "metadata": {},
   "outputs": [],
   "source": [
    "df = df_raw.drop(\"balance_gbp\", 1)\n",
    "y = df_raw[\"balance_gbp\"]"
   ]
  },
  {
   "cell_type": "code",
   "execution_count": 57,
   "metadata": {},
   "outputs": [],
   "source": [
    "# We import train_test_split from sklearn to divide our datasets\n",
    "from sklearn.model_selection import train_test_split"
   ]
  },
  {
   "cell_type": "markdown",
   "metadata": {},
   "source": [
    "Before we begin constructing our Random Forest Regressor we need to split our dataset in two different sets.A Training and a Test. \n",
    "The following values have been choosen for the split:\n",
    "\n",
    "- `Traing Set = 80%`\n",
    "- `Test Set = 20%`\n",
    "\n",
    "\n"
   ]
  },
  {
   "cell_type": "code",
   "execution_count": 58,
   "metadata": {},
   "outputs": [],
   "source": [
    "X_train, X_test, y_train, y_test = train_test_split(df, y, test_size=0.2, random_state = 1)"
   ]
  },
  {
   "cell_type": "code",
   "execution_count": 59,
   "metadata": {},
   "outputs": [
    {
     "data": {
      "text/plain": [
       "((1817, 20), (455, 20), (1817,), (455,))"
      ]
     },
     "execution_count": 59,
     "metadata": {},
     "output_type": "execute_result"
    }
   ],
   "source": [
    "X_train.shape, X_test.shape, y_train.shape, y_test.shape"
   ]
  },
  {
   "cell_type": "markdown",
   "metadata": {},
   "source": [
    "Throughout the whole execution of the Random Forest we are going to use `random_state = 1` in every single step to understand the interactions of each hyperparamter and quantify the impact they have on the model's predictions"
   ]
  },
  {
   "cell_type": "markdown",
   "metadata": {},
   "source": [
    "## 3.2 Simple Tree"
   ]
  },
  {
   "cell_type": "markdown",
   "metadata": {},
   "source": [
    "We begin by building a simple tree with 3 splits."
   ]
  },
  {
   "cell_type": "code",
   "execution_count": 60,
   "metadata": {},
   "outputs": [
    {
     "name": "stdout",
     "output_type": "stream",
     "text": [
      "CPU times: user 36 ms, sys: 8 ms, total: 44 ms\n",
      "Wall time: 112 ms\n",
      "[186.67866751012716, 181.11035422648462, 0.24375384964675884, 0.23869996580481026]\n"
     ]
    }
   ],
   "source": [
    "m = RandomForestRegressor(n_jobs = -1, max_depth = 3)\n",
    "%time m.fit(X_train, y_train)\n",
    "print_score(m)"
   ]
  },
  {
   "cell_type": "code",
   "execution_count": 61,
   "metadata": {},
   "outputs": [
    {
     "data": {
      "image/svg+xml": [
       "<?xml version=\"1.0\" encoding=\"UTF-8\" standalone=\"no\"?>\n",
       "<!DOCTYPE svg PUBLIC \"-//W3C//DTD SVG 1.1//EN\"\n",
       " \"http://www.w3.org/Graphics/SVG/1.1/DTD/svg11.dtd\">\n",
       "<!-- Generated by graphviz version 2.38.0 (20140413.2041)\n",
       " -->\n",
       "<!-- Title: Tree Pages: 1 -->\n",
       "<svg width=\"720pt\" height=\"434pt\"\n",
       " viewBox=\"0.00 0.00 720.00 434.17\" xmlns=\"http://www.w3.org/2000/svg\" xmlns:xlink=\"http://www.w3.org/1999/xlink\">\n",
       "<g id=\"graph0\" class=\"graph\" transform=\"scale(0.677328 0.677328) rotate(0) translate(4 637)\">\n",
       "<title>Tree</title>\n",
       "<polygon fill=\"white\" stroke=\"none\" points=\"-4,4 -4,-637 1059,-637 1059,4 -4,4\"/>\n",
       "<!-- 0 -->\n",
       "<g id=\"node1\" class=\"node\"><title>0</title>\n",
       "<polygon fill=\"#e58139\" fill-opacity=\"0.262745\" stroke=\"black\" points=\"280.5,-349.499 -0.5,-349.499 -0.5,-281.499 280.5,-281.499 280.5,-349.499\"/>\n",
       "<text text-anchor=\"start\" x=\"7.5\" y=\"-334.299\" font-family=\"Times,serif\" font-size=\"14.00\">completed_Elapsed ≤ 1517875200.0</text>\n",
       "<text text-anchor=\"start\" x=\"76.5\" y=\"-319.299\" font-family=\"Times,serif\" font-size=\"14.00\">mse = 46279.114</text>\n",
       "<text text-anchor=\"start\" x=\"82\" y=\"-304.299\" font-family=\"Times,serif\" font-size=\"14.00\">samples = 1171</text>\n",
       "<text text-anchor=\"start\" x=\"81\" y=\"-289.299\" font-family=\"Times,serif\" font-size=\"14.00\">value = 237.502</text>\n",
       "</g>\n",
       "<!-- 1 -->\n",
       "<g id=\"node2\" class=\"node\"><title>1</title>\n",
       "<polygon fill=\"#e58139\" fill-opacity=\"0.129412\" stroke=\"black\" points=\"549.5,-410.499 316.5,-410.499 316.5,-342.499 549.5,-342.499 549.5,-410.499\"/>\n",
       "<text text-anchor=\"start\" x=\"324.5\" y=\"-395.299\" font-family=\"Times,serif\" font-size=\"14.00\">completed_Dayofyear ≤ 333.5</text>\n",
       "<text text-anchor=\"start\" x=\"369.5\" y=\"-380.299\" font-family=\"Times,serif\" font-size=\"14.00\">mse = 25552.402</text>\n",
       "<text text-anchor=\"start\" x=\"379.5\" y=\"-365.299\" font-family=\"Times,serif\" font-size=\"14.00\">samples = 190</text>\n",
       "<text text-anchor=\"start\" x=\"374\" y=\"-350.299\" font-family=\"Times,serif\" font-size=\"14.00\">value = 118.871</text>\n",
       "</g>\n",
       "<!-- 0&#45;&gt;1 -->\n",
       "<g id=\"edge1\" class=\"edge\"><title>0&#45;&gt;1</title>\n",
       "<path fill=\"none\" stroke=\"black\" d=\"M280.534,-344.748C289.131,-346.551 297.755,-348.358 306.288,-350.147\"/>\n",
       "<polygon fill=\"black\" stroke=\"black\" points=\"305.749,-353.61 316.254,-352.236 307.185,-346.759 305.749,-353.61\"/>\n",
       "<text text-anchor=\"middle\" x=\"295.326\" y=\"-362.211\" font-family=\"Times,serif\" font-size=\"14.00\">True</text>\n",
       "</g>\n",
       "<!-- 8 -->\n",
       "<g id=\"node9\" class=\"node\"><title>8</title>\n",
       "<polygon fill=\"#e58139\" fill-opacity=\"0.286275\" stroke=\"black\" points=\"524,-288.499 342,-288.499 342,-220.499 524,-220.499 524,-288.499\"/>\n",
       "<text text-anchor=\"start\" x=\"350\" y=\"-273.299\" font-family=\"Times,serif\" font-size=\"14.00\">paid_in_gbp ≤ 582.595</text>\n",
       "<text text-anchor=\"start\" x=\"369.5\" y=\"-258.299\" font-family=\"Times,serif\" font-size=\"14.00\">mse = 47042.771</text>\n",
       "<text text-anchor=\"start\" x=\"379.5\" y=\"-243.299\" font-family=\"Times,serif\" font-size=\"14.00\">samples = 981</text>\n",
       "<text text-anchor=\"start\" x=\"374\" y=\"-228.299\" font-family=\"Times,serif\" font-size=\"14.00\">value = 260.775</text>\n",
       "</g>\n",
       "<!-- 0&#45;&gt;8 -->\n",
       "<g id=\"edge8\" class=\"edge\"><title>0&#45;&gt;8</title>\n",
       "<path fill=\"none\" stroke=\"black\" d=\"M280.534,-286.25C297.807,-282.629 315.193,-278.984 331.716,-275.521\"/>\n",
       "<polygon fill=\"black\" stroke=\"black\" points=\"332.814,-278.867 341.883,-273.39 331.378,-272.016 332.814,-278.867\"/>\n",
       "<text text-anchor=\"middle\" x=\"320.955\" y=\"-256.015\" font-family=\"Times,serif\" font-size=\"14.00\">False</text>\n",
       "</g>\n",
       "<!-- 2 -->\n",
       "<g id=\"node3\" class=\"node\"><title>2</title>\n",
       "<polygon fill=\"#e58139\" fill-opacity=\"0.172549\" stroke=\"black\" points=\"817,-554.499 635,-554.499 635,-486.499 817,-486.499 817,-554.499\"/>\n",
       "<text text-anchor=\"start\" x=\"643\" y=\"-539.299\" font-family=\"Times,serif\" font-size=\"14.00\">paid_in_gbp ≤ 532.885</text>\n",
       "<text text-anchor=\"start\" x=\"667\" y=\"-524.299\" font-family=\"Times,serif\" font-size=\"14.00\">mse = 28105.86</text>\n",
       "<text text-anchor=\"start\" x=\"672.5\" y=\"-509.299\" font-family=\"Times,serif\" font-size=\"14.00\">samples = 143</text>\n",
       "<text text-anchor=\"start\" x=\"667\" y=\"-494.299\" font-family=\"Times,serif\" font-size=\"14.00\">value = 156.859</text>\n",
       "</g>\n",
       "<!-- 1&#45;&gt;2 -->\n",
       "<g id=\"edge2\" class=\"edge\"><title>1&#45;&gt;2</title>\n",
       "<path fill=\"none\" stroke=\"black\" d=\"M502.963,-410.625C546.282,-432.061 602.255,-459.759 647.164,-481.982\"/>\n",
       "<polygon fill=\"black\" stroke=\"black\" points=\"645.765,-485.195 656.28,-486.494 648.87,-478.921 645.765,-485.195\"/>\n",
       "</g>\n",
       "<!-- 5 -->\n",
       "<g id=\"node6\" class=\"node\"><title>5</title>\n",
       "<polygon fill=\"#e58139\" fill-opacity=\"0.003922\" stroke=\"black\" points=\"788.5,-410.499 663.5,-410.499 663.5,-342.499 788.5,-342.499 788.5,-410.499\"/>\n",
       "<text text-anchor=\"start\" x=\"672.5\" y=\"-395.299\" font-family=\"Times,serif\" font-size=\"14.00\">category ≤ 5.5</text>\n",
       "<text text-anchor=\"start\" x=\"671.5\" y=\"-380.299\" font-family=\"Times,serif\" font-size=\"14.00\">mse = 232.095</text>\n",
       "<text text-anchor=\"start\" x=\"677\" y=\"-365.299\" font-family=\"Times,serif\" font-size=\"14.00\">samples = 47</text>\n",
       "<text text-anchor=\"start\" x=\"676\" y=\"-350.299\" font-family=\"Times,serif\" font-size=\"14.00\">value = 3.881</text>\n",
       "</g>\n",
       "<!-- 1&#45;&gt;5 -->\n",
       "<g id=\"edge5\" class=\"edge\"><title>1&#45;&gt;5</title>\n",
       "<path fill=\"none\" stroke=\"black\" d=\"M549.847,-376.499C584.735,-376.499 621.998,-376.499 653.146,-376.499\"/>\n",
       "<polygon fill=\"black\" stroke=\"black\" points=\"653.463,-379.999 663.463,-376.499 653.463,-372.999 653.463,-379.999\"/>\n",
       "</g>\n",
       "<!-- 3 -->\n",
       "<g id=\"node4\" class=\"node\"><title>3</title>\n",
       "<polygon fill=\"#e58139\" fill-opacity=\"0.164706\" stroke=\"black\" points=\"1050.5,-628.999 907.5,-628.999 907.5,-575.999 1050.5,-575.999 1050.5,-628.999\"/>\n",
       "<text text-anchor=\"start\" x=\"915.5\" y=\"-613.799\" font-family=\"Times,serif\" font-size=\"14.00\">mse = 23094.933</text>\n",
       "<text text-anchor=\"start\" x=\"925.5\" y=\"-598.799\" font-family=\"Times,serif\" font-size=\"14.00\">samples = 141</text>\n",
       "<text text-anchor=\"start\" x=\"920\" y=\"-583.799\" font-family=\"Times,serif\" font-size=\"14.00\">value = 148.472</text>\n",
       "</g>\n",
       "<!-- 2&#45;&gt;3 -->\n",
       "<g id=\"edge3\" class=\"edge\"><title>2&#45;&gt;3</title>\n",
       "<path fill=\"none\" stroke=\"black\" d=\"M817.262,-549.987C843.558,-558.578 872.1,-567.902 897.734,-576.277\"/>\n",
       "<polygon fill=\"black\" stroke=\"black\" points=\"896.814,-579.658 907.406,-579.437 898.987,-573.004 896.814,-579.658\"/>\n",
       "</g>\n",
       "<!-- 4 -->\n",
       "<g id=\"node5\" class=\"node\"><title>4</title>\n",
       "<polygon fill=\"#e58139\" fill-opacity=\"0.858824\" stroke=\"black\" points=\"1050.5,-546.999 907.5,-546.999 907.5,-493.999 1050.5,-493.999 1050.5,-546.999\"/>\n",
       "<text text-anchor=\"start\" x=\"915.5\" y=\"-531.799\" font-family=\"Times,serif\" font-size=\"14.00\">mse = 10321.971</text>\n",
       "<text text-anchor=\"start\" x=\"934.5\" y=\"-516.799\" font-family=\"Times,serif\" font-size=\"14.00\">samples = 2</text>\n",
       "<text text-anchor=\"start\" x=\"924.5\" y=\"-501.799\" font-family=\"Times,serif\" font-size=\"14.00\">value = 774.71</text>\n",
       "</g>\n",
       "<!-- 2&#45;&gt;4 -->\n",
       "<g id=\"edge4\" class=\"edge\"><title>2&#45;&gt;4</title>\n",
       "<path fill=\"none\" stroke=\"black\" d=\"M817.262,-520.499C843.442,-520.499 871.848,-520.499 897.395,-520.499\"/>\n",
       "<polygon fill=\"black\" stroke=\"black\" points=\"897.406,-523.999 907.406,-520.499 897.406,-516.999 897.406,-523.999\"/>\n",
       "</g>\n",
       "<!-- 6 -->\n",
       "<g id=\"node7\" class=\"node\"><title>6</title>\n",
       "<polygon fill=\"none\" stroke=\"black\" points=\"1037,-465.999 921,-465.999 921,-412.999 1037,-412.999 1037,-465.999\"/>\n",
       "<text text-anchor=\"start\" x=\"938\" y=\"-450.799\" font-family=\"Times,serif\" font-size=\"14.00\">mse = 0.31</text>\n",
       "<text text-anchor=\"start\" x=\"930\" y=\"-435.799\" font-family=\"Times,serif\" font-size=\"14.00\">samples = 45</text>\n",
       "<text text-anchor=\"start\" x=\"929\" y=\"-420.799\" font-family=\"Times,serif\" font-size=\"14.00\">value = 1.347</text>\n",
       "</g>\n",
       "<!-- 5&#45;&gt;6 -->\n",
       "<g id=\"edge6\" class=\"edge\"><title>5&#45;&gt;6</title>\n",
       "<path fill=\"none\" stroke=\"black\" d=\"M788.723,-391.991C825.766,-401.289 872.904,-413.12 910.872,-422.65\"/>\n",
       "<polygon fill=\"black\" stroke=\"black\" points=\"910.266,-426.107 920.817,-425.146 911.97,-419.317 910.266,-426.107\"/>\n",
       "</g>\n",
       "<!-- 7 -->\n",
       "<g id=\"node8\" class=\"node\"><title>7</title>\n",
       "<polygon fill=\"#e58139\" fill-opacity=\"0.101961\" stroke=\"black\" points=\"1041.5,-383.999 916.5,-383.999 916.5,-330.999 1041.5,-330.999 1041.5,-383.999\"/>\n",
       "<text text-anchor=\"start\" x=\"929\" y=\"-368.799\" font-family=\"Times,serif\" font-size=\"14.00\">mse = 25.251</text>\n",
       "<text text-anchor=\"start\" x=\"934.5\" y=\"-353.799\" font-family=\"Times,serif\" font-size=\"14.00\">samples = 2</text>\n",
       "<text text-anchor=\"start\" x=\"924.5\" y=\"-338.799\" font-family=\"Times,serif\" font-size=\"14.00\">value = 95.095</text>\n",
       "</g>\n",
       "<!-- 5&#45;&gt;7 -->\n",
       "<g id=\"edge7\" class=\"edge\"><title>5&#45;&gt;7</title>\n",
       "<path fill=\"none\" stroke=\"black\" d=\"M788.723,-371.827C824.148,-369.145 868.808,-365.765 905.849,-362.961\"/>\n",
       "<polygon fill=\"black\" stroke=\"black\" points=\"906.373,-366.431 916.08,-362.186 905.845,-359.451 906.373,-366.431\"/>\n",
       "</g>\n",
       "<!-- 9 -->\n",
       "<g id=\"node10\" class=\"node\"><title>9</title>\n",
       "<polygon fill=\"#e58139\" fill-opacity=\"0.282353\" stroke=\"black\" points=\"866.5,-288.499 585.5,-288.499 585.5,-220.499 866.5,-220.499 866.5,-288.499\"/>\n",
       "<text text-anchor=\"start\" x=\"593.5\" y=\"-273.299\" font-family=\"Times,serif\" font-size=\"14.00\">completed_Elapsed ≤ 1550836736.0</text>\n",
       "<text text-anchor=\"start\" x=\"662.5\" y=\"-258.299\" font-family=\"Times,serif\" font-size=\"14.00\">mse = 44475.986</text>\n",
       "<text text-anchor=\"start\" x=\"672.5\" y=\"-243.299\" font-family=\"Times,serif\" font-size=\"14.00\">samples = 973</text>\n",
       "<text text-anchor=\"start\" x=\"667\" y=\"-228.299\" font-family=\"Times,serif\" font-size=\"14.00\">value = 256.412</text>\n",
       "</g>\n",
       "<!-- 8&#45;&gt;9 -->\n",
       "<g id=\"edge9\" class=\"edge\"><title>8&#45;&gt;9</title>\n",
       "<path fill=\"none\" stroke=\"black\" d=\"M524.081,-254.499C540.337,-254.499 557.678,-254.499 575.103,-254.499\"/>\n",
       "<polygon fill=\"black\" stroke=\"black\" points=\"575.365,-257.999 585.365,-254.499 575.365,-250.999 575.365,-257.999\"/>\n",
       "</g>\n",
       "<!-- 12 -->\n",
       "<g id=\"node13\" class=\"node\"><title>12</title>\n",
       "<polygon fill=\"#e58139\" fill-opacity=\"0.894118\" stroke=\"black\" points=\"805.5,-146.499 646.5,-146.499 646.5,-78.4991 805.5,-78.4991 805.5,-146.499\"/>\n",
       "<text text-anchor=\"start\" x=\"654.5\" y=\"-131.299\" font-family=\"Times,serif\" font-size=\"14.00\">description ≤ 139.0</text>\n",
       "<text text-anchor=\"start\" x=\"662.5\" y=\"-116.299\" font-family=\"Times,serif\" font-size=\"14.00\">mse = 66761.549</text>\n",
       "<text text-anchor=\"start\" x=\"681.5\" y=\"-101.299\" font-family=\"Times,serif\" font-size=\"14.00\">samples = 8</text>\n",
       "<text text-anchor=\"start\" x=\"667\" y=\"-86.2991\" font-family=\"Times,serif\" font-size=\"14.00\">value = 808.712</text>\n",
       "</g>\n",
       "<!-- 8&#45;&gt;12 -->\n",
       "<g id=\"edge12\" class=\"edge\"><title>8&#45;&gt;12</title>\n",
       "<path fill=\"none\" stroke=\"black\" d=\"M503.702,-220.487C546.568,-199.569 601.612,-172.709 646.079,-151.011\"/>\n",
       "<polygon fill=\"black\" stroke=\"black\" points=\"647.659,-154.134 655.111,-146.603 644.589,-147.843 647.659,-154.134\"/>\n",
       "</g>\n",
       "<!-- 10 -->\n",
       "<g id=\"node11\" class=\"node\"><title>10</title>\n",
       "<polygon fill=\"#e58139\" fill-opacity=\"0.274510\" stroke=\"black\" points=\"1050.5,-301.999 907.5,-301.999 907.5,-248.999 1050.5,-248.999 1050.5,-301.999\"/>\n",
       "<text text-anchor=\"start\" x=\"915.5\" y=\"-286.799\" font-family=\"Times,serif\" font-size=\"14.00\">mse = 40084.661</text>\n",
       "<text text-anchor=\"start\" x=\"925.5\" y=\"-271.799\" font-family=\"Times,serif\" font-size=\"14.00\">samples = 949</text>\n",
       "<text text-anchor=\"start\" x=\"924.5\" y=\"-256.799\" font-family=\"Times,serif\" font-size=\"14.00\">value = 249.84</text>\n",
       "</g>\n",
       "<!-- 9&#45;&gt;10 -->\n",
       "<g id=\"edge10\" class=\"edge\"><title>9&#45;&gt;10</title>\n",
       "<path fill=\"none\" stroke=\"black\" d=\"M866.812,-266.196C877.171,-267.063 887.399,-267.919 897.208,-268.74\"/>\n",
       "<polygon fill=\"black\" stroke=\"black\" points=\"897.009,-272.235 907.266,-269.581 897.592,-265.259 897.009,-272.235\"/>\n",
       "</g>\n",
       "<!-- 11 -->\n",
       "<g id=\"node12\" class=\"node\"><title>11</title>\n",
       "<polygon fill=\"#e58139\" fill-opacity=\"0.564706\" stroke=\"black\" points=\"1055,-219.999 903,-219.999 903,-166.999 1055,-166.999 1055,-219.999\"/>\n",
       "<text text-anchor=\"start\" x=\"911\" y=\"-204.799\" font-family=\"Times,serif\" font-size=\"14.00\">mse = 148026.306</text>\n",
       "<text text-anchor=\"start\" x=\"930\" y=\"-189.799\" font-family=\"Times,serif\" font-size=\"14.00\">samples = 24</text>\n",
       "<text text-anchor=\"start\" x=\"920\" y=\"-174.799\" font-family=\"Times,serif\" font-size=\"14.00\">value = 510.458</text>\n",
       "</g>\n",
       "<!-- 9&#45;&gt;11 -->\n",
       "<g id=\"edge11\" class=\"edge\"><title>9&#45;&gt;11</title>\n",
       "<path fill=\"none\" stroke=\"black\" d=\"M866.812,-220.521C875.711,-218.358 884.514,-216.219 893.037,-214.147\"/>\n",
       "<polygon fill=\"black\" stroke=\"black\" points=\"894.012,-217.512 902.903,-211.75 892.359,-210.71 894.012,-217.512\"/>\n",
       "</g>\n",
       "<!-- 13 -->\n",
       "<g id=\"node14\" class=\"node\"><title>13</title>\n",
       "<polygon fill=\"#e58139\" fill-opacity=\"0.580392\" stroke=\"black\" points=\"1046,-138.999 912,-138.999 912,-85.9991 1046,-85.9991 1046,-138.999\"/>\n",
       "<text text-anchor=\"start\" x=\"920\" y=\"-123.799\" font-family=\"Times,serif\" font-size=\"14.00\">mse = 136764.5</text>\n",
       "<text text-anchor=\"start\" x=\"934.5\" y=\"-108.799\" font-family=\"Times,serif\" font-size=\"14.00\">samples = 2</text>\n",
       "<text text-anchor=\"start\" x=\"929\" y=\"-93.7991\" font-family=\"Times,serif\" font-size=\"14.00\">value = 524.0</text>\n",
       "</g>\n",
       "<!-- 12&#45;&gt;13 -->\n",
       "<g id=\"edge13\" class=\"edge\"><title>12&#45;&gt;13</title>\n",
       "<path fill=\"none\" stroke=\"black\" d=\"M805.729,-112.499C836.342,-112.499 871.288,-112.499 901.667,-112.499\"/>\n",
       "<polygon fill=\"black\" stroke=\"black\" points=\"901.782,-115.999 911.782,-112.499 901.782,-108.999 901.782,-115.999\"/>\n",
       "</g>\n",
       "<!-- 14 -->\n",
       "<g id=\"node15\" class=\"node\"><title>14</title>\n",
       "<polygon fill=\"#e58139\" stroke=\"black\" points=\"1046,-56.9991 912,-56.9991 912,-3.99909 1046,-3.99909 1046,-56.9991\"/>\n",
       "<text text-anchor=\"start\" x=\"920\" y=\"-41.7991\" font-family=\"Times,serif\" font-size=\"14.00\">mse = 7400.029</text>\n",
       "<text text-anchor=\"start\" x=\"934.5\" y=\"-26.7991\" font-family=\"Times,serif\" font-size=\"14.00\">samples = 6</text>\n",
       "<text text-anchor=\"start\" x=\"920\" y=\"-11.7991\" font-family=\"Times,serif\" font-size=\"14.00\">value = 903.617</text>\n",
       "</g>\n",
       "<!-- 12&#45;&gt;14 -->\n",
       "<g id=\"edge14\" class=\"edge\"><title>12&#45;&gt;14</title>\n",
       "<path fill=\"none\" stroke=\"black\" d=\"M805.729,-86.7788C836.475,-76.7343 871.592,-65.262 902.063,-55.3071\"/>\n",
       "<polygon fill=\"black\" stroke=\"black\" points=\"903.363,-58.5645 911.782,-52.132 901.19,-51.9105 903.363,-58.5645\"/>\n",
       "</g>\n",
       "</g>\n",
       "</svg>\n"
      ],
      "text/plain": [
       "<graphviz.files.Source at 0x7fc9261a6908>"
      ]
     },
     "metadata": {},
     "output_type": "display_data"
    }
   ],
   "source": [
    "draw_tree(m.estimators_[0], X_train, precision=3)"
   ]
  },
  {
   "cell_type": "markdown",
   "metadata": {},
   "source": [
    "## 3.3 Bagging"
   ]
  },
  {
   "cell_type": "code",
   "execution_count": 62,
   "metadata": {},
   "outputs": [
    {
     "name": "stdout",
     "output_type": "stream",
     "text": [
      "CPU times: user 104 ms, sys: 12 ms, total: 116 ms\n",
      "Wall time: 111 ms\n",
      "[53.71744053403543, 86.20956856609806, 0.937381246848874, 0.827503521794181]\n"
     ]
    }
   ],
   "source": [
    "m = RandomForestRegressor(n_estimators = 10, \n",
    "                          n_jobs=-1, \n",
    "                          random_state = 1)\n",
    "%time m.fit(X_train, y_train)\n",
    "print_score(m)"
   ]
  },
  {
   "cell_type": "code",
   "execution_count": 63,
   "metadata": {},
   "outputs": [],
   "source": [
    "preds = np.stack([t.predict(X_test) for t in m.estimators_])"
   ]
  },
  {
   "cell_type": "code",
   "execution_count": 64,
   "metadata": {},
   "outputs": [
    {
     "data": {
      "text/plain": [
       "(10, 455)"
      ]
     },
     "execution_count": 64,
     "metadata": {},
     "output_type": "execute_result"
    }
   ],
   "source": [
    "preds.shape"
   ]
  },
  {
   "cell_type": "code",
   "execution_count": 65,
   "metadata": {},
   "outputs": [
    {
     "data": {
      "image/png": "[encoded data removed]",
      "text/plain": [
       "<Figure size 432x288 with 1 Axes>"
      ]
     },
     "metadata": {
      "needs_background": "light"
     },
     "output_type": "display_data"
    }
   ],
   "source": [
    "plt.plot([metrics.r2_score(y_test, np.mean(preds[:i+1], axis=0)) for i in range(10)]);"
   ]
  },
  {
   "cell_type": "code",
   "execution_count": 66,
   "metadata": {},
   "outputs": [
    {
     "name": "stdout",
     "output_type": "stream",
     "text": [
      "CPU times: user 76 ms, sys: 84 ms, total: 160 ms\n",
      "Wall time: 107 ms\n",
      "[65.4435138168636, 90.36706351169306, 0.9070590705047027, 0.8104649084235146]\n"
     ]
    }
   ],
   "source": [
    "m = RandomForestRegressor(n_estimators=4, \n",
    "                          n_jobs=-1, \n",
    "                          random_state= 1)\n",
    "%time m.fit(X_train, y_train)\n",
    "print_score(m)"
   ]
  },
  {
   "cell_type": "code",
   "execution_count": 67,
   "metadata": {},
   "outputs": [
    {
     "name": "stdout",
     "output_type": "stream",
     "text": [
      "CPU times: user 116 ms, sys: 4 ms, total: 120 ms\n",
      "Wall time: 111 ms\n",
      "[53.71744053403543, 86.20956856609806, 0.937381246848874, 0.827503521794181]\n"
     ]
    }
   ],
   "source": [
    "m = RandomForestRegressor(n_estimators=10, \n",
    "                          n_jobs=-1, \n",
    "                          random_state= 1)\n",
    "%time m.fit(X_train, y_train)\n",
    "print_score(m)"
   ]
  },
  {
   "cell_type": "code",
   "execution_count": 68,
   "metadata": {},
   "outputs": [
    {
     "name": "stdout",
     "output_type": "stream",
     "text": [
      "CPU times: user 240 ms, sys: 0 ns, total: 240 ms\n",
      "Wall time: 120 ms\n",
      "[47.8737626761821, 86.14066230110912, 0.9502642218203692, 0.8277791602884075]\n"
     ]
    }
   ],
   "source": [
    "m = RandomForestRegressor(n_estimators=20, \n",
    "                          n_jobs=-1, \n",
    "                          random_state= 1)\n",
    "%time m.fit(X_train, y_train)\n",
    "print_score(m)"
   ]
  },
  {
   "cell_type": "code",
   "execution_count": 69,
   "metadata": {},
   "outputs": [
    {
     "name": "stdout",
     "output_type": "stream",
     "text": [
      "CPU times: user 488 ms, sys: 4 ms, total: 492 ms\n",
      "Wall time: 233 ms\n",
      "[43.99050566488942, 85.41332624914689, 0.9580055690519298, 0.8306752047414119]\n"
     ]
    }
   ],
   "source": [
    "m = RandomForestRegressor(n_estimators=40, \n",
    "                          n_jobs=-1, \n",
    "                          random_state= 1)\n",
    "%time m.fit(X_train, y_train)\n",
    "print_score(m)"
   ]
  },
  {
   "cell_type": "code",
   "execution_count": 70,
   "metadata": {},
   "outputs": [
    {
     "name": "stdout",
     "output_type": "stream",
     "text": [
      "CPU times: user 1.21 s, sys: 16 ms, total: 1.22 s\n",
      "Wall time: 479 ms\n",
      "[42.092224152273495, 85.75141307417715, 0.961551664664389, 0.8293320939475204]\n"
     ]
    }
   ],
   "source": [
    "m = RandomForestRegressor(n_estimators=100, \n",
    "                          n_jobs=-1,\n",
    "                          random_state= 1)\n",
    "%time m.fit(X_train, y_train)\n",
    "print_score(m)"
   ]
  },
  {
   "cell_type": "markdown",
   "metadata": {},
   "source": [
    "We see that 40 estimators yields the higest score. Thus, we will progress using 40 as a set value when tuning the next hyperparamters."
   ]
  },
  {
   "cell_type": "markdown",
   "metadata": {},
   "source": [
    "## 3.4 Out-of-bag (OOB) score"
   ]
  },
  {
   "cell_type": "markdown",
   "metadata": {},
   "source": [
    "Our validation set is worse than our training set because we're over-fitting, or because the validation set is for a different time period, or a bit of both? With the existing information we've shown, we can't tell. However, random forests have a very clever trick called out-of-bag (OOB) error which can handle this (and more!)\n",
    "\n",
    "The idea is to calculate error on the training set, but only include the trees in the calculation of a row's error where that row was not included in training that tree. This allows us to see whether the model is over-fitting, without needing a separate validation set.\n",
    "\n",
    "This also has the benefit of allowing us to see whether our model generalizes, even if we only have a small amount of data so want to avoid separating some out to create a validation set.\n",
    "\n",
    "This is as simple as adding one more parameter to our model constructor. We print the OOB error last in our print_score function below."
   ]
  },
  {
   "cell_type": "code",
   "execution_count": 71,
   "metadata": {},
   "outputs": [
    {
     "name": "stdout",
     "output_type": "stream",
     "text": [
      "CPU times: user 492 ms, sys: 0 ns, total: 492 ms\n",
      "Wall time: 243 ms\n",
      "[43.99050566488942, 85.4133262491469, 0.9580055690519298, 0.8306752047414119, 0.7145243925690644]\n"
     ]
    }
   ],
   "source": [
    "m = RandomForestRegressor(n_estimators= 40, \n",
    "                          oob_score=True, \n",
    "                          n_jobs=-1,\n",
    "                          random_state= 1)\n",
    "%time m.fit(X_train, y_train)\n",
    "print_score(m)"
   ]
  },
  {
   "cell_type": "markdown",
   "metadata": {},
   "source": [
    "## 3.5 Reducing over-fitting"
   ]
  },
  {
   "cell_type": "markdown",
   "metadata": {},
   "source": [
    "### 3.5.1 Subsampling"
   ]
  },
  {
   "cell_type": "markdown",
   "metadata": {},
   "source": [
    "We are now going to experiment with the **fastai** feature `set_rf_samples()`"
   ]
  },
  {
   "cell_type": "code",
   "execution_count": 72,
   "metadata": {},
   "outputs": [],
   "source": [
    "set_rf_samples(400)"
   ]
  },
  {
   "cell_type": "code",
   "execution_count": 73,
   "metadata": {},
   "outputs": [
    {
     "name": "stdout",
     "output_type": "stream",
     "text": [
      "CPU times: user 208 ms, sys: 4 ms, total: 212 ms\n",
      "Wall time: 159 ms\n",
      "[108.78154833335724, 113.7941790700281, 0.7432063594063982, 0.6994550856292621, 0.6060755940535076]\n"
     ]
    }
   ],
   "source": [
    "m = RandomForestRegressor(n_estimators= 40, \n",
    "                          oob_score=True, \n",
    "                          n_jobs=-1, \n",
    "                          random_state= 1)\n",
    "%time m.fit(X_train, y_train)\n",
    "print_score(m)"
   ]
  },
  {
   "cell_type": "code",
   "execution_count": 74,
   "metadata": {},
   "outputs": [],
   "source": [
    "set_rf_samples(800)"
   ]
  },
  {
   "cell_type": "code",
   "execution_count": 75,
   "metadata": {},
   "outputs": [
    {
     "name": "stdout",
     "output_type": "stream",
     "text": [
      "CPU times: user 308 ms, sys: 4 ms, total: 312 ms\n",
      "Wall time: 145 ms\n",
      "[76.9304349410856, 93.71425335813919, 0.8715689101421651, 0.7961641408822228, 0.694941134289963]\n"
     ]
    }
   ],
   "source": [
    "m = RandomForestRegressor(n_estimators= 40, \n",
    "                          oob_score=True, \n",
    "                          n_jobs=-1,\n",
    "                          random_state= 1)\n",
    "%time m.fit(X_train, y_train)\n",
    "print_score(m)"
   ]
  },
  {
   "cell_type": "code",
   "execution_count": 76,
   "metadata": {},
   "outputs": [],
   "source": [
    "set_rf_samples(1600)"
   ]
  },
  {
   "cell_type": "code",
   "execution_count": 77,
   "metadata": {},
   "outputs": [
    {
     "name": "stdout",
     "output_type": "stream",
     "text": [
      "CPU times: user 452 ms, sys: 12 ms, total: 464 ms\n",
      "Wall time: 244 ms\n",
      "[48.805705533331164, 85.1594435266303, 0.9483089941746425, 0.831680311371487, 0.7152609777566257]\n"
     ]
    }
   ],
   "source": [
    "m = RandomForestRegressor(n_estimators= 40, \n",
    "                          oob_score=True, \n",
    "                          n_jobs=-1,\n",
    "                          random_state= 1)\n",
    "%time m.fit(X_train, y_train)\n",
    "print_score(m)"
   ]
  },
  {
   "cell_type": "code",
   "execution_count": 78,
   "metadata": {},
   "outputs": [],
   "source": [
    "set_rf_samples(2400)"
   ]
  },
  {
   "cell_type": "code",
   "execution_count": 79,
   "metadata": {},
   "outputs": [
    {
     "name": "stdout",
     "output_type": "stream",
     "text": [
      "CPU times: user 556 ms, sys: 0 ns, total: 556 ms\n",
      "Wall time: 242 ms\n",
      "[31.619327271042962, 81.20251919588219, 0.9783040313954738, 0.8469588237372547, 0.7227069865989565]\n"
     ]
    }
   ],
   "source": [
    "m = RandomForestRegressor(n_estimators= 40, \n",
    "                          oob_score=True, \n",
    "                          n_jobs=-1, \n",
    "                          random_state= 1)\n",
    "%time m.fit(X_train, y_train)\n",
    "print_score(m)"
   ]
  },
  {
   "cell_type": "markdown",
   "metadata": {},
   "source": [
    "Unfortunatley, again due to the poorness of the dataset we cannot assess the impact this hyperparamter has as the best score is achieved by a sub_sample of 2400, which is more than the actual number of rows. \n",
    "\n",
    "Hence, we decide not to use this hyperparameter."
   ]
  },
  {
   "cell_type": "code",
   "execution_count": 80,
   "metadata": {},
   "outputs": [],
   "source": [
    "reset_rf_samples()"
   ]
  },
  {
   "cell_type": "markdown",
   "metadata": {},
   "source": [
    "### 3.5.2 Tree building parameters"
   ]
  },
  {
   "cell_type": "markdown",
   "metadata": {},
   "source": [
    "Another way to reduce over-fitting is to grow our trees less deeply. We do this by specifying (with min_samples_leaf) that we require some minimum number of rows in every leaf node. This has two benefits:\n",
    "\n",
    "There are less decision rules for each leaf node; simpler models should generalize better\n",
    "The predictions are made by averaging more rows in the leaf node, resulting in less volatility. We will use the earlier computed `dectree_max_depth` function"
   ]
  },
  {
   "cell_type": "code",
   "execution_count": 82,
   "metadata": {},
   "outputs": [],
   "source": [
    "t=m.estimators_[0].tree_"
   ]
  },
  {
   "cell_type": "code",
   "execution_count": 83,
   "metadata": {},
   "outputs": [
    {
     "data": {
      "text/plain": [
       "33"
      ]
     },
     "execution_count": 83,
     "metadata": {},
     "output_type": "execute_result"
    }
   ],
   "source": [
    "dectree_max_depth(t)"
   ]
  },
  {
   "cell_type": "markdown",
   "metadata": {},
   "source": [
    "We do this by specifying (with `min_samples_leaf`) that we require some minimum number of rows in every leaf node. This has two benefits:\n",
    "\n",
    "- There are less decision rules for each leaf node; simpler models should generalize better\n",
    "- The predictions are made by averaging more rows in the leaf node, resulting in less volatility"
   ]
  },
  {
   "cell_type": "markdown",
   "metadata": {},
   "source": [
    "We will test the following: 1,3,5"
   ]
  },
  {
   "cell_type": "code",
   "execution_count": 84,
   "metadata": {},
   "outputs": [
    {
     "name": "stdout",
     "output_type": "stream",
     "text": [
      "CPU times: user 488 ms, sys: 4 ms, total: 492 ms\n",
      "Wall time: 244 ms\n",
      "[43.99050566488942, 85.4133262491469, 0.9580055690519298, 0.8306752047414119, 0.7145243925690644]\n"
     ]
    }
   ],
   "source": [
    "m = RandomForestRegressor(n_estimators=40, \n",
    "                          min_samples_leaf=1, \n",
    "                          n_jobs=-1, \n",
    "                          oob_score=True, \n",
    "                          random_state= 1)\n",
    "%time m.fit(X_train, y_train)\n",
    "print_score(m)"
   ]
  },
  {
   "cell_type": "code",
   "execution_count": 85,
   "metadata": {},
   "outputs": [
    {
     "ename": "SyntaxError",
     "evalue": "invalid syntax (<ipython-input-85-882aa5d43a37>, line 2)",
     "output_type": "error",
     "traceback": [
      "\u001b[0;36m  File \u001b[0;32m\"<ipython-input-85-882aa5d43a37>\"\u001b[0;36m, line \u001b[0;32m2\u001b[0m\n\u001b[0;31m    &time m.fit(X_train, y_train)\u001b[0m\n\u001b[0m    ^\u001b[0m\n\u001b[0;31mSyntaxError\u001b[0m\u001b[0;31m:\u001b[0m invalid syntax\n"
     ]
    }
   ],
   "source": [
    "m = RandomForestRegressor(n_estimators=40, \n",
    "                          min_samples_leaf=3, \n",
    "                          n_jobs=-1, \n",
    "                          oob_score=True,\n",
    "                          random_state= 1)\n",
    "%time m.fit(X_train, y_train)\n",
    "print_score(m)"
   ]
  },
  {
   "cell_type": "code",
   "execution_count": null,
   "metadata": {},
   "outputs": [],
   "source": [
    "m = RandomForestRegressor(n_estimators=40, \n",
    "                          min_samples_leaf=10, \n",
    "                          n_jobs=-1, \n",
    "                          oob_score=True, \n",
    "                          random_state= 1)\n",
    "%time m.fit(X_train, y_train)\n",
    "print_score(m)"
   ]
  },
  {
   "cell_type": "markdown",
   "metadata": {},
   "source": [
    "We see that `min_samples_leaf` = 1 yields the most predictive outcome thus far.\n",
    "Nevertheless, it reduces our accuracy on predicting the test set by 0.2."
   ]
  },
  {
   "cell_type": "markdown",
   "metadata": {},
   "source": [
    "We can also increase the amount of variation amongst the trees by not only use a sample of rows for each tree, but to also using a sample of *columns* for each *split*. We do this by specifying `max_features`, which is the proportion of features to randomly select from at each split."
   ]
  },
  {
   "cell_type": "code",
   "execution_count": null,
   "metadata": {},
   "outputs": [],
   "source": [
    "m = RandomForestRegressor(n_estimators=40, \n",
    "                          min_samples_leaf=1, \n",
    "                          max_features=\"log2\", \n",
    "                          n_jobs=-1, \n",
    "                          oob_score=True)\n",
    "%time m.fit(X_train, y_train)\n",
    "print_score(m)"
   ]
  },
  {
   "cell_type": "markdown",
   "metadata": {},
   "source": [
    "We notice that due to the lack of data our model is generlaising pretty well, but both the score of the training set and of the sample set decreased.\n",
    "\n",
    "Hence, we conclude that `max_features` is not useful in this instance."
   ]
  },
  {
   "cell_type": "markdown",
   "metadata": {},
   "source": [
    "### 3.5.3 Summary - Reducing overfitting. "
   ]
  },
  {
   "cell_type": "markdown",
   "metadata": {},
   "source": [
    "Thus far, we have seen how hyperparamter tuning affects our model predictions and understood that the lack of extensive data does influence our predictions. \n",
    "\n",
    "- `n_jobs` allows us to run our model faster by deciding how many CPUs we are going to use. \n",
    "- `n_estimators` helps us decide the number of trees in our Random Foster.\n",
    "- `oob_score` allows us to calculate the obb_score.\n",
    "- `set_rf_sample` allows us to extract a random subset of the training data and form a tree with each subset. This in  turn increases the generalisation of the model's prediction when testing it against the data.\n",
    "- `min_samples_leaf` helps us decide the depth of our tree. The idea is to create simpler trees, which predict worse when picking them singularly but in turn are less correlated with each other. This again enhances the generalisation capabilities of the model and makes it more accurate when predicting unseen data.\n",
    "- `max_features` allows us to dictate the feature used at each split of each tree. This is a fairly new hyperparamter, but the results shown by the skelearn documentation [show an example](http://scikit-learn.org/stable/auto_examples/ensemble/plot_ensemble_oob.html) of different `max_features` methods with increasing numbers of trees - as you see, using a subset of features on each split requires using more trees, but results in better models:\n",
    "![sklearn max_features chart](http://scikit-learn.org/stable/_images/sphx_glr_plot_ensemble_oob_001.png)"
   ]
  },
  {
   "cell_type": "markdown",
   "metadata": {},
   "source": [
    "Nevertheless, non of these hyperparameter increased the predictions. This is an issue with has to do with the data and its narrow properties.\n",
    "It might be possible that the prediction would increase exponentially if the same approach is used with a more extensive dataset (ex. 100k+ rows, 100+ columns)."
   ]
  },
  {
   "cell_type": "markdown",
   "metadata": {},
   "source": [
    "## 3.6 Feature Importance"
   ]
  },
  {
   "cell_type": "code",
   "execution_count": 86,
   "metadata": {},
   "outputs": [
    {
     "name": "stdout",
     "output_type": "stream",
     "text": [
      "CPU times: user 468 ms, sys: 16 ms, total: 484 ms\n",
      "Wall time: 252 ms\n",
      "[43.99050566488942, 85.4133262491469, 0.9580055690519298, 0.8306752047414119, 0.7145243925690644]\n"
     ]
    }
   ],
   "source": [
    "m = RandomForestRegressor(n_estimators=40, \n",
    "                          min_samples_leaf=1, \n",
    "                          n_jobs=-1, \n",
    "                          oob_score=True, \n",
    "                          random_state= 1)\n",
    "%time m.fit(X_train, y_train)\n",
    "print_score(m)"
   ]
  },
  {
   "cell_type": "markdown",
   "metadata": {},
   "source": [
    "We saw how the model averages predictions across the trees to get an estimate. But how can we know the confidence of the estimate? \n",
    "\n",
    "One simple way is to use the standard deviation of predictions, instead of just the mean. This tells us the relative confidence of predictions - that is, for rows where the trees give very different results, you would want to be more cautious of using those results, compared to cases where they are more consistent."
   ]
  },
  {
   "cell_type": "markdown",
   "metadata": {},
   "source": [
    "It's not normally enough to just to know that a model can make accurate predictions - we also want to know how it's making predictions. The most important way to see this is with feature importance."
   ]
  },
  {
   "cell_type": "code",
   "execution_count": 87,
   "metadata": {
    "scrolled": true
   },
   "outputs": [
    {
     "data": {
      "text/html": [
       "<div>\n",
       "<style scoped>\n",
       "    .dataframe tbody tr th:only-of-type {\n",
       "        vertical-align: middle;\n",
       "    }\n",
       "\n",
       "    .dataframe tbody tr th {\n",
       "        vertical-align: top;\n",
       "    }\n",
       "\n",
       "    .dataframe thead th {\n",
       "        text-align: right;\n",
       "    }\n",
       "</style>\n",
       "<table border=\"1\" class=\"dataframe\">\n",
       "  <thead>\n",
       "    <tr style=\"text-align: right;\">\n",
       "      <th></th>\n",
       "      <th>cols</th>\n",
       "      <th>imp</th>\n",
       "    </tr>\n",
       "  </thead>\n",
       "  <tbody>\n",
       "    <tr>\n",
       "      <th>19</th>\n",
       "      <td>completed_Elapsed</td>\n",
       "      <td>0.350546</td>\n",
       "    </tr>\n",
       "    <tr>\n",
       "      <th>12</th>\n",
       "      <td>completed_Dayofyear</td>\n",
       "      <td>0.180858</td>\n",
       "    </tr>\n",
       "    <tr>\n",
       "      <th>10</th>\n",
       "      <td>completed_Day</td>\n",
       "      <td>0.172178</td>\n",
       "    </tr>\n",
       "    <tr>\n",
       "      <th>1</th>\n",
       "      <td>paid_out_gbp</td>\n",
       "      <td>0.068540</td>\n",
       "    </tr>\n",
       "    <tr>\n",
       "      <th>11</th>\n",
       "      <td>completed_Dayofweek</td>\n",
       "      <td>0.046289</td>\n",
       "    </tr>\n",
       "    <tr>\n",
       "      <th>0</th>\n",
       "      <td>description</td>\n",
       "      <td>0.040662</td>\n",
       "    </tr>\n",
       "    <tr>\n",
       "      <th>2</th>\n",
       "      <td>paid_in_gbp</td>\n",
       "      <td>0.039943</td>\n",
       "    </tr>\n",
       "    <tr>\n",
       "      <th>9</th>\n",
       "      <td>completed_Week</td>\n",
       "      <td>0.034128</td>\n",
       "    </tr>\n",
       "    <tr>\n",
       "      <th>5</th>\n",
       "      <td>category</td>\n",
       "      <td>0.027842</td>\n",
       "    </tr>\n",
       "    <tr>\n",
       "      <th>8</th>\n",
       "      <td>completed_Month</td>\n",
       "      <td>0.013501</td>\n",
       "    </tr>\n",
       "  </tbody>\n",
       "</table>\n",
       "</div>"
      ],
      "text/plain": [
       "                   cols       imp\n",
       "19    completed_Elapsed  0.350546\n",
       "12  completed_Dayofyear  0.180858\n",
       "10        completed_Day  0.172178\n",
       "1          paid_out_gbp  0.068540\n",
       "11  completed_Dayofweek  0.046289\n",
       "0           description  0.040662\n",
       "2           paid_in_gbp  0.039943\n",
       "9        completed_Week  0.034128\n",
       "5              category  0.027842\n",
       "8       completed_Month  0.013501"
      ]
     },
     "execution_count": 87,
     "metadata": {},
     "output_type": "execute_result"
    }
   ],
   "source": [
    "fi = rf_feat_importance(m, X_train); fi[:10]"
   ]
  },
  {
   "cell_type": "code",
   "execution_count": 88,
   "metadata": {
    "scrolled": true
   },
   "outputs": [
    {
     "data": {
      "image/png": "[encoded data removed]",
      "text/plain": [
       "<Figure size 720x432 with 1 Axes>"
      ]
     },
     "metadata": {
      "needs_background": "light"
     },
     "output_type": "display_data"
    }
   ],
   "source": [
    "fi.plot('cols', 'imp', figsize=(10,6), legend=False);"
   ]
  },
  {
   "cell_type": "code",
   "execution_count": 89,
   "metadata": {},
   "outputs": [],
   "source": [
    "def plot_fi(fi): return fi.plot('cols', 'imp', 'barh', figsize=(12,7), legend=False)"
   ]
  },
  {
   "cell_type": "code",
   "execution_count": 90,
   "metadata": {},
   "outputs": [
    {
     "data": {
      "image/png": "[encoded data removed]",
      "text/plain": [
       "<Figure size 864x504 with 1 Axes>"
      ]
     },
     "metadata": {
      "needs_background": "light"
     },
     "output_type": "display_data"
    }
   ],
   "source": [
    "plot_fi(fi);"
   ]
  },
  {
   "cell_type": "code",
   "execution_count": 91,
   "metadata": {},
   "outputs": [
    {
     "data": {
      "text/plain": [
       "17"
      ]
     },
     "execution_count": 91,
     "metadata": {},
     "output_type": "execute_result"
    }
   ],
   "source": [
    "to_keep = fi[fi.imp>0.0001].cols; len(to_keep)"
   ]
  },
  {
   "cell_type": "code",
   "execution_count": 92,
   "metadata": {},
   "outputs": [
    {
     "data": {
      "text/plain": [
       "19             completed_Elapsed\n",
       "12           completed_Dayofyear\n",
       "10                 completed_Day\n",
       "1                   paid_out_gbp\n",
       "11           completed_Dayofweek\n",
       "0                    description\n",
       "2                    paid_in_gbp\n",
       "9                 completed_Week\n",
       "5                       category\n",
       "8                completed_Month\n",
       "3                   exchange_out\n",
       "13        completed_Is_month_end\n",
       "6                          notes\n",
       "14      completed_Is_month_start\n",
       "16    completed_Is_quarter_start\n",
       "7                 completed_Year\n",
       "15      completed_Is_quarter_end\n",
       "Name: cols, dtype: object"
      ]
     },
     "execution_count": 92,
     "metadata": {},
     "output_type": "execute_result"
    }
   ],
   "source": [
    "to_keep"
   ]
  },
  {
   "cell_type": "code",
   "execution_count": 93,
   "metadata": {},
   "outputs": [],
   "source": [
    "df = df_raw[to_keep].copy()"
   ]
  },
  {
   "cell_type": "code",
   "execution_count": 94,
   "metadata": {},
   "outputs": [],
   "source": [
    "X_train, X_test, y_train, y_test = train_test_split(df, y, test_size=0.2, random_state = 1)"
   ]
  },
  {
   "cell_type": "code",
   "execution_count": 95,
   "metadata": {},
   "outputs": [
    {
     "data": {
      "text/plain": [
       "((1817, 17), (455, 17), (1817,), (455,))"
      ]
     },
     "execution_count": 95,
     "metadata": {},
     "output_type": "execute_result"
    }
   ],
   "source": [
    "X_train.shape, X_test.shape, y_train.shape, y_test.shape"
   ]
  },
  {
   "cell_type": "code",
   "execution_count": 96,
   "metadata": {},
   "outputs": [
    {
     "name": "stdout",
     "output_type": "stream",
     "text": [
      "CPU times: user 488 ms, sys: 8 ms, total: 496 ms\n",
      "Wall time: 244 ms\n",
      "[44.201761114098225, 85.96540999349168, 0.9576012611608505, 0.8284792105593345, 0.7120278861509294]\n"
     ]
    }
   ],
   "source": [
    "m = RandomForestRegressor(n_estimators=40, \n",
    "                          min_samples_leaf=1, \n",
    "                          n_jobs=-1, \n",
    "                          oob_score=True, \n",
    "                          random_state= 1)\n",
    "%time m.fit(X_train, y_train)\n",
    "print_score(m)"
   ]
  },
  {
   "cell_type": "code",
   "execution_count": 97,
   "metadata": {},
   "outputs": [],
   "source": [
    "### This project is currently under developement. "
   ]
  },
  {
   "cell_type": "code",
   "execution_count": null,
   "metadata": {},
   "outputs": [],
   "source": []
  }
 ],
 "metadata": {
  "kernelspec": {
   "display_name": "Python 3",
   "language": "python",
   "name": "python3"
  },
  "language_info": {
   "codemirror_mode": {
    "name": "ipython",
    "version": 3
   },
   "file_extension": ".py",
   "mimetype": "text/x-python",
   "name": "python",
   "nbconvert_exporter": "python",
   "pygments_lexer": "ipython3",
   "version": "3.6.5"
  }
 },
 "nbformat": 4,
 "nbformat_minor": 2
}
